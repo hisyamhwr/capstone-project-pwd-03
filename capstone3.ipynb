{
  "cells": [
    {
      "cell_type": "markdown",
      "metadata": {
        "id": "e2YySnWypfEG"
      },
      "source": [
        "# 1. Background and Problem Statement"
      ]
    },
    {
      "cell_type": "markdown",
      "metadata": {},
      "source": [
        "**Studi kasus:** Memprediksi nilai median rumah di wilayah sensus California untuk mendukung perencanaan, penentuan harga, dan analisis risiko."
      ]
    },
    {
      "cell_type": "markdown",
      "metadata": {
        "id": "roP3EMGElS2R"
      },
      "source": [
        "## 1.1 Latar Belakang:\n",
        "Pasar real estate di California adalah salah satu yang paling dinamis di Amerika Serikat. Dengan populasi yang terus meningkat dan permintaan perumahan yang tinggi. Fluktuasi harga rumah di California berdampak besar terhadap perencanaan pemerintah, studi kelayakan pengembang, serta analisis risiko lembaga keuangan. Dengan adanya model prediksi berbasis data, estimasi harga rumah dapat dilakukan lebih cepat dan akurat tanpa harus melakukan survei manual yang mahal.\n",
        "\n",
        "Prediksi harga rumah yang akurat dapat membantu dalam pengambilan keputusan yang lebih baik, mengidentifikasi peluang investasi, dan mengelola portofolio properti dengan lebih efektif. Bagi agen properti, investor, dan pengembang real estate, menentukan harga jual rumah yang sesuai dengan kondisi pasar menjadi tantangan besar. Kesalahan dalam estimasi harga lebih dari 10% dapat berdampak pada:\n",
        "- Rumah sulit terjual (harga terlalu tinggi)\n",
        "- Kerugian bagi penjual (harga terlalu rendah)\n",
        "- Penurunan kepercayaan dari klien dan pembeli"
      ]
    },
    {
      "cell_type": "markdown",
      "metadata": {},
      "source": [
        "### Pemangku Kepentingan (Stakeholder) & Kebutuhan\n",
        "\n",
        "- Dinas/Departemen Perumahan & Tata Kota: Menentukan prioritas pembangunan infrastruktur dan memprediksi potensi pajak daerah.\n",
        "\n",
        "- Pengembang Properti: Melakukan studi kelayakan lahan dan menentukan segmentasi harga rumah berdasarkan lokasi dan kondisi sosial ekonomi.\n",
        "\n",
        "- Bank / Lembaga Keuangan: Menilai risiko kredit (Loan to Value) sebelum memberikan pinjaman.\n",
        "\n",
        "- Agen / Platform Properti: Menetapkan harga iklan properti secara dinamis dan cepat."
      ]
    },
    {
      "cell_type": "markdown",
      "metadata": {},
      "source": [
        "## 1.2 Rumusan Masalah\n",
        "Masalah ini muncul karena metode manual atau berbasis regresi sederhana sering kali tidak mampu menangkap hubungan kompleks antara berbagai faktor ekonomi dan geografis. Oleh karena itu, pendekatan berbasis machine learning dengan berbagai algoritma perlu dievaluasi untuk menemukan model terbaik yang sesuai dengan kebutuhan bisnis.\n",
        "\n",
        "**Mengapa Menggunakan ML?**\n",
        "Harga rumah dipengaruhi oleh banyak faktor non-linear seperti pendapatan, jarak ke laut, kepadatan penduduk, dan usia bangunan. ML mampu menangkap hubungan kompleks tersebut lebih baik daripada rumus linier sederhana.\n",
        "\n",
        "**Integrasi dalam Keputusan Bisnis**\n",
        "- Pemerintah: Mengidentifikasi wilayah yang layak untuk program rumah terjangkau.\n",
        "- Pengembang: Menggunakan prediksi sebagai input studi kelayakan proyek baru.\n",
        "- Bank: Menetapkan batas pinjaman berdasarkan estimasi harga rumah yang lebih akurat.\n",
        "\n",
        "**Business Goals**\n",
        "\n",
        "Tujuan utama dari proyek ini adalah membangun model machine learning yang dapat memprediksi median harga rumah di California secara akurat berdasarkan faktor-faktor geografis dan demografis.\n",
        "Secara spesifik, target yang ingin dicapai adalah:\n",
        "\n",
        "- Menghasilkan model regresi dengan nilai R² ≥ 0.8\n",
        "- Menurunkan error prediksi (RMSE) serendah mungkin\n",
        "- Memberikan insight fitur-fitur yang paling berpengaruh terhadap harga rumah, sehingga dapat menjadi dasar pengambilan keputusan bisnis"
      ]
    },
    {
      "cell_type": "markdown",
      "metadata": {},
      "source": [
        "## 1.3 Tujuan\n",
        "Tujuan dari proyek ini adalah untuk mengembangkan model prediksi harga rumah yang mampu memperkirakan median harga rumah di California secara akurat dan efisien. Model ini diharapkan dapat:\n",
        "- Membantu pengembang properti dan agen real estate dalam menentukan harga jual yang optimal.\n",
        "- Mendukung pemerintah daerah dalam merencanakan kebijakan perumahan dan zonasi.\n",
        "- Memberikan insight bagi investor untuk menentukan lokasi investasi yang strategis."
      ]
    },
    {
      "cell_type": "markdown",
      "metadata": {},
      "source": [
        "## 1.4 Pertanyaan Bisnis\n",
        "\n",
        "- Seberapa akurat model machine learning dalam memprediksi harga rumah di berbagai wilayah di California?\n",
        "- Bagaimana performa berbagai algoritma seperti regresi linear, decision tree, random forest, KNN, dan ensemble learning dalam memprediksi harga rumah?\n",
        "- Faktor apa saja yang paling berpengaruh terhadap nilai rumah di California?"
      ]
    },
    {
      "cell_type": "markdown",
      "metadata": {},
      "source": [
        "## 1.5 Lingkup Pekerjaan  \n",
        "1. **Data Cleaning dan Manipulasi**  \n",
        "   - Menangani nilai hilang dan data yang tidak konsisten.  \n",
        "   - Mengidentifikasi dan menangani *outlier* ekstrem.  \n",
        "\n",
        "2. **Eksplorasi Data (EDA)**  \n",
        "   - Menganalisis distribusi harga rumah dan pendapatan.  \n",
        "   - Menganalisis pengaruh `ocean_proximity` terhadap harga rumah.  \n",
        "   - Melihat hubungan antar fitur dengan target (*bivariate analysis*).  \n",
        "\n",
        "3. **Pra-pemrosesan Data**  \n",
        "   - Melakukan *encoding* pada fitur kategorikal (`ocean_proximity`).  \n",
        "   - Normalisasi atau standarisasi fitur numerik.  \n",
        "   - Membagi data menjadi *training set* dan *testing set*.  \n",
        "\n",
        "4. **Pengembangan Model**  \n",
        "   - Membangun dan membandingkan beberapa model:  \n",
        "     `Linear Regression`, `Decision Tree`, `Random Forest`, `KNN`, dan *Stacking Ensemble*.  \n",
        "   - Melakukan *cross-validation* untuk memastikan kemampuan generalisasi.  \n",
        "\n",
        "5. **Evaluasi Model**  \n",
        "   - Menggunakan metrik evaluasi: **MSE**, **RMSE**, **MAPE**, dan **R²**.  \n",
        "   - Membandingkan performa antar model dan memilih model terbaik.  \n",
        "\n",
        "6. **Interpretasi Hasil**  \n",
        "   - Mengidentifikasi fitur paling berpengaruh terhadap harga rumah.  \n",
        "   - Menganalisis kesalahan prediksi dan memberikan rekomendasi perbaikan.  "
      ]
    },
    {
      "cell_type": "markdown",
      "metadata": {},
      "source": [
        "## 1.6 Hasil yang Diharapkan  \n",
        "- Tersusunnya model *machine learning* yang dapat memprediksi median harga rumah di California dengan **akurasi tinggi**.  \n",
        "- Diperolehnya **pemahaman mendalam tentang faktor-faktor utama** yang memengaruhi harga rumah.  \n",
        "- Dokumentasi lengkap mencakup seluruh proses mulai dari eksplorasi data, pra-pemrosesan, pemodelan, evaluasi, hingga interpretasi hasil.  \n",
        "- Model yang dapat digunakan oleh pelaku bisnis real estate sebagai dasar **pengambilan keputusan yang lebih strategis dan berbasis data.**"
      ]
    },
    {
      "cell_type": "markdown",
      "metadata": {},
      "source": [
        "## 1.7 Kesimpulan  \n",
        "Proyek ini bertujuan untuk menerapkan algoritma *machine learning* guna meningkatkan efisiensi dan akurasi dalam memperkirakan harga rumah di California.  \n",
        "Dengan model prediksi yang andal, pelaku bisnis dan pemerintah dapat memperoleh informasi yang lebih cepat dan tepat, sehingga keputusan strategis dalam pembelian, penjualan, maupun investasi properti menjadi lebih optimal."
      ]
    },
    {
      "cell_type": "markdown",
      "metadata": {
        "id": "riEB1gI50-ZF"
      },
      "source": [
        "## Penjelasan Data\n",
        "1. longitude: A measure of how far west a house is; a higher value is farther west\n",
        "2. latitude: A measure of how far north a house is; a higher value is farther north\n",
        "3. housingMedianAge: Median age of a house within a block; a lower number is a newer building\n",
        "4. totalRooms: Total number of rooms within a block\n",
        "5. totalBedrooms: Total number of bedrooms within a block\n",
        "6. population: Total number of people residing within a block\n",
        "7. households: Total number of households, a group of people residing within a home unit, for a block\n",
        "8. medianIncome: Median income for households within a block of houses (measured in tens of thousands of US Dollars)\n",
        "9. medianHouseValue: Median house value for households within a block (measured in US Dollars)\n",
        "10. oceanProximity: Location of the house w.r.t ocean/sea"
      ]
    },
    {
      "cell_type": "markdown",
      "metadata": {
        "id": "vDsqvQcSgBCQ"
      },
      "source": [
        "# 2. Data Preparation\n",
        "\n",
        "- Importing Libraries\n",
        "- Importing Dataset"
      ]
    },
    {
      "cell_type": "code",
      "execution_count": 1,
      "metadata": {
        "id": "K3vOkcSbdX2n"
      },
      "outputs": [],
      "source": [
        "# Import library yang dibutuhkan untuk eksplorasi dataset\n",
        "import pandas as pd\n",
        "import numpy as np\n",
        "import matplotlib.pyplot as plt\n",
        "import seaborn as sns\n",
        "\n",
        "from sklearn.impute import KNNImputer\n",
        "\n",
        "import folium\n",
        "from folium.plugins import MarkerCluster\n",
        "\n",
        "import warnings\n",
        "warnings.filterwarnings('ignore')"
      ]
    },
    {
      "cell_type": "code",
      "execution_count": 175,
      "metadata": {},
      "outputs": [],
      "source": [
        "dataset_path = '/Users/sann/Downloads/Capstone modul 3/'"
      ]
    },
    {
      "cell_type": "code",
      "execution_count": 176,
      "metadata": {},
      "outputs": [
        {
          "data": {
            "text/html": [
              "<div>\n",
              "<style scoped>\n",
              "    .dataframe tbody tr th:only-of-type {\n",
              "        vertical-align: middle;\n",
              "    }\n",
              "\n",
              "    .dataframe tbody tr th {\n",
              "        vertical-align: top;\n",
              "    }\n",
              "\n",
              "    .dataframe thead th {\n",
              "        text-align: right;\n",
              "    }\n",
              "</style>\n",
              "<table border=\"1\" class=\"dataframe\">\n",
              "  <thead>\n",
              "    <tr style=\"text-align: right;\">\n",
              "      <th></th>\n",
              "      <th>longitude</th>\n",
              "      <th>latitude</th>\n",
              "      <th>housing_median_age</th>\n",
              "      <th>total_rooms</th>\n",
              "      <th>total_bedrooms</th>\n",
              "      <th>population</th>\n",
              "      <th>households</th>\n",
              "      <th>median_income</th>\n",
              "      <th>ocean_proximity</th>\n",
              "      <th>median_house_value</th>\n",
              "    </tr>\n",
              "  </thead>\n",
              "  <tbody>\n",
              "    <tr>\n",
              "      <th>0</th>\n",
              "      <td>-119.79</td>\n",
              "      <td>36.73</td>\n",
              "      <td>52.0</td>\n",
              "      <td>112.0</td>\n",
              "      <td>28.0</td>\n",
              "      <td>193.0</td>\n",
              "      <td>40.0</td>\n",
              "      <td>1.9750</td>\n",
              "      <td>INLAND</td>\n",
              "      <td>47500.0</td>\n",
              "    </tr>\n",
              "    <tr>\n",
              "      <th>1</th>\n",
              "      <td>-122.21</td>\n",
              "      <td>37.77</td>\n",
              "      <td>43.0</td>\n",
              "      <td>1017.0</td>\n",
              "      <td>328.0</td>\n",
              "      <td>836.0</td>\n",
              "      <td>277.0</td>\n",
              "      <td>2.2604</td>\n",
              "      <td>NEAR BAY</td>\n",
              "      <td>100000.0</td>\n",
              "    </tr>\n",
              "    <tr>\n",
              "      <th>2</th>\n",
              "      <td>-118.04</td>\n",
              "      <td>33.87</td>\n",
              "      <td>17.0</td>\n",
              "      <td>2358.0</td>\n",
              "      <td>396.0</td>\n",
              "      <td>1387.0</td>\n",
              "      <td>364.0</td>\n",
              "      <td>6.2990</td>\n",
              "      <td>&lt;1H OCEAN</td>\n",
              "      <td>285800.0</td>\n",
              "    </tr>\n",
              "    <tr>\n",
              "      <th>3</th>\n",
              "      <td>-118.28</td>\n",
              "      <td>34.06</td>\n",
              "      <td>17.0</td>\n",
              "      <td>2518.0</td>\n",
              "      <td>1196.0</td>\n",
              "      <td>3051.0</td>\n",
              "      <td>1000.0</td>\n",
              "      <td>1.7199</td>\n",
              "      <td>&lt;1H OCEAN</td>\n",
              "      <td>175000.0</td>\n",
              "    </tr>\n",
              "    <tr>\n",
              "      <th>4</th>\n",
              "      <td>-119.81</td>\n",
              "      <td>36.73</td>\n",
              "      <td>50.0</td>\n",
              "      <td>772.0</td>\n",
              "      <td>194.0</td>\n",
              "      <td>606.0</td>\n",
              "      <td>167.0</td>\n",
              "      <td>2.2206</td>\n",
              "      <td>INLAND</td>\n",
              "      <td>59200.0</td>\n",
              "    </tr>\n",
              "    <tr>\n",
              "      <th>...</th>\n",
              "      <td>...</td>\n",
              "      <td>...</td>\n",
              "      <td>...</td>\n",
              "      <td>...</td>\n",
              "      <td>...</td>\n",
              "      <td>...</td>\n",
              "      <td>...</td>\n",
              "      <td>...</td>\n",
              "      <td>...</td>\n",
              "      <td>...</td>\n",
              "    </tr>\n",
              "    <tr>\n",
              "      <th>14443</th>\n",
              "      <td>-121.26</td>\n",
              "      <td>38.27</td>\n",
              "      <td>20.0</td>\n",
              "      <td>1314.0</td>\n",
              "      <td>229.0</td>\n",
              "      <td>712.0</td>\n",
              "      <td>219.0</td>\n",
              "      <td>4.4125</td>\n",
              "      <td>INLAND</td>\n",
              "      <td>144600.0</td>\n",
              "    </tr>\n",
              "    <tr>\n",
              "      <th>14444</th>\n",
              "      <td>-120.89</td>\n",
              "      <td>37.48</td>\n",
              "      <td>27.0</td>\n",
              "      <td>1118.0</td>\n",
              "      <td>195.0</td>\n",
              "      <td>647.0</td>\n",
              "      <td>209.0</td>\n",
              "      <td>2.9135</td>\n",
              "      <td>INLAND</td>\n",
              "      <td>159400.0</td>\n",
              "    </tr>\n",
              "    <tr>\n",
              "      <th>14445</th>\n",
              "      <td>-121.90</td>\n",
              "      <td>36.58</td>\n",
              "      <td>31.0</td>\n",
              "      <td>1431.0</td>\n",
              "      <td>NaN</td>\n",
              "      <td>704.0</td>\n",
              "      <td>393.0</td>\n",
              "      <td>3.1977</td>\n",
              "      <td>NEAR OCEAN</td>\n",
              "      <td>289300.0</td>\n",
              "    </tr>\n",
              "    <tr>\n",
              "      <th>14446</th>\n",
              "      <td>-117.93</td>\n",
              "      <td>33.62</td>\n",
              "      <td>34.0</td>\n",
              "      <td>2125.0</td>\n",
              "      <td>498.0</td>\n",
              "      <td>1052.0</td>\n",
              "      <td>468.0</td>\n",
              "      <td>5.6315</td>\n",
              "      <td>&lt;1H OCEAN</td>\n",
              "      <td>484600.0</td>\n",
              "    </tr>\n",
              "    <tr>\n",
              "      <th>14447</th>\n",
              "      <td>-115.56</td>\n",
              "      <td>32.80</td>\n",
              "      <td>15.0</td>\n",
              "      <td>1171.0</td>\n",
              "      <td>328.0</td>\n",
              "      <td>1024.0</td>\n",
              "      <td>298.0</td>\n",
              "      <td>1.3882</td>\n",
              "      <td>INLAND</td>\n",
              "      <td>69400.0</td>\n",
              "    </tr>\n",
              "  </tbody>\n",
              "</table>\n",
              "<p>14448 rows × 10 columns</p>\n",
              "</div>"
            ],
            "text/plain": [
              "       longitude  latitude  housing_median_age  total_rooms  total_bedrooms  \\\n",
              "0        -119.79     36.73                52.0        112.0            28.0   \n",
              "1        -122.21     37.77                43.0       1017.0           328.0   \n",
              "2        -118.04     33.87                17.0       2358.0           396.0   \n",
              "3        -118.28     34.06                17.0       2518.0          1196.0   \n",
              "4        -119.81     36.73                50.0        772.0           194.0   \n",
              "...          ...       ...                 ...          ...             ...   \n",
              "14443    -121.26     38.27                20.0       1314.0           229.0   \n",
              "14444    -120.89     37.48                27.0       1118.0           195.0   \n",
              "14445    -121.90     36.58                31.0       1431.0             NaN   \n",
              "14446    -117.93     33.62                34.0       2125.0           498.0   \n",
              "14447    -115.56     32.80                15.0       1171.0           328.0   \n",
              "\n",
              "       population  households  median_income ocean_proximity  \\\n",
              "0           193.0        40.0         1.9750          INLAND   \n",
              "1           836.0       277.0         2.2604        NEAR BAY   \n",
              "2          1387.0       364.0         6.2990       <1H OCEAN   \n",
              "3          3051.0      1000.0         1.7199       <1H OCEAN   \n",
              "4           606.0       167.0         2.2206          INLAND   \n",
              "...           ...         ...            ...             ...   \n",
              "14443       712.0       219.0         4.4125          INLAND   \n",
              "14444       647.0       209.0         2.9135          INLAND   \n",
              "14445       704.0       393.0         3.1977      NEAR OCEAN   \n",
              "14446      1052.0       468.0         5.6315       <1H OCEAN   \n",
              "14447      1024.0       298.0         1.3882          INLAND   \n",
              "\n",
              "       median_house_value  \n",
              "0                 47500.0  \n",
              "1                100000.0  \n",
              "2                285800.0  \n",
              "3                175000.0  \n",
              "4                 59200.0  \n",
              "...                   ...  \n",
              "14443            144600.0  \n",
              "14444            159400.0  \n",
              "14445            289300.0  \n",
              "14446            484600.0  \n",
              "14447             69400.0  \n",
              "\n",
              "[14448 rows x 10 columns]"
            ]
          },
          "execution_count": 176,
          "metadata": {},
          "output_type": "execute_result"
        }
      ],
      "source": [
        "df = pd.read_csv(f\"{dataset_path}/data_california_house.csv\")\n",
        "df"
      ]
    },
    {
      "cell_type": "code",
      "execution_count": 141,
      "metadata": {},
      "outputs": [
        {
          "data": {
            "text/html": [
              "<div>\n",
              "<style scoped>\n",
              "    .dataframe tbody tr th:only-of-type {\n",
              "        vertical-align: middle;\n",
              "    }\n",
              "\n",
              "    .dataframe tbody tr th {\n",
              "        vertical-align: top;\n",
              "    }\n",
              "\n",
              "    .dataframe thead th {\n",
              "        text-align: right;\n",
              "    }\n",
              "</style>\n",
              "<table border=\"1\" class=\"dataframe\">\n",
              "  <thead>\n",
              "    <tr style=\"text-align: right;\">\n",
              "      <th></th>\n",
              "      <th>longitude</th>\n",
              "      <th>latitude</th>\n",
              "      <th>housing_median_age</th>\n",
              "      <th>total_rooms</th>\n",
              "      <th>total_bedrooms</th>\n",
              "      <th>population</th>\n",
              "      <th>households</th>\n",
              "      <th>median_income</th>\n",
              "      <th>ocean_proximity</th>\n",
              "      <th>median_house_value</th>\n",
              "    </tr>\n",
              "  </thead>\n",
              "  <tbody>\n",
              "    <tr>\n",
              "      <th>0</th>\n",
              "      <td>-119.79</td>\n",
              "      <td>36.73</td>\n",
              "      <td>52.0</td>\n",
              "      <td>112.0</td>\n",
              "      <td>28.0</td>\n",
              "      <td>193.0</td>\n",
              "      <td>40.0</td>\n",
              "      <td>1.9750</td>\n",
              "      <td>INLAND</td>\n",
              "      <td>47500.0</td>\n",
              "    </tr>\n",
              "    <tr>\n",
              "      <th>1</th>\n",
              "      <td>-122.21</td>\n",
              "      <td>37.77</td>\n",
              "      <td>43.0</td>\n",
              "      <td>1017.0</td>\n",
              "      <td>328.0</td>\n",
              "      <td>836.0</td>\n",
              "      <td>277.0</td>\n",
              "      <td>2.2604</td>\n",
              "      <td>NEAR BAY</td>\n",
              "      <td>100000.0</td>\n",
              "    </tr>\n",
              "    <tr>\n",
              "      <th>2</th>\n",
              "      <td>-118.04</td>\n",
              "      <td>33.87</td>\n",
              "      <td>17.0</td>\n",
              "      <td>2358.0</td>\n",
              "      <td>396.0</td>\n",
              "      <td>1387.0</td>\n",
              "      <td>364.0</td>\n",
              "      <td>6.2990</td>\n",
              "      <td>&lt;1H OCEAN</td>\n",
              "      <td>285800.0</td>\n",
              "    </tr>\n",
              "    <tr>\n",
              "      <th>3</th>\n",
              "      <td>-118.28</td>\n",
              "      <td>34.06</td>\n",
              "      <td>17.0</td>\n",
              "      <td>2518.0</td>\n",
              "      <td>1196.0</td>\n",
              "      <td>3051.0</td>\n",
              "      <td>1000.0</td>\n",
              "      <td>1.7199</td>\n",
              "      <td>&lt;1H OCEAN</td>\n",
              "      <td>175000.0</td>\n",
              "    </tr>\n",
              "    <tr>\n",
              "      <th>4</th>\n",
              "      <td>-119.81</td>\n",
              "      <td>36.73</td>\n",
              "      <td>50.0</td>\n",
              "      <td>772.0</td>\n",
              "      <td>194.0</td>\n",
              "      <td>606.0</td>\n",
              "      <td>167.0</td>\n",
              "      <td>2.2206</td>\n",
              "      <td>INLAND</td>\n",
              "      <td>59200.0</td>\n",
              "    </tr>\n",
              "  </tbody>\n",
              "</table>\n",
              "</div>"
            ],
            "text/plain": [
              "   longitude  latitude  housing_median_age  total_rooms  total_bedrooms  \\\n",
              "0    -119.79     36.73                52.0        112.0            28.0   \n",
              "1    -122.21     37.77                43.0       1017.0           328.0   \n",
              "2    -118.04     33.87                17.0       2358.0           396.0   \n",
              "3    -118.28     34.06                17.0       2518.0          1196.0   \n",
              "4    -119.81     36.73                50.0        772.0           194.0   \n",
              "\n",
              "   population  households  median_income ocean_proximity  median_house_value  \n",
              "0       193.0        40.0         1.9750          INLAND             47500.0  \n",
              "1       836.0       277.0         2.2604        NEAR BAY            100000.0  \n",
              "2      1387.0       364.0         6.2990       <1H OCEAN            285800.0  \n",
              "3      3051.0      1000.0         1.7199       <1H OCEAN            175000.0  \n",
              "4       606.0       167.0         2.2206          INLAND             59200.0  "
            ]
          },
          "execution_count": 141,
          "metadata": {},
          "output_type": "execute_result"
        }
      ],
      "source": [
        "df.head()"
      ]
    },
    {
      "cell_type": "markdown",
      "metadata": {
        "id": "CL5qwyhdgFb1"
      },
      "source": [
        "# 3. Data Cleaning\n",
        "\n",
        "Yang dilakukan untuk data cleaning\n",
        "- Checking Datatypes\n",
        "- Handling Missing Values\n",
        "- Checking Outliers"
      ]
    },
    {
      "cell_type": "markdown",
      "metadata": {
        "id": "0alti_TYosQb"
      },
      "source": [
        "## 3.1 Checking Datatypes"
      ]
    },
    {
      "cell_type": "code",
      "execution_count": 142,
      "metadata": {
        "colab": {
          "base_uri": "https://localhost:8080/"
        },
        "id": "5fq24XyuomL9",
        "outputId": "3d8b47a9-aab1-43c1-dafe-67ec4a255356"
      },
      "outputs": [
        {
          "name": "stdout",
          "output_type": "stream",
          "text": [
            "<class 'pandas.core.frame.DataFrame'>\n",
            "RangeIndex: 14448 entries, 0 to 14447\n",
            "Data columns (total 10 columns):\n",
            " #   Column              Non-Null Count  Dtype  \n",
            "---  ------              --------------  -----  \n",
            " 0   longitude           14448 non-null  float64\n",
            " 1   latitude            14448 non-null  float64\n",
            " 2   housing_median_age  14448 non-null  float64\n",
            " 3   total_rooms         14448 non-null  float64\n",
            " 4   total_bedrooms      14311 non-null  float64\n",
            " 5   population          14448 non-null  float64\n",
            " 6   households          14448 non-null  float64\n",
            " 7   median_income       14448 non-null  float64\n",
            " 8   ocean_proximity     14448 non-null  object \n",
            " 9   median_house_value  14448 non-null  float64\n",
            "dtypes: float64(9), object(1)\n",
            "memory usage: 1.1+ MB\n"
          ]
        }
      ],
      "source": [
        "df.info()"
      ]
    },
    {
      "cell_type": "markdown",
      "metadata": {
        "id": "4pzvfEQ7gQiX"
      },
      "source": [
        "## 3.2 Handling Missing Values"
      ]
    },
    {
      "cell_type": "code",
      "execution_count": 177,
      "metadata": {},
      "outputs": [
        {
          "data": {
            "text/plain": [
              "longitude               0\n",
              "latitude                0\n",
              "housing_median_age      0\n",
              "total_rooms             0\n",
              "total_bedrooms        137\n",
              "population              0\n",
              "households              0\n",
              "median_income           0\n",
              "ocean_proximity         0\n",
              "median_house_value      0\n",
              "dtype: int64"
            ]
          },
          "execution_count": 177,
          "metadata": {},
          "output_type": "execute_result"
        }
      ],
      "source": [
        "df.isnull().sum()"
      ]
    },
    {
      "cell_type": "code",
      "execution_count": 178,
      "metadata": {},
      "outputs": [
        {
          "data": {
            "text/plain": [
              "longitude             0.000000\n",
              "latitude              0.000000\n",
              "housing_median_age    0.000000\n",
              "total_rooms           0.000000\n",
              "total_bedrooms        0.948228\n",
              "population            0.000000\n",
              "households            0.000000\n",
              "median_income         0.000000\n",
              "ocean_proximity       0.000000\n",
              "median_house_value    0.000000\n",
              "dtype: float64"
            ]
          },
          "execution_count": 178,
          "metadata": {},
          "output_type": "execute_result"
        }
      ],
      "source": [
        "df.isna().sum()/df.shape[0]*100"
      ]
    },
    {
      "cell_type": "code",
      "execution_count": 179,
      "metadata": {
        "colab": {
          "base_uri": "https://localhost:8080/"
        },
        "id": "TztdNSPbeOG9",
        "outputId": "43d44f6e-5c40-4397-d5b5-877ee4bde256"
      },
      "outputs": [
        {
          "data": {
            "text/plain": [
              "np.int64(0)"
            ]
          },
          "execution_count": 179,
          "metadata": {},
          "output_type": "execute_result"
        }
      ],
      "source": [
        "# Separate the categorical column\n",
        "categorical_column = df[['ocean_proximity']]\n",
        "numerical_columns = df.drop(columns=['ocean_proximity'])\n",
        "\n",
        "# Use KNN imputer to fill missing values in numerical columns\n",
        "knn_imputer = KNNImputer(n_neighbors=5)\n",
        "numerical_columns_imputed = knn_imputer.fit_transform(numerical_columns)\n",
        "\n",
        "# Convert the result back to a DataFrame\n",
        "numerical_columns_imputed_df = pd.DataFrame(numerical_columns_imputed, columns=numerical_columns.columns)\n",
        "\n",
        "# Combine the imputed numerical columns with the original categorical column\n",
        "df = pd.concat([numerical_columns_imputed_df, categorical_column.reset_index(drop=True)], axis=1)\n",
        "\n",
        "# Verify if there are any missing values left in 'total_bedrooms'\n",
        "missing_values_count_final = df['total_bedrooms'].isnull().sum()\n",
        "missing_values_count_final"
      ]
    },
    {
      "cell_type": "markdown",
      "metadata": {},
      "source": [
        "Fitur `ocean_proximity` bersifat kategorikal, sehingga perlu diubah ke bentuk numerik agar dapat diproses oleh model machine learning.  \n",
        "Metode yang digunakan adalah **One-Hot Encoding** dengan hasil sebagai berikut:\n",
        "\n",
        "- `ocean_proximity_INLAND`  \n",
        "- `ocean_proximity_ISLAND`  \n",
        "- `ocean_proximity_NEAR BAY`  \n",
        "- `ocean_proximity_NEAR OCEAN`\n",
        "\n",
        "Metode ini dipilih karena:\n",
        "- Setiap kategori bersifat *nominal* (tidak memiliki urutan alami).  \n",
        "- Menghindari kesalahan interpretasi nilai jika menggunakan ordinal encoding."
      ]
    },
    {
      "cell_type": "code",
      "execution_count": 180,
      "metadata": {
        "colab": {
          "base_uri": "https://localhost:8080/"
        },
        "id": "knz35uL8ohkb",
        "outputId": "1819d3b3-bfb6-4051-d328-cb1b086193f2"
      },
      "outputs": [
        {
          "data": {
            "text/plain": [
              "longitude             0\n",
              "latitude              0\n",
              "housing_median_age    0\n",
              "total_rooms           0\n",
              "total_bedrooms        0\n",
              "population            0\n",
              "households            0\n",
              "median_income         0\n",
              "median_house_value    0\n",
              "ocean_proximity       0\n",
              "dtype: int64"
            ]
          },
          "execution_count": 180,
          "metadata": {},
          "output_type": "execute_result"
        }
      ],
      "source": [
        "df.isna().sum()"
      ]
    },
    {
      "cell_type": "markdown",
      "metadata": {},
      "source": [
        "Hasil pengecekan awal menunjukkan bahwa hanya kolom `total_bedrooms` yang memiliki nilai hilang sebesar **0.94%** dari total data.  \n",
        "Untuk mengatasinya, digunakan metode **KNNImputer (n_neighbors=5)** yang menggantikan nilai hilang berdasarkan kemiripan fitur lain di dataset."
      ]
    },
    {
      "cell_type": "markdown",
      "metadata": {},
      "source": [
        "**Kesimpulan**\n",
        "Berdasarkan hasil pengecekan, hanya kolom `total_bedrooms` yang memiliki missing values sebesar 0.94%.  \n",
        "Untuk menangani hal ini, digunakan metode **KNNImputer (n_neighbors=5)** karena mampu mengisi nilai yang hilang berdasarkan kemiripan fitur lain (bukan sekadar mean/median). Metode ini menjaga korelasi antar variabel dan menghasilkan estimasi yang lebih realistis. Setelah imputasi, seluruh nilai missing berhasil diatasi (0 missing values tersisa)."
      ]
    },
    {
      "cell_type": "markdown",
      "metadata": {
        "id": "b6luoXcNo1uD"
      },
      "source": [
        "## 3.3 Handling Outliers\n",
        "\n",
        "Langkah ini memastikan distribusi data lebih stabil dan model tidak bias terhadap nilai ekstrem.\n",
        "\n",
        "- Mengecek apakah variabel numerikal yang memiliki outliers dan menggunakan IQR untuk menentukan upper bound dan lower bound dari masing-masing variabel\n",
        "- melakukan drop pada nilai dalam variabel yang lebih dari upper bound yang sudah ditentukan"
      ]
    },
    {
      "cell_type": "code",
      "execution_count": 181,
      "metadata": {
        "colab": {
          "base_uri": "https://localhost:8080/"
        },
        "id": "rSLgOjP4ovmw",
        "outputId": "6dd512c2-24e9-4784-a7a8-e930cddceec7"
      },
      "outputs": [
        {
          "name": "stdout",
          "output_type": "stream",
          "text": [
            "0 longitude\n",
            "1 latitude\n",
            "2 housing_median_age\n",
            "3 total_rooms\n",
            "4 total_bedrooms\n",
            "5 population\n",
            "6 households\n",
            "7 median_income\n",
            "8 median_house_value\n"
          ]
        }
      ],
      "source": [
        "for i, el in enumerate(numerical_columns):\n",
        "  print(i, el)"
      ]
    },
    {
      "cell_type": "code",
      "execution_count": 185,
      "metadata": {},
      "outputs": [
        {
          "data": {
            "image/png": "[encoded data removed]",
            "text/plain": [
              "<Figure size 2500x2800 with 9 Axes>"
            ]
          },
          "metadata": {},
          "output_type": "display_data"
        }
      ],
      "source": [
        "fig, axes = plt.subplots(nrows=3, ncols=3, figsize=(25,28))\n",
        "for i, col in enumerate(numerical_columns):\n",
        "    sns.boxplot(x=df[col], ax=axes.flatten()[i])\n",
        "    axes.flatten()[i].set_title(f'Boxplot of {col}')\n",
        "plt.show()"
      ]
    },
    {
      "cell_type": "markdown",
      "metadata": {
        "id": "eg5PRDS3pmeJ"
      },
      "source": [
        "Insight\n",
        "\n",
        "- Variabel numerikal memiliki ekstrem outliers.\n",
        "- Pada pengerjaan handling outliers digunakan untuk menghilangkan ekstrem outliers dalam variabel tertentu seperti pada total_rooms, total_bedrooms, population, households, dan median_income.\n",
        "- Mendefinisikan upper bound dan lower bound pada masing-masing variabel tersebut. Pada kasus ini kita akan mengkalikan batas batas upper bound dan lower bound sebanyak 2 kali lipat karena outliers yang akan kita tangani merupakan kasus ekstrem outliers\n",
        "\n",
        "**Handling Outliers**\n",
        "\n",
        "Visualisasi boxplot menunjukkan bahwa hampir seluruh variabel numerik memiliki nilai ekstrem (outliers), terutama pada kolom:\n",
        "- `total_rooms`\n",
        "- `total_bedrooms`\n",
        "- `population`\n",
        "- `households`\n",
        "- `median_income`\n",
        "\n",
        "Fitur seperti `longitude` dan `latitude` tidak dihapus karena merepresentasikan posisi geografis yang memang bervariasi secara alami.\n",
        "\n",
        "Untuk mengatasi hal ini, dilakukan pendekatan **Interquartile Range (IQR)** dengan menetapkan batas atas dan bawah (upper bound dan lower bound).  \n",
        "Dalam kasus ini, batas dikalikan sebesar **2× IQR** agar tidak terlalu ketat dan hanya menghapus *ekstrem outliers* yang benar-benar tidak realistis.\n",
        "\n",
        "Langkah ini dilakukan agar:\n",
        "- Distribusi data menjadi lebih seimbang.\n",
        "- Model regresi tidak bias akibat nilai yang sangat ekstrem.\n",
        "- Data penting dengan variasi alami tetap dipertahankan.\n",
        "\n",
        "Setelah proses pembersihan, jumlah data berkurang sedikit namun distribusi menjadi lebih stabil dan representatif.\n"
      ]
    },
    {
      "cell_type": "markdown",
      "metadata": {
        "id": "Cnzjtfd_Z4xg"
      },
      "source": [
        "3.3.1 Selanjutnya menghilangkan outliers pada total_rooms"
      ]
    },
    {
      "cell_type": "code",
      "execution_count": 186,
      "metadata": {
        "colab": {
          "base_uri": "https://localhost:8080/"
        },
        "id": "YqilvYpcXk2n",
        "outputId": "3187bc21-9ca6-42e0-9f97-dddf2a0386e7"
      },
      "outputs": [
        {
          "data": {
            "text/plain": [
              "(np.float64(-3579.25), np.float64(8137.0))"
            ]
          },
          "execution_count": 186,
          "metadata": {},
          "output_type": "execute_result"
        }
      ],
      "source": [
        "# Menghilangkan outliers pada variabel total_rooms\n",
        "\n",
        "# Menghitung kuartil 1 dan 3\n",
        "Q1 = df['total_rooms'].quantile(0.25)\n",
        "Q3 = df['total_rooms'].quantile(0.75)\n",
        "\n",
        "# Menghitung interkuartil range\n",
        "IQR = Q3 - Q1\n",
        "boxplot_min = Q1 - 3 * IQR\n",
        "boxplot_max = Q3 + 3 * IQR\n",
        "\n",
        "boxplot_min, boxplot_max"
      ]
    },
    {
      "cell_type": "code",
      "execution_count": 187,
      "metadata": {
        "colab": {
          "base_uri": "https://localhost:8080/"
        },
        "id": "aJCPc5uTX87s",
        "outputId": "0012762d-a101-49a3-94ef-ee2b94ccd833"
      },
      "outputs": [
        {
          "data": {
            "text/plain": [
              "np.int64(331)"
            ]
          },
          "execution_count": 187,
          "metadata": {},
          "output_type": "execute_result"
        }
      ],
      "source": [
        "# Menghitung jumlah total_rooms yang lebih dari upper bound\n",
        "\n",
        "df[df['total_rooms'] > 8239.0].count()['total_rooms']"
      ]
    },
    {
      "cell_type": "code",
      "execution_count": 188,
      "metadata": {
        "id": "Zr0Ye6fdYNuY"
      },
      "outputs": [],
      "source": [
        "# Menghilangkan outliers pada total_room\n",
        "\n",
        "df_outliers_drop = df[~(df['total_rooms']> 8239.0)]"
      ]
    },
    {
      "cell_type": "markdown",
      "metadata": {
        "id": "rwSThBe6Z_zc"
      },
      "source": [
        "3.3.2 Menghilangkan outliers pada total_bedrooms"
      ]
    },
    {
      "cell_type": "code",
      "execution_count": 190,
      "metadata": {
        "colab": {
          "base_uri": "https://localhost:8080/"
        },
        "id": "svHlKtqFZU4b",
        "outputId": "95d403b6-b5be-4b9a-ea97-91f1dce54fb8"
      },
      "outputs": [
        {
          "data": {
            "text/plain": [
              "(np.float64(-717.0), np.float64(1642.0))"
            ]
          },
          "execution_count": 190,
          "metadata": {},
          "output_type": "execute_result"
        }
      ],
      "source": [
        "# Menghilangkan outliers pada variabel total_bedrooms\n",
        "\n",
        "# Menghitung kuartil 1 dan 3\n",
        "Q1 = df_outliers_drop['total_bedrooms'].quantile(0.25)\n",
        "Q3 = df_outliers_drop['total_bedrooms'].quantile(0.75)\n",
        "\n",
        "# Menghitung interkuartil range\n",
        "IQR = Q3 - Q1\n",
        "boxplot_min = Q1 - 3 * IQR\n",
        "boxplot_max = Q3 + 3 * IQR\n",
        "\n",
        "boxplot_min, boxplot_max"
      ]
    },
    {
      "cell_type": "code",
      "execution_count": 191,
      "metadata": {
        "colab": {
          "base_uri": "https://localhost:8080/"
        },
        "id": "LK-NTFlSZg4n",
        "outputId": "8a103389-236f-49a6-fbe5-2e6fb4472431"
      },
      "outputs": [
        {
          "data": {
            "text/plain": [
              "np.int64(98)"
            ]
          },
          "execution_count": 191,
          "metadata": {},
          "output_type": "execute_result"
        }
      ],
      "source": [
        "# Menghitung jumlah total_bedrooms yang lebih dari upper bound\n",
        "\n",
        "df_outliers_drop[df_outliers_drop['total_bedrooms'] > 1635.0].count()['total_bedrooms']"
      ]
    },
    {
      "cell_type": "code",
      "execution_count": 192,
      "metadata": {
        "id": "FKKzP59XZtjx"
      },
      "outputs": [],
      "source": [
        "# Menghilangkan outliers pada total_bedrooms\n",
        "\n",
        "df_outliers_drop = df_outliers_drop[~(df_outliers_drop['total_bedrooms']> 1635.0)]"
      ]
    },
    {
      "cell_type": "markdown",
      "metadata": {
        "id": "ZD_BqG9uaEvw"
      },
      "source": [
        "3.3.3 Menghilangkan outliers pada population"
      ]
    },
    {
      "cell_type": "code",
      "execution_count": 193,
      "metadata": {
        "colab": {
          "base_uri": "https://localhost:8080/"
        },
        "id": "3UNif2sfaItP",
        "outputId": "3c13d1f9-e52c-49a6-83f0-20206ab1a83f"
      },
      "outputs": [
        {
          "data": {
            "text/plain": [
              "(np.float64(-1878.0), np.float64(4324.0))"
            ]
          },
          "execution_count": 193,
          "metadata": {},
          "output_type": "execute_result"
        }
      ],
      "source": [
        "# Menghilangkan outliers pada variabel population\n",
        "\n",
        "# Menghitung kuartil 1 dan 3\n",
        "Q1 = df_outliers_drop['population'].quantile(0.25)\n",
        "Q3 = df_outliers_drop['population'].quantile(0.75)\n",
        "\n",
        "# Menghitung interkuartil range\n",
        "IQR = Q3 - Q1\n",
        "boxplot_min = Q1 - 3 * IQR\n",
        "boxplot_max = Q3 + 3 * IQR\n",
        "\n",
        "boxplot_min, boxplot_max"
      ]
    },
    {
      "cell_type": "code",
      "execution_count": 194,
      "metadata": {
        "colab": {
          "base_uri": "https://localhost:8080/"
        },
        "id": "Ub7LKsU3aPLE",
        "outputId": "ca587901-4a0e-45ea-e0d8-07c51733313d"
      },
      "outputs": [
        {
          "data": {
            "text/plain": [
              "np.int64(80)"
            ]
          },
          "execution_count": 194,
          "metadata": {},
          "output_type": "execute_result"
        }
      ],
      "source": [
        "# Menghitung jumlah population yang lebih dari upper bound\n",
        "\n",
        "df_outliers_drop[df_outliers_drop['population'] > 4303.0].count()['population']"
      ]
    },
    {
      "cell_type": "code",
      "execution_count": 195,
      "metadata": {
        "id": "lZmoSOYMaYPo"
      },
      "outputs": [],
      "source": [
        "# Menghilangkan outliers\n",
        "\n",
        "df_outliers_drop = df_outliers_drop[~(df_outliers_drop['population']> 4303.0)]"
      ]
    },
    {
      "cell_type": "markdown",
      "metadata": {
        "id": "ySzSgcZEapDg"
      },
      "source": [
        "3.3.4 Menghilangkan outliers pada households"
      ]
    },
    {
      "cell_type": "code",
      "execution_count": 196,
      "metadata": {
        "colab": {
          "base_uri": "https://localhost:8080/"
        },
        "id": "j4u3brbOatgq",
        "outputId": "d13b9b2a-7137-45d4-b5f7-74f21c5f15d3"
      },
      "outputs": [
        {
          "data": {
            "text/plain": [
              "(np.float64(-630.0), np.float64(1484.0))"
            ]
          },
          "execution_count": 196,
          "metadata": {},
          "output_type": "execute_result"
        }
      ],
      "source": [
        "# Menghilangkan outliers pada variabel household\n",
        "\n",
        "# Menghitung kuartil 1 dan 3\n",
        "Q1 = df_outliers_drop['households'].quantile(0.25)\n",
        "Q3 = df_outliers_drop['households'].quantile(0.75)\n",
        "\n",
        "# Menghitung interkuartil range\n",
        "IQR = Q3 - Q1\n",
        "boxplot_min = Q1 - 3 * IQR\n",
        "boxplot_max = Q3 + 3 * IQR\n",
        "\n",
        "boxplot_min, boxplot_max"
      ]
    },
    {
      "cell_type": "code",
      "execution_count": 197,
      "metadata": {
        "colab": {
          "base_uri": "https://localhost:8080/"
        },
        "id": "Nnbi2ZXEa6gr",
        "outputId": "0fd7dbd4-1354-4ccc-df9b-466e461c5f65"
      },
      "outputs": [
        {
          "data": {
            "text/plain": [
              "np.int64(21)"
            ]
          },
          "execution_count": 197,
          "metadata": {},
          "output_type": "execute_result"
        }
      ],
      "source": [
        "# Menghitung jumlah households yang lebih dari upper bound\n",
        "\n",
        "df_outliers_drop[df_outliers_drop['households'] > 1478.0].count()['households']"
      ]
    },
    {
      "cell_type": "code",
      "execution_count": 198,
      "metadata": {
        "id": "W8KaA4yjbEkN"
      },
      "outputs": [],
      "source": [
        "# Menghilangkan outliers pada households\n",
        "\n",
        "df_outliers_drop = df_outliers_drop[~(df_outliers_drop['households']> 1478.0)]"
      ]
    },
    {
      "cell_type": "markdown",
      "metadata": {
        "id": "ir1aa9eqbI-_"
      },
      "source": [
        "Mengecek Outliers pada median_income"
      ]
    },
    {
      "cell_type": "code",
      "execution_count": 200,
      "metadata": {
        "colab": {
          "base_uri": "https://localhost:8080/"
        },
        "id": "yucLuagGbQyB",
        "outputId": "2c0f08ac-0818-4fac-a845-6aac572510fc"
      },
      "outputs": [
        {
          "data": {
            "text/plain": [
              "(np.float64(-3.6199249999999985), np.float64(10.715199999999998))"
            ]
          },
          "execution_count": 200,
          "metadata": {},
          "output_type": "execute_result"
        }
      ],
      "source": [
        "# Menghilangkan outliers pada variabel median income\n",
        "\n",
        "# Hitung kuartil 1 dan 3\n",
        "Q1 = df_outliers_drop['median_income'].quantile(0.25)\n",
        "Q3 = df_outliers_drop['median_income'].quantile(0.75)\n",
        "\n",
        "#Hitung interkuartil range\n",
        "IQR = Q3 - Q1\n",
        "boxplot_min = Q1 - 3 * IQR\n",
        "boxplot_max = Q3 + 3 * IQR\n",
        "\n",
        "boxplot_min, boxplot_max"
      ]
    },
    {
      "cell_type": "code",
      "execution_count": 201,
      "metadata": {
        "colab": {
          "base_uri": "https://localhost:8080/"
        },
        "id": "WxGnAyVQbaZ3",
        "outputId": "969fa178-84d2-4b2a-9510-c0ff7aac9625"
      },
      "outputs": [
        {
          "data": {
            "text/plain": [
              "np.int64(0)"
            ]
          },
          "execution_count": 201,
          "metadata": {},
          "output_type": "execute_result"
        }
      ],
      "source": [
        "# Menghitung jumlah median income yang lebih dari upper bound\n",
        "\n",
        "df_outliers_drop[df_outliers_drop['median_income'] > 11.18635].count()['median_income']"
      ]
    },
    {
      "cell_type": "code",
      "execution_count": 202,
      "metadata": {
        "id": "VYisxcQXbiv1"
      },
      "outputs": [],
      "source": [
        "# Mengedrop outliers\n",
        "\n",
        "df_outliers_drop = df_outliers_drop[~(df_outliers_drop['median_income']> 11.18635)]"
      ]
    },
    {
      "cell_type": "markdown",
      "metadata": {
        "id": "2X4_A9hVbskr"
      },
      "source": [
        "Melakukan pengecekan kembali pada plot distribusi di kolom numerikal"
      ]
    },
    {
      "cell_type": "code",
      "execution_count": 203,
      "metadata": {
        "colab": {
          "base_uri": "https://localhost:8080/"
        },
        "id": "n5TXSa3Ttxh2",
        "outputId": "aea76336-9878-4f93-ad80-8cb0e6c534fa"
      },
      "outputs": [
        {
          "data": {
            "image/png": "[encoded data removed]",
            "text/plain": [
              "<Figure size 2500x2800 with 9 Axes>"
            ]
          },
          "metadata": {},
          "output_type": "display_data"
        }
      ],
      "source": [
        "# Recheck the boxplot\n",
        "\n",
        "fig, axes = plt.subplots(nrows=3, ncols=3, figsize=(25,28))\n",
        "for i, col in enumerate(numerical_columns):\n",
        "    sns.boxplot(x=df_outliers_drop[col], ax=axes.flatten()[i])\n",
        "    axes.flatten()[i].set_title(f'Boxplot of {col}')\n",
        "plt.show()"
      ]
    },
    {
      "cell_type": "code",
      "execution_count": 204,
      "metadata": {
        "id": "3xrWGwggcrVq"
      },
      "outputs": [],
      "source": [
        "df_clean = df_outliers_drop.copy()"
      ]
    },
    {
      "cell_type": "code",
      "execution_count": 205,
      "metadata": {
        "colab": {
          "base_uri": "https://localhost:8080/"
        },
        "id": "Uz2xlg_ZuNuR",
        "outputId": "1e731f3a-e700-4afa-c3b2-95117f2dc58a"
      },
      "outputs": [
        {
          "name": "stdout",
          "output_type": "stream",
          "text": [
            "<class 'pandas.core.frame.DataFrame'>\n",
            "Index: 13436 entries, 0 to 14447\n",
            "Data columns (total 10 columns):\n",
            " #   Column              Non-Null Count  Dtype  \n",
            "---  ------              --------------  -----  \n",
            " 0   longitude           13436 non-null  float64\n",
            " 1   latitude            13436 non-null  float64\n",
            " 2   housing_median_age  13436 non-null  float64\n",
            " 3   total_rooms         13436 non-null  float64\n",
            " 4   total_bedrooms      13436 non-null  float64\n",
            " 5   population          13436 non-null  float64\n",
            " 6   households          13436 non-null  float64\n",
            " 7   median_income       13436 non-null  float64\n",
            " 8   median_house_value  13436 non-null  float64\n",
            " 9   ocean_proximity     13436 non-null  object \n",
            "dtypes: float64(9), object(1)\n",
            "memory usage: 1.1+ MB\n"
          ]
        }
      ],
      "source": [
        "df_clean.info()"
      ]
    },
    {
      "cell_type": "markdown",
      "metadata": {},
      "source": [
        "- Data berkurang 659 baris (sekitar 4.5%), tidak terlalu banyak yang hilang.\n",
        "\n",
        "- Menandakan threshold (IQR × 2) cukup bijak: menghapus outlier ekstrem tanpa mengorbankan representasi data."
      ]
    },
    {
      "cell_type": "code",
      "execution_count": 206,
      "metadata": {
        "colab": {
          "base_uri": "https://localhost:8080/"
        },
        "id": "DyqxqEvxoryA",
        "outputId": "0f8c747a-1db5-4797-be12-f61228dfc33d"
      },
      "outputs": [
        {
          "data": {
            "text/html": [
              "<div>\n",
              "<style scoped>\n",
              "    .dataframe tbody tr th:only-of-type {\n",
              "        vertical-align: middle;\n",
              "    }\n",
              "\n",
              "    .dataframe tbody tr th {\n",
              "        vertical-align: top;\n",
              "    }\n",
              "\n",
              "    .dataframe thead th {\n",
              "        text-align: right;\n",
              "    }\n",
              "</style>\n",
              "<table border=\"1\" class=\"dataframe\">\n",
              "  <thead>\n",
              "    <tr style=\"text-align: right;\">\n",
              "      <th></th>\n",
              "      <th>longitude</th>\n",
              "      <th>latitude</th>\n",
              "      <th>housing_median_age</th>\n",
              "      <th>total_rooms</th>\n",
              "      <th>total_bedrooms</th>\n",
              "      <th>population</th>\n",
              "      <th>households</th>\n",
              "      <th>median_income</th>\n",
              "      <th>median_house_value</th>\n",
              "    </tr>\n",
              "  </thead>\n",
              "  <tbody>\n",
              "    <tr>\n",
              "      <th>count</th>\n",
              "      <td>13436.000000</td>\n",
              "      <td>13436.000000</td>\n",
              "      <td>13436.000000</td>\n",
              "      <td>13436.000000</td>\n",
              "      <td>13436.000000</td>\n",
              "      <td>13436.000000</td>\n",
              "      <td>13436.000000</td>\n",
              "      <td>13436.000000</td>\n",
              "      <td>13436.000000</td>\n",
              "    </tr>\n",
              "    <tr>\n",
              "      <th>mean</th>\n",
              "      <td>-119.587386</td>\n",
              "      <td>35.662383</td>\n",
              "      <td>29.157413</td>\n",
              "      <td>2323.377047</td>\n",
              "      <td>482.769857</td>\n",
              "      <td>1282.830232</td>\n",
              "      <td>450.200729</td>\n",
              "      <td>3.636846</td>\n",
              "      <td>197386.762653</td>\n",
              "    </tr>\n",
              "    <tr>\n",
              "      <th>std</th>\n",
              "      <td>2.006735</td>\n",
              "      <td>2.154217</td>\n",
              "      <td>12.379311</td>\n",
              "      <td>1332.422322</td>\n",
              "      <td>271.672141</td>\n",
              "      <td>726.915805</td>\n",
              "      <td>250.287228</td>\n",
              "      <td>1.479454</td>\n",
              "      <td>106560.708099</td>\n",
              "    </tr>\n",
              "    <tr>\n",
              "      <th>min</th>\n",
              "      <td>-124.350000</td>\n",
              "      <td>32.540000</td>\n",
              "      <td>1.000000</td>\n",
              "      <td>2.000000</td>\n",
              "      <td>2.000000</td>\n",
              "      <td>3.000000</td>\n",
              "      <td>2.000000</td>\n",
              "      <td>0.499900</td>\n",
              "      <td>14999.000000</td>\n",
              "    </tr>\n",
              "    <tr>\n",
              "      <th>25%</th>\n",
              "      <td>-121.800000</td>\n",
              "      <td>33.940000</td>\n",
              "      <td>19.000000</td>\n",
              "      <td>1415.750000</td>\n",
              "      <td>292.000000</td>\n",
              "      <td>777.000000</td>\n",
              "      <td>276.000000</td>\n",
              "      <td>2.523700</td>\n",
              "      <td>116300.000000</td>\n",
              "    </tr>\n",
              "    <tr>\n",
              "      <th>50%</th>\n",
              "      <td>-118.510000</td>\n",
              "      <td>34.280000</td>\n",
              "      <td>29.000000</td>\n",
              "      <td>2053.500000</td>\n",
              "      <td>427.000000</td>\n",
              "      <td>1143.000000</td>\n",
              "      <td>402.000000</td>\n",
              "      <td>3.455050</td>\n",
              "      <td>175000.000000</td>\n",
              "    </tr>\n",
              "    <tr>\n",
              "      <th>75%</th>\n",
              "      <td>-118.010000</td>\n",
              "      <td>37.730000</td>\n",
              "      <td>37.000000</td>\n",
              "      <td>2967.250000</td>\n",
              "      <td>620.000000</td>\n",
              "      <td>1649.000000</td>\n",
              "      <td>576.250000</td>\n",
              "      <td>4.571575</td>\n",
              "      <td>252100.000000</td>\n",
              "    </tr>\n",
              "    <tr>\n",
              "      <th>max</th>\n",
              "      <td>-114.310000</td>\n",
              "      <td>41.950000</td>\n",
              "      <td>52.000000</td>\n",
              "      <td>8213.000000</td>\n",
              "      <td>1635.000000</td>\n",
              "      <td>4276.000000</td>\n",
              "      <td>1473.000000</td>\n",
              "      <td>7.983500</td>\n",
              "      <td>500001.000000</td>\n",
              "    </tr>\n",
              "  </tbody>\n",
              "</table>\n",
              "</div>"
            ],
            "text/plain": [
              "          longitude      latitude  housing_median_age   total_rooms  \\\n",
              "count  13436.000000  13436.000000        13436.000000  13436.000000   \n",
              "mean    -119.587386     35.662383           29.157413   2323.377047   \n",
              "std        2.006735      2.154217           12.379311   1332.422322   \n",
              "min     -124.350000     32.540000            1.000000      2.000000   \n",
              "25%     -121.800000     33.940000           19.000000   1415.750000   \n",
              "50%     -118.510000     34.280000           29.000000   2053.500000   \n",
              "75%     -118.010000     37.730000           37.000000   2967.250000   \n",
              "max     -114.310000     41.950000           52.000000   8213.000000   \n",
              "\n",
              "       total_bedrooms    population    households  median_income  \\\n",
              "count    13436.000000  13436.000000  13436.000000   13436.000000   \n",
              "mean       482.769857   1282.830232    450.200729       3.636846   \n",
              "std        271.672141    726.915805    250.287228       1.479454   \n",
              "min          2.000000      3.000000      2.000000       0.499900   \n",
              "25%        292.000000    777.000000    276.000000       2.523700   \n",
              "50%        427.000000   1143.000000    402.000000       3.455050   \n",
              "75%        620.000000   1649.000000    576.250000       4.571575   \n",
              "max       1635.000000   4276.000000   1473.000000       7.983500   \n",
              "\n",
              "       median_house_value  \n",
              "count        13436.000000  \n",
              "mean        197386.762653  \n",
              "std         106560.708099  \n",
              "min          14999.000000  \n",
              "25%         116300.000000  \n",
              "50%         175000.000000  \n",
              "75%         252100.000000  \n",
              "max         500001.000000  "
            ]
          },
          "execution_count": 206,
          "metadata": {},
          "output_type": "execute_result"
        }
      ],
      "source": [
        "df_clean.describe()"
      ]
    },
    {
      "cell_type": "markdown",
      "metadata": {
        "id": "qd7pBSPNvAD_"
      },
      "source": [
        "# 4. Exploratory Data Analysis\n",
        "\n",
        "Pada tahanapan exploratory data analysis ini akan dilakukan beberapa pengerjaan:\n",
        "\n",
        "- Pareto Analyisis Based on Ocean Proximity\n",
        "- City or Location Analysis\n",
        "- Affordable and Luxury House Analysis\n",
        "\n"
      ]
    },
    {
      "cell_type": "markdown",
      "metadata": {
        "id": "X93TqpsfewBo"
      },
      "source": [
        "## 4.1 Pareto Analysis\n",
        "\n",
        "- Pada tahap analisa ini kita akan mencari tahu informasi yang bisa kita gali dari data berdasarkan kolom atau variabel Ocean Proximity\n",
        "- Kita akan menggunakan pareto analysis dalam mengidentifikasi data dan mencari insights atau temuan analisa yang ada."
      ]
    },
    {
      "cell_type": "code",
      "execution_count": 207,
      "metadata": {
        "id": "zW_fyo2WuEtV"
      },
      "outputs": [],
      "source": [
        "# Menghitung frekuensi pada variabel ocean proximity\n",
        "ocean_proximity_counts = df_clean['ocean_proximity'].value_counts()\n",
        "\n",
        "# Menghitung Persentase kumulatif\n",
        "cumulative_percentage = ocean_proximity_counts.cumsum() / ocean_proximity_counts.sum() * 100"
      ]
    },
    {
      "cell_type": "code",
      "execution_count": 208,
      "metadata": {
        "colab": {
          "base_uri": "https://localhost:8080/"
        },
        "id": "OIKM4Ap9bVey",
        "outputId": "bb8c87c3-b343-42bc-f73e-2ee2f8895cc1"
      },
      "outputs": [
        {
          "data": {
            "image/png": "[encoded data removed]",
            "text/plain": [
              "<Figure size 640x480 with 2 Axes>"
            ]
          },
          "metadata": {},
          "output_type": "display_data"
        }
      ],
      "source": [
        "categories = ocean_proximity_counts.index\n",
        "values = ocean_proximity_counts.values\n",
        "fig, ax1 = plt.subplots()\n",
        "\n",
        "# Bar chart untuk distribusi data\n",
        "ax1.bar(categories, values, color='C0')\n",
        "ax1.set_xlabel('Ocean Proximity')\n",
        "ax1.set_ylabel('Frequency', color='C0')\n",
        "ax1.tick_params(axis='y', labelcolor='C0')\n",
        "\n",
        "# Line chart untuk persentase kumulatif\n",
        "ax2 = ax1.twinx()\n",
        "ax2.plot(categories, cumulative_percentage, color='C1', marker='o', linestyle='-')\n",
        "ax2.set_ylabel('Cumulative Percentage', color='C1')\n",
        "ax2.tick_params(axis='y', labelcolor='C1')\n",
        "ax2.axhline(80, color='gray', linestyle='--', linewidth=1)\n",
        "\n",
        "plt.title('Pareto Diagram for Ocean Proximity')\n",
        "plt.show()"
      ]
    },
    {
      "cell_type": "code",
      "execution_count": 209,
      "metadata": {},
      "outputs": [
        {
          "name": "stdout",
          "output_type": "stream",
          "text": [
            "<class 'pandas.core.frame.DataFrame'>\n",
            "Index: 13436 entries, 0 to 14447\n",
            "Data columns (total 10 columns):\n",
            " #   Column              Non-Null Count  Dtype  \n",
            "---  ------              --------------  -----  \n",
            " 0   longitude           13436 non-null  float64\n",
            " 1   latitude            13436 non-null  float64\n",
            " 2   housing_median_age  13436 non-null  float64\n",
            " 3   total_rooms         13436 non-null  float64\n",
            " 4   total_bedrooms      13436 non-null  float64\n",
            " 5   population          13436 non-null  float64\n",
            " 6   households          13436 non-null  float64\n",
            " 7   median_income       13436 non-null  float64\n",
            " 8   median_house_value  13436 non-null  float64\n",
            " 9   ocean_proximity     13436 non-null  object \n",
            "dtypes: float64(9), object(1)\n",
            "memory usage: 1.1+ MB\n"
          ]
        }
      ],
      "source": [
        "df_clean.info()"
      ]
    },
    {
      "cell_type": "markdown",
      "metadata": {},
      "source": [
        "## 4.2 City / Location Analysis\n",
        "\n",
        "Analisis ini bertujuan untuk memahami persebaran jumlah perumahan berdasarkan lokasi geografis (nama kota atau area) yang dihasilkan dari proses reverse geocoding terhadap koordinat latitude dan longitude.  \n",
        "Langkah ini penting untuk melihat seberapa besar konsentrasi data di beberapa kota besar dibanding daerah lain, serta mengidentifikasi kota dengan potensi pasar properti yang signifikan."
      ]
    },
    {
      "cell_type": "code",
      "execution_count": 213,
      "metadata": {},
      "outputs": [
        {
          "data": {
            "text/html": [
              "<div>\n",
              "<style scoped>\n",
              "    .dataframe tbody tr th:only-of-type {\n",
              "        vertical-align: middle;\n",
              "    }\n",
              "\n",
              "    .dataframe tbody tr th {\n",
              "        vertical-align: top;\n",
              "    }\n",
              "\n",
              "    .dataframe thead th {\n",
              "        text-align: right;\n",
              "    }\n",
              "</style>\n",
              "<table border=\"1\" class=\"dataframe\">\n",
              "  <thead>\n",
              "    <tr style=\"text-align: right;\">\n",
              "      <th></th>\n",
              "      <th>longitude</th>\n",
              "      <th>latitude</th>\n",
              "      <th>housing_median_age</th>\n",
              "      <th>total_rooms</th>\n",
              "      <th>total_bedrooms</th>\n",
              "      <th>population</th>\n",
              "      <th>households</th>\n",
              "      <th>median_income</th>\n",
              "      <th>median_house_value</th>\n",
              "      <th>ocean_proximity</th>\n",
              "      <th>location_name</th>\n",
              "    </tr>\n",
              "  </thead>\n",
              "  <tbody>\n",
              "    <tr>\n",
              "      <th>0</th>\n",
              "      <td>-119.79</td>\n",
              "      <td>36.73</td>\n",
              "      <td>52</td>\n",
              "      <td>112</td>\n",
              "      <td>28.0</td>\n",
              "      <td>193</td>\n",
              "      <td>40</td>\n",
              "      <td>1.9750</td>\n",
              "      <td>47500</td>\n",
              "      <td>INLAND</td>\n",
              "      <td>741 H St, Fresno, CA 93721, USA</td>\n",
              "    </tr>\n",
              "    <tr>\n",
              "      <th>1</th>\n",
              "      <td>-122.21</td>\n",
              "      <td>37.77</td>\n",
              "      <td>43</td>\n",
              "      <td>1017</td>\n",
              "      <td>328.0</td>\n",
              "      <td>836</td>\n",
              "      <td>277</td>\n",
              "      <td>2.2604</td>\n",
              "      <td>100000</td>\n",
              "      <td>NEAR BAY</td>\n",
              "      <td>4801 International Blvd, Oakland, CA 94601, USA</td>\n",
              "    </tr>\n",
              "    <tr>\n",
              "      <th>2</th>\n",
              "      <td>-118.04</td>\n",
              "      <td>33.87</td>\n",
              "      <td>17</td>\n",
              "      <td>2358</td>\n",
              "      <td>396.0</td>\n",
              "      <td>1387</td>\n",
              "      <td>364</td>\n",
              "      <td>6.2990</td>\n",
              "      <td>285800</td>\n",
              "      <td>&lt;1H OCEAN</td>\n",
              "      <td>17719 Gerritt Ave, Cerritos, CA 90703, USA</td>\n",
              "    </tr>\n",
              "    <tr>\n",
              "      <th>3</th>\n",
              "      <td>-118.28</td>\n",
              "      <td>34.06</td>\n",
              "      <td>17</td>\n",
              "      <td>2518</td>\n",
              "      <td>1196.0</td>\n",
              "      <td>3051</td>\n",
              "      <td>1000</td>\n",
              "      <td>1.7199</td>\n",
              "      <td>175000</td>\n",
              "      <td>&lt;1H OCEAN</td>\n",
              "      <td>American Cement Building, 2404 Wilshire Blvd, ...</td>\n",
              "    </tr>\n",
              "    <tr>\n",
              "      <th>4</th>\n",
              "      <td>-119.81</td>\n",
              "      <td>36.73</td>\n",
              "      <td>50</td>\n",
              "      <td>772</td>\n",
              "      <td>194.0</td>\n",
              "      <td>606</td>\n",
              "      <td>167</td>\n",
              "      <td>2.2206</td>\n",
              "      <td>59200</td>\n",
              "      <td>INLAND</td>\n",
              "      <td>207 E Oleander Ave, Fresno, CA 93706, USA</td>\n",
              "    </tr>\n",
              "    <tr>\n",
              "      <th>...</th>\n",
              "      <td>...</td>\n",
              "      <td>...</td>\n",
              "      <td>...</td>\n",
              "      <td>...</td>\n",
              "      <td>...</td>\n",
              "      <td>...</td>\n",
              "      <td>...</td>\n",
              "      <td>...</td>\n",
              "      <td>...</td>\n",
              "      <td>...</td>\n",
              "      <td>...</td>\n",
              "    </tr>\n",
              "    <tr>\n",
              "      <th>13784</th>\n",
              "      <td>-121.26</td>\n",
              "      <td>38.27</td>\n",
              "      <td>20</td>\n",
              "      <td>1314</td>\n",
              "      <td>229.0</td>\n",
              "      <td>712</td>\n",
              "      <td>219</td>\n",
              "      <td>4.4125</td>\n",
              "      <td>144600</td>\n",
              "      <td>INLAND</td>\n",
              "      <td>7P9R+X2 Herald, CA, USA</td>\n",
              "    </tr>\n",
              "    <tr>\n",
              "      <th>13785</th>\n",
              "      <td>-120.89</td>\n",
              "      <td>37.48</td>\n",
              "      <td>27</td>\n",
              "      <td>1118</td>\n",
              "      <td>195.0</td>\n",
              "      <td>647</td>\n",
              "      <td>209</td>\n",
              "      <td>2.9135</td>\n",
              "      <td>159400</td>\n",
              "      <td>INLAND</td>\n",
              "      <td>F4H5+XX Turlock, CA, USA</td>\n",
              "    </tr>\n",
              "    <tr>\n",
              "      <th>13786</th>\n",
              "      <td>-121.90</td>\n",
              "      <td>36.58</td>\n",
              "      <td>31</td>\n",
              "      <td>1431</td>\n",
              "      <td>284.8</td>\n",
              "      <td>704</td>\n",
              "      <td>393</td>\n",
              "      <td>3.1977</td>\n",
              "      <td>289300</td>\n",
              "      <td>NEAR OCEAN</td>\n",
              "      <td>1401 Munras Ave, Monterey, CA 93940, USA</td>\n",
              "    </tr>\n",
              "    <tr>\n",
              "      <th>13787</th>\n",
              "      <td>-117.93</td>\n",
              "      <td>33.62</td>\n",
              "      <td>34</td>\n",
              "      <td>2125</td>\n",
              "      <td>498.0</td>\n",
              "      <td>1052</td>\n",
              "      <td>468</td>\n",
              "      <td>5.6315</td>\n",
              "      <td>484600</td>\n",
              "      <td>&lt;1H OCEAN</td>\n",
              "      <td>68 Balboa Coves, Newport Beach, CA 92663, USA</td>\n",
              "    </tr>\n",
              "    <tr>\n",
              "      <th>13788</th>\n",
              "      <td>-115.56</td>\n",
              "      <td>32.80</td>\n",
              "      <td>15</td>\n",
              "      <td>1171</td>\n",
              "      <td>328.0</td>\n",
              "      <td>1024</td>\n",
              "      <td>298</td>\n",
              "      <td>1.3882</td>\n",
              "      <td>69400</td>\n",
              "      <td>INLAND</td>\n",
              "      <td>812 N 7th St, El Centro, CA 92243, USA</td>\n",
              "    </tr>\n",
              "  </tbody>\n",
              "</table>\n",
              "<p>13789 rows × 11 columns</p>\n",
              "</div>"
            ],
            "text/plain": [
              "       longitude  latitude  housing_median_age  total_rooms  total_bedrooms  \\\n",
              "0        -119.79     36.73                  52          112            28.0   \n",
              "1        -122.21     37.77                  43         1017           328.0   \n",
              "2        -118.04     33.87                  17         2358           396.0   \n",
              "3        -118.28     34.06                  17         2518          1196.0   \n",
              "4        -119.81     36.73                  50          772           194.0   \n",
              "...          ...       ...                 ...          ...             ...   \n",
              "13784    -121.26     38.27                  20         1314           229.0   \n",
              "13785    -120.89     37.48                  27         1118           195.0   \n",
              "13786    -121.90     36.58                  31         1431           284.8   \n",
              "13787    -117.93     33.62                  34         2125           498.0   \n",
              "13788    -115.56     32.80                  15         1171           328.0   \n",
              "\n",
              "       population  households  median_income  median_house_value  \\\n",
              "0             193          40         1.9750               47500   \n",
              "1             836         277         2.2604              100000   \n",
              "2            1387         364         6.2990              285800   \n",
              "3            3051        1000         1.7199              175000   \n",
              "4             606         167         2.2206               59200   \n",
              "...           ...         ...            ...                 ...   \n",
              "13784         712         219         4.4125              144600   \n",
              "13785         647         209         2.9135              159400   \n",
              "13786         704         393         3.1977              289300   \n",
              "13787        1052         468         5.6315              484600   \n",
              "13788        1024         298         1.3882               69400   \n",
              "\n",
              "      ocean_proximity                                      location_name  \n",
              "0              INLAND                    741 H St, Fresno, CA 93721, USA  \n",
              "1            NEAR BAY    4801 International Blvd, Oakland, CA 94601, USA  \n",
              "2           <1H OCEAN         17719 Gerritt Ave, Cerritos, CA 90703, USA  \n",
              "3           <1H OCEAN  American Cement Building, 2404 Wilshire Blvd, ...  \n",
              "4              INLAND          207 E Oleander Ave, Fresno, CA 93706, USA  \n",
              "...               ...                                                ...  \n",
              "13784          INLAND                            7P9R+X2 Herald, CA, USA  \n",
              "13785          INLAND                           F4H5+XX Turlock, CA, USA  \n",
              "13786      NEAR OCEAN           1401 Munras Ave, Monterey, CA 93940, USA  \n",
              "13787       <1H OCEAN      68 Balboa Coves, Newport Beach, CA 92663, USA  \n",
              "13788          INLAND             812 N 7th St, El Centro, CA 92243, USA  \n",
              "\n",
              "[13789 rows x 11 columns]"
            ]
          },
          "execution_count": 213,
          "metadata": {},
          "output_type": "execute_result"
        }
      ],
      "source": [
        "df_clean = pd.read_csv(f\"{dataset_path}/data_california_house_geo.csv\")\n",
        "df_clean"
      ]
    },
    {
      "cell_type": "code",
      "execution_count": 224,
      "metadata": {},
      "outputs": [],
      "source": [
        "import re\n",
        "\n",
        "def extract_city_corrected(location_name):\n",
        "    if not isinstance(location_name, str):\n",
        "        return None\n",
        "    \n",
        "    parts = location_name.split(',')\n",
        "    if len(parts) > 1:\n",
        "        if \"CA\" in parts[1].strip():\n",
        "            # Ambil bagian setelah kode Plus\n",
        "            match = re.search(r'\\+\\w+\\s*(.*), CA, USA', location_name)\n",
        "            if match:\n",
        "                return match.group(1)\n",
        "        else:\n",
        "            # Ekstraksi normal\n",
        "            city = parts[1].strip()\n",
        "            return city\n",
        "    return None\n",
        "\n",
        "df_clean['city_name'] = df_clean['location_name'].apply(extract_city_corrected)\n"
      ]
    },
    {
      "cell_type": "code",
      "execution_count": 225,
      "metadata": {},
      "outputs": [],
      "source": [
        "df_clean['city_name'] = df_clean['location_name'].apply(extract_city_corrected)"
      ]
    },
    {
      "cell_type": "code",
      "execution_count": 226,
      "metadata": {},
      "outputs": [
        {
          "data": {
            "text/html": [
              "<div>\n",
              "<style scoped>\n",
              "    .dataframe tbody tr th:only-of-type {\n",
              "        vertical-align: middle;\n",
              "    }\n",
              "\n",
              "    .dataframe tbody tr th {\n",
              "        vertical-align: top;\n",
              "    }\n",
              "\n",
              "    .dataframe thead th {\n",
              "        text-align: right;\n",
              "    }\n",
              "</style>\n",
              "<table border=\"1\" class=\"dataframe\">\n",
              "  <thead>\n",
              "    <tr style=\"text-align: right;\">\n",
              "      <th></th>\n",
              "      <th>longitude</th>\n",
              "      <th>latitude</th>\n",
              "      <th>housing_median_age</th>\n",
              "      <th>total_rooms</th>\n",
              "      <th>total_bedrooms</th>\n",
              "      <th>population</th>\n",
              "      <th>households</th>\n",
              "      <th>median_income</th>\n",
              "      <th>median_house_value</th>\n",
              "      <th>ocean_proximity</th>\n",
              "      <th>location_name</th>\n",
              "      <th>city_name</th>\n",
              "    </tr>\n",
              "  </thead>\n",
              "  <tbody>\n",
              "    <tr>\n",
              "      <th>244</th>\n",
              "      <td>-121.02</td>\n",
              "      <td>36.94</td>\n",
              "      <td>33</td>\n",
              "      <td>1541</td>\n",
              "      <td>313.0</td>\n",
              "      <td>880</td>\n",
              "      <td>272</td>\n",
              "      <td>2.5074</td>\n",
              "      <td>117700</td>\n",
              "      <td>INLAND</td>\n",
              "      <td>848WWXQH+XX</td>\n",
              "      <td>None</td>\n",
              "    </tr>\n",
              "    <tr>\n",
              "      <th>1785</th>\n",
              "      <td>-119.06</td>\n",
              "      <td>34.62</td>\n",
              "      <td>10</td>\n",
              "      <td>416</td>\n",
              "      <td>110.0</td>\n",
              "      <td>436</td>\n",
              "      <td>70</td>\n",
              "      <td>2.2222</td>\n",
              "      <td>262500</td>\n",
              "      <td>&lt;1H OCEAN</td>\n",
              "      <td>8562JWCQ+2X</td>\n",
              "      <td>None</td>\n",
              "    </tr>\n",
              "    <tr>\n",
              "      <th>2601</th>\n",
              "      <td>-121.06</td>\n",
              "      <td>36.72</td>\n",
              "      <td>23</td>\n",
              "      <td>395</td>\n",
              "      <td>70.0</td>\n",
              "      <td>166</td>\n",
              "      <td>52</td>\n",
              "      <td>2.2132</td>\n",
              "      <td>100000</td>\n",
              "      <td>INLAND</td>\n",
              "      <td>848WPW9Q+XX</td>\n",
              "      <td>None</td>\n",
              "    </tr>\n",
              "    <tr>\n",
              "      <th>2691</th>\n",
              "      <td>-115.52</td>\n",
              "      <td>34.22</td>\n",
              "      <td>30</td>\n",
              "      <td>540</td>\n",
              "      <td>136.0</td>\n",
              "      <td>122</td>\n",
              "      <td>63</td>\n",
              "      <td>1.3333</td>\n",
              "      <td>42500</td>\n",
              "      <td>INLAND</td>\n",
              "      <td>85666F9J+X2</td>\n",
              "      <td>None</td>\n",
              "    </tr>\n",
              "    <tr>\n",
              "      <th>3126</th>\n",
              "      <td>-114.98</td>\n",
              "      <td>33.82</td>\n",
              "      <td>15</td>\n",
              "      <td>644</td>\n",
              "      <td>129.0</td>\n",
              "      <td>137</td>\n",
              "      <td>52</td>\n",
              "      <td>3.2097</td>\n",
              "      <td>71300</td>\n",
              "      <td>INLAND</td>\n",
              "      <td>8557R299+XX</td>\n",
              "      <td>None</td>\n",
              "    </tr>\n",
              "    <tr>\n",
              "      <th>8405</th>\n",
              "      <td>-119.80</td>\n",
              "      <td>36.02</td>\n",
              "      <td>20</td>\n",
              "      <td>156</td>\n",
              "      <td>39.0</td>\n",
              "      <td>171</td>\n",
              "      <td>37</td>\n",
              "      <td>3.0500</td>\n",
              "      <td>225000</td>\n",
              "      <td>INLAND</td>\n",
              "      <td>85822692+X2</td>\n",
              "      <td>None</td>\n",
              "    </tr>\n",
              "    <tr>\n",
              "      <th>9622</th>\n",
              "      <td>-114.94</td>\n",
              "      <td>34.55</td>\n",
              "      <td>20</td>\n",
              "      <td>350</td>\n",
              "      <td>95.0</td>\n",
              "      <td>119</td>\n",
              "      <td>58</td>\n",
              "      <td>1.6250</td>\n",
              "      <td>50000</td>\n",
              "      <td>INLAND</td>\n",
              "      <td>8567G3X6+X2</td>\n",
              "      <td>None</td>\n",
              "    </tr>\n",
              "    <tr>\n",
              "      <th>12781</th>\n",
              "      <td>-115.22</td>\n",
              "      <td>33.54</td>\n",
              "      <td>18</td>\n",
              "      <td>1706</td>\n",
              "      <td>397.0</td>\n",
              "      <td>3424</td>\n",
              "      <td>283</td>\n",
              "      <td>1.6250</td>\n",
              "      <td>53500</td>\n",
              "      <td>INLAND</td>\n",
              "      <td>8556GQQH+XX</td>\n",
              "      <td>None</td>\n",
              "    </tr>\n",
              "    <tr>\n",
              "      <th>12862</th>\n",
              "      <td>-121.76</td>\n",
              "      <td>41.50</td>\n",
              "      <td>31</td>\n",
              "      <td>602</td>\n",
              "      <td>153.0</td>\n",
              "      <td>112</td>\n",
              "      <td>47</td>\n",
              "      <td>1.0667</td>\n",
              "      <td>34200</td>\n",
              "      <td>INLAND</td>\n",
              "      <td>84HWG62R+22</td>\n",
              "      <td>None</td>\n",
              "    </tr>\n",
              "    <tr>\n",
              "      <th>13103</th>\n",
              "      <td>-123.91</td>\n",
              "      <td>41.68</td>\n",
              "      <td>22</td>\n",
              "      <td>1880</td>\n",
              "      <td>360.0</td>\n",
              "      <td>743</td>\n",
              "      <td>314</td>\n",
              "      <td>2.9688</td>\n",
              "      <td>152700</td>\n",
              "      <td>&lt;1H OCEAN</td>\n",
              "      <td>84HRM3JR+22</td>\n",
              "      <td>None</td>\n",
              "    </tr>\n",
              "    <tr>\n",
              "      <th>13630</th>\n",
              "      <td>-119.72</td>\n",
              "      <td>34.77</td>\n",
              "      <td>35</td>\n",
              "      <td>2469</td>\n",
              "      <td>553.0</td>\n",
              "      <td>1168</td>\n",
              "      <td>427</td>\n",
              "      <td>2.4583</td>\n",
              "      <td>62100</td>\n",
              "      <td>&lt;1H OCEAN</td>\n",
              "      <td>8562Q79H+XX</td>\n",
              "      <td>None</td>\n",
              "    </tr>\n",
              "  </tbody>\n",
              "</table>\n",
              "</div>"
            ],
            "text/plain": [
              "       longitude  latitude  housing_median_age  total_rooms  total_bedrooms  \\\n",
              "244      -121.02     36.94                  33         1541           313.0   \n",
              "1785     -119.06     34.62                  10          416           110.0   \n",
              "2601     -121.06     36.72                  23          395            70.0   \n",
              "2691     -115.52     34.22                  30          540           136.0   \n",
              "3126     -114.98     33.82                  15          644           129.0   \n",
              "8405     -119.80     36.02                  20          156            39.0   \n",
              "9622     -114.94     34.55                  20          350            95.0   \n",
              "12781    -115.22     33.54                  18         1706           397.0   \n",
              "12862    -121.76     41.50                  31          602           153.0   \n",
              "13103    -123.91     41.68                  22         1880           360.0   \n",
              "13630    -119.72     34.77                  35         2469           553.0   \n",
              "\n",
              "       population  households  median_income  median_house_value  \\\n",
              "244           880         272         2.5074              117700   \n",
              "1785          436          70         2.2222              262500   \n",
              "2601          166          52         2.2132              100000   \n",
              "2691          122          63         1.3333               42500   \n",
              "3126          137          52         3.2097               71300   \n",
              "8405          171          37         3.0500              225000   \n",
              "9622          119          58         1.6250               50000   \n",
              "12781        3424         283         1.6250               53500   \n",
              "12862         112          47         1.0667               34200   \n",
              "13103         743         314         2.9688              152700   \n",
              "13630        1168         427         2.4583               62100   \n",
              "\n",
              "      ocean_proximity location_name city_name  \n",
              "244            INLAND   848WWXQH+XX      None  \n",
              "1785        <1H OCEAN   8562JWCQ+2X      None  \n",
              "2601           INLAND   848WPW9Q+XX      None  \n",
              "2691           INLAND   85666F9J+X2      None  \n",
              "3126           INLAND   8557R299+XX      None  \n",
              "8405           INLAND   85822692+X2      None  \n",
              "9622           INLAND   8567G3X6+X2      None  \n",
              "12781          INLAND   8556GQQH+XX      None  \n",
              "12862          INLAND   84HWG62R+22      None  \n",
              "13103       <1H OCEAN   84HRM3JR+22      None  \n",
              "13630       <1H OCEAN   8562Q79H+XX      None  "
            ]
          },
          "execution_count": 226,
          "metadata": {},
          "output_type": "execute_result"
        }
      ],
      "source": [
        "# Mencari baris di mana kolom city_name kosong atau null\n",
        "missing_city_names = df_clean[df_clean['city_name'].isnull()]\n",
        "missing_city_names"
      ]
    },
    {
      "cell_type": "markdown",
      "metadata": {},
      "source": [
        "Terdapat 11 rows yang tidak memiliki nama kota yang spesifik dan kita akan membuangnya."
      ]
    },
    {
      "cell_type": "code",
      "execution_count": 227,
      "metadata": {},
      "outputs": [],
      "source": [
        "# Membuang baris yang memiliki nilai null pada kolom city_name\n",
        "df_clean = df_clean.dropna(subset=['city_name'])"
      ]
    },
    {
      "cell_type": "code",
      "execution_count": 228,
      "metadata": {},
      "outputs": [
        {
          "data": {
            "text/plain": [
              "1328"
            ]
          },
          "execution_count": 228,
          "metadata": {},
          "output_type": "execute_result"
        }
      ],
      "source": [
        "# Jumlah unique city yang tercatat\n",
        "df_clean['city_name'].nunique()"
      ]
    },
    {
      "cell_type": "code",
      "execution_count": 229,
      "metadata": {},
      "outputs": [
        {
          "data": {
            "image/png": "[encoded data removed]",
            "text/plain": [
              "<Figure size 1200x800 with 1 Axes>"
            ]
          },
          "metadata": {},
          "output_type": "display_data"
        }
      ],
      "source": [
        "# Menghitung frekuensi setiap kota\n",
        "top_cities = df_clean['city_name'].value_counts().head(10)\n",
        "\n",
        "# Membuat bar plot untuk 10 kota dengan frekuensi terbanyak\n",
        "plt.figure(figsize=(12, 8))\n",
        "plt.bar(top_cities.index, top_cities.values, color='C0')\n",
        "plt.xlabel('Nama Kota')\n",
        "plt.ylabel('Frekuensi')\n",
        "plt.title('10 Kota dengan Frekuensi Perumahan Terbanyak')\n",
        "plt.xticks(rotation=45, ha='right')\n",
        "plt.show()"
      ]
    },
    {
      "cell_type": "code",
      "execution_count": 230,
      "metadata": {},
      "outputs": [
        {
          "data": {
            "text/html": [
              "<div>\n",
              "<style scoped>\n",
              "    .dataframe tbody tr th:only-of-type {\n",
              "        vertical-align: middle;\n",
              "    }\n",
              "\n",
              "    .dataframe tbody tr th {\n",
              "        vertical-align: top;\n",
              "    }\n",
              "\n",
              "    .dataframe thead th {\n",
              "        text-align: right;\n",
              "    }\n",
              "</style>\n",
              "<table border=\"1\" class=\"dataframe\">\n",
              "  <thead>\n",
              "    <tr style=\"text-align: right;\">\n",
              "      <th></th>\n",
              "      <th>count</th>\n",
              "    </tr>\n",
              "    <tr>\n",
              "      <th>city_name</th>\n",
              "      <th></th>\n",
              "    </tr>\n",
              "  </thead>\n",
              "  <tbody>\n",
              "    <tr>\n",
              "      <th>Los Angeles</th>\n",
              "      <td>962</td>\n",
              "    </tr>\n",
              "    <tr>\n",
              "      <th>San Diego</th>\n",
              "      <td>539</td>\n",
              "    </tr>\n",
              "    <tr>\n",
              "      <th>San Francisco</th>\n",
              "      <td>362</td>\n",
              "    </tr>\n",
              "    <tr>\n",
              "      <th>San Jose</th>\n",
              "      <td>325</td>\n",
              "    </tr>\n",
              "    <tr>\n",
              "      <th>Sacramento</th>\n",
              "      <td>275</td>\n",
              "    </tr>\n",
              "    <tr>\n",
              "      <th>Oakland</th>\n",
              "      <td>262</td>\n",
              "    </tr>\n",
              "    <tr>\n",
              "      <th>Long Beach</th>\n",
              "      <td>219</td>\n",
              "    </tr>\n",
              "    <tr>\n",
              "      <th>Fresno</th>\n",
              "      <td>200</td>\n",
              "    </tr>\n",
              "    <tr>\n",
              "      <th>Stockton</th>\n",
              "      <td>168</td>\n",
              "    </tr>\n",
              "    <tr>\n",
              "      <th>Bakersfield</th>\n",
              "      <td>153</td>\n",
              "    </tr>\n",
              "  </tbody>\n",
              "</table>\n",
              "</div>"
            ],
            "text/plain": [
              "               count\n",
              "city_name           \n",
              "Los Angeles      962\n",
              "San Diego        539\n",
              "San Francisco    362\n",
              "San Jose         325\n",
              "Sacramento       275\n",
              "Oakland          262\n",
              "Long Beach       219\n",
              "Fresno           200\n",
              "Stockton         168\n",
              "Bakersfield      153"
            ]
          },
          "execution_count": 230,
          "metadata": {},
          "output_type": "execute_result"
        }
      ],
      "source": [
        "# Menghitung jumlah perumahan pada 10 kota teratas\n",
        "top_10_cities = df_clean['city_name'].value_counts().head(10)\n",
        "pd.DataFrame(top_10_cities)"
      ]
    },
    {
      "cell_type": "markdown",
      "metadata": {},
      "source": [
        "Interpretasi & Insight Bisnis\n",
        "\n",
        "- **Distribusi data yang tersebar luas** menunjukkan bahwa pasar perumahan di California tidak terkonsentrasi hanya di beberapa kota besar, tetapi juga memiliki representasi kuat di banyak daerah suburban dan rural.\n",
        "- **Los Angeles** dan **San Diego** sebagai dua kota dengan frekuensi perumahan tertinggi merefleksikan area metropolitan dengan populasi besar dan permintaan properti tinggi.\n",
        "- **Kota pesisir seperti San Francisco, San Jose, dan Oakland** menunjukkan volume data yang signifikan, memperkuat korelasi antara *kedekatan dengan pantai* dan *aktivitas pasar properti yang tinggi*.\n",
        "- Fakta bahwa **10 kota teratas hanya mewakili 25% data** menandakan **pasar properti di California sangat beragam secara geografis** — ini bisa menjadi peluang bagi pengembang atau investor untuk menjelajahi daerah non-metropolitan yang mungkin undervalued.\n",
        "- Pola ini mendukung temuan sebelumnya pada analisis `ocean_proximity` bahwa **lokasi memiliki pengaruh kuat terhadap harga rumah**, tetapi **jumlah data tersebar merata** menunjukkan variasi besar di seluruh wilayah.\n",
        "\n",
        "Kesimpulan City Analysis\n",
        "Analisis lokasi menunjukkan bahwa:\n",
        "- Wilayah dengan aktivitas perumahan tertinggi masih terkonsentrasi di kota besar seperti Los Angeles dan San Diego.  \n",
        "- Namun, persebaran data yang luas di lebih dari 1.300 kota menandakan peluang besar dalam analisis spasial lanjutan — seperti perbandingan rata-rata harga rumah antar kota atau klasifikasi wilayah *affordable* vs *luxury*.\n",
        "- Temuan ini memberikan dasar kuat untuk melanjutkan analisis selanjutnya mengenai hubungan antara **lokasi geografis dan harga rumah**."
      ]
    },
    {
      "cell_type": "markdown",
      "metadata": {
        "id": "GyohcGeQg8I6"
      },
      "source": [
        "## 4.3 Affordable vs Luxury House Analysis\n",
        "\n",
        "- Untuk bisa lebih memahami karakteristik dari perumahan yang ada, kita akan mencoba membaginya menjadi dua kategori berdasarkan rentang harganya.\n",
        "- Kita akan membaginya menggunakan konsep Kuartil. Rumah dengan harga dalam rentang Q1-Q2 akan masuk ke dalam kategori Affordable dan Q2-Q4 akan menjadi kategory Luxury."
      ]
    },
    {
      "cell_type": "code",
      "execution_count": 231,
      "metadata": {
        "id": "FAHicxaKbxjq"
      },
      "outputs": [],
      "source": [
        "q1 = df_clean['median_house_value'].quantile(0.25)\n",
        "q2 = df_clean['median_house_value'].quantile(0.5)\n",
        "q3 = df_clean['median_house_value'].quantile(0.75)\n",
        "\n",
        "def categorize_house(value):\n",
        "    if value <= q2:\n",
        "        return 'Affordable'\n",
        "    elif value > q2:\n",
        "        return 'Luxury'"
      ]
    },
    {
      "cell_type": "code",
      "execution_count": 232,
      "metadata": {},
      "outputs": [
        {
          "name": "stdout",
          "output_type": "stream",
          "text": [
            "house_category\n",
            "Affordable    50.02%\n",
            "Luxury        49.98%\n",
            "Name: proportion, dtype: object\n"
          ]
        }
      ],
      "source": [
        "# Hitung threshold harga (median)\n",
        "price_threshold = df_clean['median_house_value'].quantile(0.5)  # q2\n",
        "\n",
        "# Fungsi kategorisasi\n",
        "def categorize_house(value):\n",
        "    if value <= price_threshold:\n",
        "        return 'Affordable'\n",
        "    else:\n",
        "        return 'Luxury'\n",
        "\n",
        "# Terapkan ke dataset\n",
        "df_clean['house_category'] = df_clean['median_house_value'].apply(categorize_house)\n",
        "\n",
        "# Cek distribusi kategori\n",
        "print(df_clean['house_category'].value_counts(normalize=True).mul(100).round(2).astype(str) + '%')\n"
      ]
    },
    {
      "cell_type": "code",
      "execution_count": 233,
      "metadata": {
        "colab": {
          "base_uri": "https://localhost:8080/"
        },
        "id": "6f9kSc1Afm7E",
        "outputId": "a4166235-45b0-43ae-be83-3b06123b4012"
      },
      "outputs": [
        {
          "data": {
            "image/png": "[encoded data removed]",
            "text/plain": [
              "<Figure size 1000x600 with 1 Axes>"
            ]
          },
          "metadata": {},
          "output_type": "display_data"
        }
      ],
      "source": [
        "plt.figure(figsize=(10, 6))\n",
        "sns.boxplot(x='house_category', y='median_house_value', data=df_clean)\n",
        "plt.title('Box Plot of Median House Value by House Category')\n",
        "plt.xlabel('House Category')\n",
        "plt.ylabel('Median House Value')\n",
        "plt.show()"
      ]
    },
    {
      "cell_type": "code",
      "execution_count": 234,
      "metadata": {
        "colab": {
          "base_uri": "https://localhost:8080/"
        },
        "id": "35Lo6zG9dxR3",
        "outputId": "98d777f6-6b77-4b4f-eac2-bffc1068b70b"
      },
      "outputs": [
        {
          "data": {
            "text/html": [
              "<div>\n",
              "<style scoped>\n",
              "    .dataframe tbody tr th:only-of-type {\n",
              "        vertical-align: middle;\n",
              "    }\n",
              "\n",
              "    .dataframe tbody tr th {\n",
              "        vertical-align: top;\n",
              "    }\n",
              "\n",
              "    .dataframe thead th {\n",
              "        text-align: right;\n",
              "    }\n",
              "</style>\n",
              "<table border=\"1\" class=\"dataframe\">\n",
              "  <thead>\n",
              "    <tr style=\"text-align: right;\">\n",
              "      <th></th>\n",
              "      <th>Affordable</th>\n",
              "      <th>Luxury</th>\n",
              "    </tr>\n",
              "  </thead>\n",
              "  <tbody>\n",
              "    <tr>\n",
              "      <th>count</th>\n",
              "      <td>6892.000000</td>\n",
              "      <td>6886.000000</td>\n",
              "    </tr>\n",
              "    <tr>\n",
              "      <th>mean</th>\n",
              "      <td>117395.791788</td>\n",
              "      <td>290875.784781</td>\n",
              "    </tr>\n",
              "    <tr>\n",
              "      <th>std</th>\n",
              "      <td>36921.892503</td>\n",
              "      <td>96401.659643</td>\n",
              "    </tr>\n",
              "    <tr>\n",
              "      <th>min</th>\n",
              "      <td>14999.000000</td>\n",
              "      <td>178200.000000</td>\n",
              "    </tr>\n",
              "    <tr>\n",
              "      <th>25%</th>\n",
              "      <td>87700.000000</td>\n",
              "      <td>215400.000000</td>\n",
              "    </tr>\n",
              "    <tr>\n",
              "      <th>50%</th>\n",
              "      <td>118200.000000</td>\n",
              "      <td>260750.000000</td>\n",
              "    </tr>\n",
              "    <tr>\n",
              "      <th>75%</th>\n",
              "      <td>150300.000000</td>\n",
              "      <td>347800.000000</td>\n",
              "    </tr>\n",
              "    <tr>\n",
              "      <th>max</th>\n",
              "      <td>178100.000000</td>\n",
              "      <td>500001.000000</td>\n",
              "    </tr>\n",
              "  </tbody>\n",
              "</table>\n",
              "</div>"
            ],
            "text/plain": [
              "          Affordable         Luxury\n",
              "count    6892.000000    6886.000000\n",
              "mean   117395.791788  290875.784781\n",
              "std     36921.892503   96401.659643\n",
              "min     14999.000000  178200.000000\n",
              "25%     87700.000000  215400.000000\n",
              "50%    118200.000000  260750.000000\n",
              "75%    150300.000000  347800.000000\n",
              "max    178100.000000  500001.000000"
            ]
          },
          "execution_count": 234,
          "metadata": {},
          "output_type": "execute_result"
        }
      ],
      "source": [
        "# Calculate statistics for median_house_value for Affordable and Luxury categories\n",
        "affordable_house_value_stats = df_clean[df_clean['house_category'] == 'Affordable']['median_house_value'].describe()\n",
        "luxury_house_value_stats = df_clean[df_clean['house_category'] == 'Luxury']['median_house_value'].describe()\n",
        "\n",
        "# Combine the stats into a single DataFrame for easier comparison\n",
        "house_value_stats = pd.DataFrame({\n",
        "    'Affordable': affordable_house_value_stats,\n",
        "    'Luxury': luxury_house_value_stats\n",
        "})\n",
        "\n",
        "house_value_stats"
      ]
    },
    {
      "cell_type": "markdown",
      "metadata": {
        "id": "zzHuqL8VpFnb"
      },
      "source": [
        "### 4.3.1 Insight Affordable vs luxury\n",
        "\n",
        "Untuk memahami karakteristik pasar properti, kita mengelompokkan rumah menjadi dua kategori harga:\n",
        "- **Affordable**: rumah dengan `median_house_value` kurang dari atau sama dengan nilai median keseluruhan (Q2).\n",
        "- **Luxury**: rumah dengan `median_house_value` di atas median.\n",
        "\n",
        "Pendekatan ini memecah dataset menjadi segmen harga bawah vs harga atas, sehingga kita bisa melihat perbedaan profil antar segmen.\n",
        "\n",
        "**Temuan utama:**\n",
        "- Secara proporsi, kategori Affordable dan Luxury tersebar relatif seimbang (±50% : ±50%, tergantung distribusi pastinya pada data).\n",
        "- Boxplot `median_house_value` menunjukkan bahwa jarak nilai antara Affordable dan Luxury cukup besar; kategori Luxury memiliki rentang harga yang jauh lebih tinggi dan ekor atas (upper whisker) yang panjang. Ini menandakan adanya properti dengan nilai jual yang sangat tinggi.\n",
        "- Saat kita bandingkan `median_income` antara dua kategori, terlihat bahwa area dengan rumah kategori Luxury cenderung memiliki pendapatan median penduduk yang lebih tinggi. Ini mengindikasikan bahwa **daya beli lokal adalah salah satu driver utama harga rumah**.\n",
        "- Dengan kata lain, bukan hanya lokasi secara geografis yang memengaruhi harga rumah, tetapi juga konteks ekonomi lingkungan (income level).\n",
        "\n",
        "**Implikasi bisnis:**\n",
        "- Model prediksi harga rumah harus mempertimbangkan variabel pendapatan (`median_income`) karena pendapatan area sangat terkait dengan kategori harga properti.\n",
        "- Segmentasi ini bisa dipakai oleh agen properti/investor untuk menentukan target pasar:\n",
        "    - Area \"Affordable\" → cocok untuk pemasaran produk hunian entry-level.\n",
        "    - Area \"Luxury\" → cocok untuk penawaran high-value / premium housing.\n",
        "\n",
        "**Kesimpulan singkat:**\n",
        "Kategori Luxury bukan sekadar “lebih mahal”, tapi juga berada di area dengan daya beli lebih tinggi. Ini memperkuat hubungan antara kondisi sosio-ekonomi wilayah dan valuasi properti.\n"
      ]
    },
    {
      "cell_type": "code",
      "execution_count": 235,
      "metadata": {
        "colab": {
          "base_uri": "https://localhost:8080/"
        },
        "id": "WoZqBV5ffX_r",
        "outputId": "b67cdae3-32f7-465e-f8ba-6a1dd554ea7e"
      },
      "outputs": [
        {
          "name": "stdout",
          "output_type": "stream",
          "text": [
            "Nilai maksimal dalam dataset: 500001\n"
          ]
        },
        {
          "data": {
            "image/png": "[encoded data removed]",
            "text/plain": [
              "<Figure size 1000x600 with 1 Axes>"
            ]
          },
          "metadata": {},
          "output_type": "display_data"
        }
      ],
      "source": [
        "# Periksa rentang nilai dalam dataset\n",
        "max_value = df_clean['median_house_value'].max()\n",
        "print(f\"Nilai maksimal dalam dataset: {max_value}\")\n",
        "\n",
        "# Buat histogram\n",
        "plt.figure(figsize=(10, 6))\n",
        "sns.histplot(data=df_clean, x='median_house_value', hue='house_category', multiple='stack')\n",
        "plt.title('Histogram of Median House Value by House Category')\n",
        "plt.xlabel('Median House Value')\n",
        "plt.ylabel('Frequency')\n",
        "plt.show()"
      ]
    },
    {
      "cell_type": "code",
      "execution_count": null,
      "metadata": {
        "colab": {
          "base_uri": "https://localhost:8080/"
        },
        "id": "CEGOGsSwpcxs",
        "outputId": "e2f40192-11c3-41db-d17e-7995010e560d"
      },
      "outputs": [
        {
          "data": {
            "text/plain": [
              "572"
            ]
          },
          "execution_count": 218,
          "metadata": {},
          "output_type": "execute_result"
        }
      ],
      "source": [
        "df_clean[df_clean['median_house_value'] >= 500000].shape[0]"
      ]
    },
    {
      "cell_type": "code",
      "execution_count": 236,
      "metadata": {
        "colab": {
          "base_uri": "https://localhost:8080/"
        },
        "id": "XvOahLzDr27e",
        "outputId": "03d52c01-7557-4531-af16-8fbdeb7d2c61"
      },
      "outputs": [
        {
          "data": {
            "text/html": [
              "<div>\n",
              "<style scoped>\n",
              "    .dataframe tbody tr th:only-of-type {\n",
              "        vertical-align: middle;\n",
              "    }\n",
              "\n",
              "    .dataframe tbody tr th {\n",
              "        vertical-align: top;\n",
              "    }\n",
              "\n",
              "    .dataframe thead th {\n",
              "        text-align: right;\n",
              "    }\n",
              "</style>\n",
              "<table border=\"1\" class=\"dataframe\">\n",
              "  <thead>\n",
              "    <tr style=\"text-align: right;\">\n",
              "      <th></th>\n",
              "      <th>housing_median_age</th>\n",
              "      <th>total_rooms</th>\n",
              "      <th>median_income</th>\n",
              "      <th>location_name</th>\n",
              "      <th>ocean_proximity</th>\n",
              "    </tr>\n",
              "  </thead>\n",
              "  <tbody>\n",
              "    <tr>\n",
              "      <th>38</th>\n",
              "      <td>34</td>\n",
              "      <td>1476</td>\n",
              "      <td>8.2883</td>\n",
              "      <td>40 Saddleback Dr, Portola Valley, CA 94028, USA</td>\n",
              "      <td>NEAR OCEAN</td>\n",
              "    </tr>\n",
              "    <tr>\n",
              "      <th>124</th>\n",
              "      <td>52</td>\n",
              "      <td>3257</td>\n",
              "      <td>4.5523</td>\n",
              "      <td>2229-2231 Chestnut St, San Francisco, CA 94123...</td>\n",
              "      <td>NEAR BAY</td>\n",
              "    </tr>\n",
              "    <tr>\n",
              "      <th>189</th>\n",
              "      <td>52</td>\n",
              "      <td>4079</td>\n",
              "      <td>4.5913</td>\n",
              "      <td>1249 Filbert St, San Francisco, CA 94109, USA</td>\n",
              "      <td>NEAR BAY</td>\n",
              "    </tr>\n",
              "    <tr>\n",
              "      <th>223</th>\n",
              "      <td>5</td>\n",
              "      <td>1519</td>\n",
              "      <td>10.3798</td>\n",
              "      <td>F465+2X Milpitas, CA, USA</td>\n",
              "      <td>&lt;1H OCEAN</td>\n",
              "    </tr>\n",
              "    <tr>\n",
              "      <th>225</th>\n",
              "      <td>36</td>\n",
              "      <td>4760</td>\n",
              "      <td>9.0064</td>\n",
              "      <td>11 El Gavilan Rd, Orinda, CA 94563, USA</td>\n",
              "      <td>NEAR BAY</td>\n",
              "    </tr>\n",
              "    <tr>\n",
              "      <th>...</th>\n",
              "      <td>...</td>\n",
              "      <td>...</td>\n",
              "      <td>...</td>\n",
              "      <td>...</td>\n",
              "      <td>...</td>\n",
              "    </tr>\n",
              "    <tr>\n",
              "      <th>13670</th>\n",
              "      <td>26</td>\n",
              "      <td>3535</td>\n",
              "      <td>7.1674</td>\n",
              "      <td>510 Charles E Young Dr E, Los Angeles, CA 9009...</td>\n",
              "      <td>&lt;1H OCEAN</td>\n",
              "    </tr>\n",
              "    <tr>\n",
              "      <th>13672</th>\n",
              "      <td>46</td>\n",
              "      <td>1302</td>\n",
              "      <td>7.0674</td>\n",
              "      <td>100 Constitution Ave, Los Angeles, CA 90095, USA</td>\n",
              "      <td>&lt;1H OCEAN</td>\n",
              "    </tr>\n",
              "    <tr>\n",
              "      <th>13713</th>\n",
              "      <td>18</td>\n",
              "      <td>2550</td>\n",
              "      <td>8.7939</td>\n",
              "      <td>12344 Saraglen Dr, Saratoga, CA 95070, USA</td>\n",
              "      <td>&lt;1H OCEAN</td>\n",
              "    </tr>\n",
              "    <tr>\n",
              "      <th>13719</th>\n",
              "      <td>35</td>\n",
              "      <td>3247</td>\n",
              "      <td>7.8426</td>\n",
              "      <td>412 Cascada Way, Los Angeles, CA 90049, USA</td>\n",
              "      <td>&lt;1H OCEAN</td>\n",
              "    </tr>\n",
              "    <tr>\n",
              "      <th>13754</th>\n",
              "      <td>25</td>\n",
              "      <td>7335</td>\n",
              "      <td>6.5475</td>\n",
              "      <td>3160 Melendy Dr, San Carlos, CA 94070, USA</td>\n",
              "      <td>NEAR OCEAN</td>\n",
              "    </tr>\n",
              "  </tbody>\n",
              "</table>\n",
              "<p>572 rows × 5 columns</p>\n",
              "</div>"
            ],
            "text/plain": [
              "       housing_median_age  total_rooms  median_income  \\\n",
              "38                     34         1476         8.2883   \n",
              "124                    52         3257         4.5523   \n",
              "189                    52         4079         4.5913   \n",
              "223                     5         1519        10.3798   \n",
              "225                    36         4760         9.0064   \n",
              "...                   ...          ...            ...   \n",
              "13670                  26         3535         7.1674   \n",
              "13672                  46         1302         7.0674   \n",
              "13713                  18         2550         8.7939   \n",
              "13719                  35         3247         7.8426   \n",
              "13754                  25         7335         6.5475   \n",
              "\n",
              "                                           location_name ocean_proximity  \n",
              "38       40 Saddleback Dr, Portola Valley, CA 94028, USA      NEAR OCEAN  \n",
              "124    2229-2231 Chestnut St, San Francisco, CA 94123...        NEAR BAY  \n",
              "189        1249 Filbert St, San Francisco, CA 94109, USA        NEAR BAY  \n",
              "223                            F465+2X Milpitas, CA, USA       <1H OCEAN  \n",
              "225              11 El Gavilan Rd, Orinda, CA 94563, USA        NEAR BAY  \n",
              "...                                                  ...             ...  \n",
              "13670  510 Charles E Young Dr E, Los Angeles, CA 9009...       <1H OCEAN  \n",
              "13672   100 Constitution Ave, Los Angeles, CA 90095, USA       <1H OCEAN  \n",
              "13713         12344 Saraglen Dr, Saratoga, CA 95070, USA       <1H OCEAN  \n",
              "13719        412 Cascada Way, Los Angeles, CA 90049, USA       <1H OCEAN  \n",
              "13754         3160 Melendy Dr, San Carlos, CA 94070, USA      NEAR OCEAN  \n",
              "\n",
              "[572 rows x 5 columns]"
            ]
          },
          "execution_count": 236,
          "metadata": {},
          "output_type": "execute_result"
        }
      ],
      "source": [
        "# Mencari baris dengan maximum media house value\n",
        "max_value_row = df_clean[df_clean['median_house_value'] >= 500000]\n",
        "\n",
        "# Extract informasi yang relevan\n",
        "max_value_location = max_value_row[['housing_median_age', 'total_rooms','median_income','location_name', 'ocean_proximity']]\n",
        "max_value_location"
      ]
    },
    {
      "cell_type": "markdown",
      "metadata": {
        "id": "6jmXJC1NpJG3"
      },
      "source": [
        "Dari hasil analisis ditemukan sebanyak 572 baris data (≈4% dari total) memiliki nilai median_house_value sebesar atau lebih dari 500.000 USD, yang merupakan batas maksimum (truncated value) dalam dataset."
      ]
    },
    {
      "cell_type": "markdown",
      "metadata": {
        "id": "NUlQr7B8j_8X"
      },
      "source": [
        "### 4.3.2 Based on Ocean Proximity"
      ]
    },
    {
      "cell_type": "code",
      "execution_count": 237,
      "metadata": {
        "id": "5ACcuMBhkHqu"
      },
      "outputs": [],
      "source": [
        "# Calculate the distribution of ocean proximity within each house category\n",
        "category_ocean_proximity = df_clean.groupby(['house_category', 'ocean_proximity']).size().unstack()"
      ]
    },
    {
      "cell_type": "code",
      "execution_count": 238,
      "metadata": {
        "colab": {
          "base_uri": "https://localhost:8080/"
        },
        "id": "6-irki7_kL7C",
        "outputId": "543929dc-6a18-4a46-ddf9-00d3a7116f1d"
      },
      "outputs": [
        {
          "data": {
            "image/png": "[encoded data removed]",
            "text/plain": [
              "<Figure size 1000x700 with 1 Axes>"
            ]
          },
          "metadata": {},
          "output_type": "display_data"
        }
      ],
      "source": [
        "category_ocean_proximity_pct = (\n",
        "    df_clean.groupby(['house_category', 'ocean_proximity']).size()\n",
        "    .groupby(level=0)\n",
        "    .apply(lambda x: 100 * x / x.sum())\n",
        "    .unstack()\n",
        ")\n",
        "\n",
        "fig, ax = plt.subplots(figsize=(10,7))\n",
        "category_ocean_proximity_pct.plot(\n",
        "    kind='bar', stacked=True, ax=ax,\n",
        "    color=['#1f77b4', '#ff7f0e', '#2ca02c', '#d62728', '#9467bd']\n",
        ")\n",
        "\n",
        "# Format & labels\n",
        "plt.title(\n",
        "    'Proportion of Ocean Proximity by House Category\\n'\n",
        "    '(Luxury homes are concentrated near the ocean and bay areas)',\n",
        "    fontsize=14, fontweight='bold'\n",
        ")\n",
        "plt.xlabel('House Category', fontsize=12)\n",
        "plt.ylabel('Percentage (%)', fontsize=12)\n",
        "plt.xticks(rotation=0)\n",
        "plt.legend(title='Ocean Proximity', bbox_to_anchor=(1.05, 1), loc='upper left')\n",
        "plt.grid(axis='y', linestyle='--', alpha=0.5)\n",
        "plt.tight_layout()\n",
        "\n",
        "# Tambahkan label persentase di tengah tiap segmen\n",
        "for container in ax.containers:\n",
        "    ax.bar_label(container, fmt='%.1f%%', label_type='center', fontsize=9, color='white', fontweight='bold')\n",
        "\n",
        "plt.show()\n"
      ]
    },
    {
      "cell_type": "code",
      "execution_count": 239,
      "metadata": {
        "id": "ODavO23saxlv"
      },
      "outputs": [],
      "source": [
        "# Data untuk affordable\n",
        "inland_affordable = df_clean[(df_clean['house_category'] == 'Affordable') & (df_clean['ocean_proximity'] == 'INLAND')]['median_house_value']\n",
        "ocean_affordable = df_clean[(df_clean['house_category'] == 'Affordable') & (df_clean['ocean_proximity'] == '<1H OCEAN')]['median_house_value']\n",
        "near_bay_affordable = df_clean[(df_clean['house_category'] == 'Affordable') & (df_clean['ocean_proximity'] == 'NEAR BAY')]['median_house_value']\n",
        "near_ocean_affordable = df_clean[(df_clean['house_category'] == 'Affordable') & (df_clean['ocean_proximity'] == 'NEAR OCEAN')]['median_house_value']"
      ]
    },
    {
      "cell_type": "code",
      "execution_count": 240,
      "metadata": {},
      "outputs": [],
      "source": [
        "# Data untuk luxury\n",
        "inland_luxury = df_clean[(df_clean['house_category'] == 'Luxury') & (df_clean['ocean_proximity'] == 'INLAND')]['median_house_value']\n",
        "ocean_luxury = df_clean[(df_clean['house_category'] == 'Luxury') & (df_clean['ocean_proximity'] == '<1H OCEAN')]['median_house_value']\n",
        "near_bay_luxury = df_clean[(df_clean['house_category'] == 'Luxury') & (df_clean['ocean_proximity'] == 'NEAR BAY')]['median_house_value']\n",
        "near_ocean_luxury = df_clean[(df_clean['house_category'] == 'Luxury') & (df_clean['ocean_proximity'] == 'NEAR OCEAN')]['median_house_value']\n"
      ]
    },
    {
      "cell_type": "code",
      "execution_count": 241,
      "metadata": {
        "colab": {
          "base_uri": "https://localhost:8080/"
        },
        "id": "0IwMeXUlftd-",
        "outputId": "80de3b5a-be27-4eda-95b8-f52bc35141a7"
      },
      "outputs": [
        {
          "data": {
            "image/png": "[encoded data removed]",
            "text/plain": [
              "<Figure size 1600x600 with 2 Axes>"
            ]
          },
          "metadata": {},
          "output_type": "display_data"
        }
      ],
      "source": [
        "# Membuat DataFrame untuk Affordable\n",
        "affordable_data = {\n",
        "    'Inland': inland_affordable,\n",
        "    '<1H Ocean': ocean_affordable,\n",
        "    'Near Bay': near_bay_affordable,\n",
        "    'Near Ocean': near_ocean_affordable\n",
        "}\n",
        "\n",
        "affordable_df = pd.DataFrame(affordable_data)\n",
        "\n",
        "# Membuat DataFrame untuk Luxury\n",
        "luxury_data = {\n",
        "    'Inland': inland_luxury,\n",
        "    '<1H Ocean': ocean_luxury,\n",
        "    'Near Bay': near_bay_luxury,\n",
        "    'Near Ocean': near_ocean_luxury\n",
        "}\n",
        "\n",
        "luxury_df = pd.DataFrame(luxury_data)\n",
        "\n",
        "# Membuat subplot\n",
        "fig, axes = plt.subplots(1, 2, figsize=(16, 6))\n",
        "\n",
        "# Boxplot untuk Affordable\n",
        "sns.boxplot(data=affordable_df, ax=axes[0])\n",
        "axes[0].set_title('Affordable House Categories')\n",
        "axes[0].set_xlabel('Ocean Proximity')\n",
        "axes[0].set_ylabel('Median House Value')\n",
        "\n",
        "# Boxplot untuk Luxury\n",
        "sns.boxplot(data=luxury_df, ax=axes[1])\n",
        "axes[1].set_title('Luxury House Categories')\n",
        "axes[1].set_xlabel('Ocean Proximity')\n",
        "axes[1].set_ylabel('Median House Value')\n",
        "\n",
        "# Menampilkan plot\n",
        "plt.tight_layout()\n",
        "plt.show()"
      ]
    },
    {
      "cell_type": "markdown",
      "metadata": {
        "id": "UIl7pteMkTA-"
      },
      "source": [
        "### 4.3.3 Insight – Hubungan Lokasi (Ocean Proximity) dengan Nilai Rumah\n",
        "\n",
        "Dari kedua boxplot di atas (Affordable vs Luxury), kita bisa menarik beberapa temuan penting:\n",
        "\n",
        "1. **Kategori Affordable (rumah lebih terjangkau)**  \n",
        "   - Rentang harga berada di sekitar **USD ~15.000 sampai ~USD 178.000**.  \n",
        "   - Sebagian besar rumah Affordable berada di area **INLAND (jauh dari pantai)**, diikuti `<1H OCEAN`. \n",
        "   - Area seperti **NEAR OCEAN** dan **NEAR BAY** muncul jauh lebih sedikit pada kategori Affordable.  \n",
        "   - Ini menunjukkan bahwa rumah dengan harga rendah jauh lebih umum di wilayah pedalaman dibanding wilayah pesisir.\n",
        "\n",
        "2. **Kategori Luxury (rumah bernilai tinggi)**  \n",
        "   - Rentang harga naik signifikan menjadi **sekitar USD 178.000 sampai batas atas USD 500.001**.  \n",
        "   - Pada segmen Luxury, rumah cenderung lebih sering berada di wilayah **<1H OCEAN**, **NEAR OCEAN**, dan **NEAR BAY**, sementara area **INLAND** justru menjadi minoritas.\n",
        "   - Ini menegaskan bahwa **kedekatan ke laut / teluk merupakan faktor premium** yang menaikkan nilai properti.\n",
        "\n",
        "3. **Perbedaan pola antar lokasi**  \n",
        "   - Untuk kategori Luxury, nilai median rumah di area `NEAR OCEAN` dan `NEAR BAY` terlihat lebih tinggi daripada di `INLAND`.\n",
        "   - Di kategori Affordable, perbedaan antar lokasi tidak selama itu besar, tapi pola yang sama tetap muncul: wilayah dekat laut seperti `NEAR BAY` dan `NEAR OCEAN` punya median house value yang sedikit lebih tinggi dibanding `INLAND`.\n",
        "\n",
        "4. **Adanya price ceiling di Luxury**  \n",
        "   - Banyak titik di kategori Luxury “menempel” di sekitar USD 500.000. Ini bukan kebetulan, tapi karena dataset California Housing melakukan pembatasan nilai maksimum (`median_house_value` dipotong di 500001).  \n",
        "   - Artinya, beberapa rumah di area pesisir kemungkinan *lebih mahal lagi*, tetapi kita tidak melihat nilainya yang sebenarnya karena data dibatasi di angka maksimum.\n",
        "\n",
        "Kesimpulan Utama\n",
        "- **Rumah murah (Affordable)** lebih banyak berlokasi di area **INLAND (jauh dari laut)**.  \n",
        "- **Rumah mahal (Luxury)** lebih sering berada di area **dekat laut / teluk** seperti `<1H OCEAN`, `NEAR BAY`, dan `NEAR OCEAN`.  \n",
        "- Dengan kata lain: **lokasi geografis, khususnya kedekatan terhadap laut, adalah driver besar terhadap nilai properti di California.**\n",
        "\n",
        "Ini mendukung keputusan bahwa fitur `ocean_proximity` sangat relevan untuk dimasukkan ke dalam model prediksi harga rumah."
      ]
    },
    {
      "cell_type": "markdown",
      "metadata": {
        "id": "7WUkk6GOn_kN"
      },
      "source": [
        "### 4.3.4 Based on House Age"
      ]
    },
    {
      "cell_type": "code",
      "execution_count": null,
      "metadata": {
        "colab": {
          "base_uri": "https://localhost:8080/"
        },
        "id": "-7xmJ5LMoJ65",
        "outputId": "bf667602-ac13-45fe-d417-ad3e3c077744"
      },
      "outputs": [
        {
          "data": {
            "image/png": "[encoded data removed]",
            "text/plain": [
              "<Figure size 1200x600 with 1 Axes>"
            ]
          },
          "metadata": {},
          "output_type": "display_data"
        }
      ],
      "source": [
        "# Calculate the distribution of house age for each house category\n",
        "house_age_distribution_affordable = df_clean[df_clean['house_category'] == 'Affordable']['housing_median_age']\n",
        "house_age_distribution_luxury = df_clean[df_clean['house_category'] == 'Luxury']['housing_median_age']\n",
        "\n",
        "# Plotting the distribution\n",
        "plt.figure(figsize=(12, 6))\n",
        "\n",
        "# Histogram Affordable\n",
        "plt.hist(house_age_distribution_affordable, bins=30, alpha=0.5, label='Affordable', color='skyblue', edgecolor='white')\n",
        "\n",
        "# Histogram Luxury\n",
        "plt.hist(house_age_distribution_luxury, bins=30, alpha=0.5, label='Luxury', color='orange', edgecolor='white')\n",
        "\n",
        "# Tambahkan garis mean dan median\n",
        "plt.axvline(house_age_distribution_affordable.mean(), color='blue', linestyle='--', linewidth=1, label='Affordable Mean')\n",
        "plt.axvline(house_age_distribution_luxury.mean(), color='darkorange', linestyle='--', linewidth=1, label='Luxury Mean')\n",
        "\n",
        "plt.title('House Age Distribution for Affordable and Luxury Categories', fontsize=14, fontweight='bold')\n",
        "plt.xlabel('House Age (years)')\n",
        "plt.ylabel('Frequency')\n",
        "plt.legend()\n",
        "plt.tight_layout()\n",
        "plt.show()\n"
      ]
    },
    {
      "cell_type": "markdown",
      "metadata": {
        "id": "kCnh9UOOxV4S"
      },
      "source": [
        "Insight – Distribusi Usia Rumah Berdasarkan Kategori Harga\n",
        "\n",
        "Visualisasi di atas menunjukkan distribusi usia rumah (housing_median_age) untuk dua kategori harga, yaitu **Affordable** dan **Luxury**.  \n",
        "\n",
        "**Kesimpulan**\n",
        "   - Faktor usia rumah **tidak menjadi pembeda ekstrem** antara rumah Affordable dan Luxury, tetapi rumah yang lebih baru cenderung berada di segmen harga tinggi.\n",
        "   - Hal ini wajar karena **renovasi dan lokasi** biasanya memiliki pengaruh lebih besar terhadap nilai rumah dibanding usia bangunan semata.\n",
        "\n",
        "Implikasi Bisnis\n",
        "- Rumah dengan usia tua (40–50 tahun) tetap memiliki nilai tinggi apabila berada di lokasi strategis (dekat laut atau pusat kota).\n",
        "- **Variabel `housing_median_age` tetap relevan** untuk model prediksi harga, namun efeknya mungkin **moderate** dibanding variabel lokasi atau pendapatan (`median_income`)."
      ]
    },
    {
      "cell_type": "markdown",
      "metadata": {
        "id": "o6Zu406InP0g"
      },
      "source": [
        "### 4.3.5 House Maps"
      ]
    },
    {
      "cell_type": "code",
      "execution_count": 242,
      "metadata": {
        "id": "3FQACkzqnURn"
      },
      "outputs": [],
      "source": [
        "# Filter data for Affordable houses\n",
        "affordable_houses = df_clean[df_clean['house_category'] == 'Affordable']"
      ]
    },
    {
      "cell_type": "code",
      "execution_count": 243,
      "metadata": {
        "id": "uZBxJOrSjVV_"
      },
      "outputs": [],
      "source": [
        "# Filter data for Luxury houses\n",
        "luxury_houses = df_clean[df_clean['house_category'] == 'Luxury']"
      ]
    },
    {
      "cell_type": "code",
      "execution_count": 244,
      "metadata": {
        "colab": {
          "base_uri": "https://localhost:8080/"
        },
        "id": "S89eIhyAmCg_",
        "outputId": "be7d02e0-78e6-4c0d-a88b-26a12b8a4e69"
      },
      "outputs": [
        {
          "name": "stdout",
          "output_type": "stream",
          "text": [
            "<class 'pandas.core.frame.DataFrame'>\n",
            "Index: 13778 entries, 0 to 13788\n",
            "Data columns (total 13 columns):\n",
            " #   Column              Non-Null Count  Dtype  \n",
            "---  ------              --------------  -----  \n",
            " 0   longitude           13778 non-null  float64\n",
            " 1   latitude            13778 non-null  float64\n",
            " 2   housing_median_age  13778 non-null  int64  \n",
            " 3   total_rooms         13778 non-null  int64  \n",
            " 4   total_bedrooms      13778 non-null  float64\n",
            " 5   population          13778 non-null  int64  \n",
            " 6   households          13778 non-null  int64  \n",
            " 7   median_income       13778 non-null  float64\n",
            " 8   median_house_value  13778 non-null  int64  \n",
            " 9   ocean_proximity     13778 non-null  object \n",
            " 10  location_name       13778 non-null  object \n",
            " 11  city_name           13778 non-null  object \n",
            " 12  house_category      13778 non-null  object \n",
            "dtypes: float64(4), int64(5), object(4)\n",
            "memory usage: 1.5+ MB\n"
          ]
        }
      ],
      "source": [
        "df_clean.info()"
      ]
    },
    {
      "cell_type": "markdown",
      "metadata": {
        "id": "nW1mh7BHaUAm"
      },
      "source": [
        "Berdasarkan seluruh analisis eksploratif:\n",
        "- Harga rumah di California sangat dipengaruhi oleh **lokasi geografis, pendapatan, dan rasio hunian**.  \n",
        "- Rumah dekat laut memiliki harga jauh lebih tinggi bahkan pada segmen harga terendah sekalipun.\n",
        "- Segmentasi harga (Affordable vs Luxury) membantu memahami dinamika pasar properti dengan lebih jelas.\n",
        "- Temuan ini memberikan dasar yang kuat untuk membangun **model machine learning** yang dapat memprediksi harga rumah secara akurat, serta memberikan **insight strategis** bagi pelaku bisnis properti dan pembuat kebijakan."
      ]
    },
    {
      "cell_type": "markdown",
      "metadata": {
        "id": "1H3DCGsdz6q0"
      },
      "source": [
        "## Data Manipulation\n",
        "\n",
        "- Karena value pada dataset kita dihitung berdasarkan blok (yang berarti dalam satu blok ada bebearapa rumah). Kita harus mencari jumlah ruangan, kamar tidur, dan populasi untuk tiap-tiap rumah.\n",
        "- Pertama kita akan membuat jumlah ruangan per rumah dengan cara membagi variabel total_rooms dengan households.\n",
        "- Kedua kita akan mencari jumlah kamar tidur per rumah dengan cara membagi variabel total_bedrooms dengan total_households.\n",
        "- Ketiga kita akan mencari jumlah populasi (jumlah orang yang tinggal) dalam satu rumah dengan cara membagi populasi dengan households."
      ]
    },
    {
      "cell_type": "code",
      "execution_count": 245,
      "metadata": {
        "id": "G7ULkixvz80B"
      },
      "outputs": [],
      "source": [
        "# Calculate new columns with rounding up to nearest integer\n",
        "df_clean['rooms_per_household'] = np.ceil(df_clean['total_rooms'] / df_clean['households'])\n",
        "df_clean['bedrooms_per_household'] = np.ceil(df_clean['total_bedrooms'] / df_clean['households'])\n",
        "df_clean['population_per_household'] = np.ceil(df_clean['population'] / df_clean['households'])"
      ]
    },
    {
      "cell_type": "code",
      "execution_count": 246,
      "metadata": {
        "colab": {
          "base_uri": "https://localhost:8080/"
        },
        "id": "zYZkDvLy7Aw4",
        "outputId": "fde38619-a7d5-4074-a386-1dd106687be9"
      },
      "outputs": [
        {
          "data": {
            "text/html": [
              "<div>\n",
              "<style scoped>\n",
              "    .dataframe tbody tr th:only-of-type {\n",
              "        vertical-align: middle;\n",
              "    }\n",
              "\n",
              "    .dataframe tbody tr th {\n",
              "        vertical-align: top;\n",
              "    }\n",
              "\n",
              "    .dataframe thead th {\n",
              "        text-align: right;\n",
              "    }\n",
              "</style>\n",
              "<table border=\"1\" class=\"dataframe\">\n",
              "  <thead>\n",
              "    <tr style=\"text-align: right;\">\n",
              "      <th></th>\n",
              "      <th>longitude</th>\n",
              "      <th>latitude</th>\n",
              "      <th>housing_median_age</th>\n",
              "      <th>total_rooms</th>\n",
              "      <th>total_bedrooms</th>\n",
              "      <th>population</th>\n",
              "      <th>households</th>\n",
              "      <th>median_income</th>\n",
              "      <th>median_house_value</th>\n",
              "      <th>ocean_proximity</th>\n",
              "      <th>location_name</th>\n",
              "      <th>city_name</th>\n",
              "      <th>house_category</th>\n",
              "      <th>rooms_per_household</th>\n",
              "      <th>bedrooms_per_household</th>\n",
              "      <th>population_per_household</th>\n",
              "    </tr>\n",
              "  </thead>\n",
              "  <tbody>\n",
              "    <tr>\n",
              "      <th>0</th>\n",
              "      <td>-119.79</td>\n",
              "      <td>36.73</td>\n",
              "      <td>52</td>\n",
              "      <td>112</td>\n",
              "      <td>28.0</td>\n",
              "      <td>193</td>\n",
              "      <td>40</td>\n",
              "      <td>1.9750</td>\n",
              "      <td>47500</td>\n",
              "      <td>INLAND</td>\n",
              "      <td>741 H St, Fresno, CA 93721, USA</td>\n",
              "      <td>Fresno</td>\n",
              "      <td>Affordable</td>\n",
              "      <td>3.0</td>\n",
              "      <td>1.0</td>\n",
              "      <td>5.0</td>\n",
              "    </tr>\n",
              "    <tr>\n",
              "      <th>1</th>\n",
              "      <td>-122.21</td>\n",
              "      <td>37.77</td>\n",
              "      <td>43</td>\n",
              "      <td>1017</td>\n",
              "      <td>328.0</td>\n",
              "      <td>836</td>\n",
              "      <td>277</td>\n",
              "      <td>2.2604</td>\n",
              "      <td>100000</td>\n",
              "      <td>NEAR BAY</td>\n",
              "      <td>4801 International Blvd, Oakland, CA 94601, USA</td>\n",
              "      <td>Oakland</td>\n",
              "      <td>Affordable</td>\n",
              "      <td>4.0</td>\n",
              "      <td>2.0</td>\n",
              "      <td>4.0</td>\n",
              "    </tr>\n",
              "    <tr>\n",
              "      <th>2</th>\n",
              "      <td>-118.04</td>\n",
              "      <td>33.87</td>\n",
              "      <td>17</td>\n",
              "      <td>2358</td>\n",
              "      <td>396.0</td>\n",
              "      <td>1387</td>\n",
              "      <td>364</td>\n",
              "      <td>6.2990</td>\n",
              "      <td>285800</td>\n",
              "      <td>&lt;1H OCEAN</td>\n",
              "      <td>17719 Gerritt Ave, Cerritos, CA 90703, USA</td>\n",
              "      <td>Cerritos</td>\n",
              "      <td>Luxury</td>\n",
              "      <td>7.0</td>\n",
              "      <td>2.0</td>\n",
              "      <td>4.0</td>\n",
              "    </tr>\n",
              "    <tr>\n",
              "      <th>3</th>\n",
              "      <td>-118.28</td>\n",
              "      <td>34.06</td>\n",
              "      <td>17</td>\n",
              "      <td>2518</td>\n",
              "      <td>1196.0</td>\n",
              "      <td>3051</td>\n",
              "      <td>1000</td>\n",
              "      <td>1.7199</td>\n",
              "      <td>175000</td>\n",
              "      <td>&lt;1H OCEAN</td>\n",
              "      <td>American Cement Building, 2404 Wilshire Blvd, ...</td>\n",
              "      <td>2404 Wilshire Blvd</td>\n",
              "      <td>Affordable</td>\n",
              "      <td>3.0</td>\n",
              "      <td>2.0</td>\n",
              "      <td>4.0</td>\n",
              "    </tr>\n",
              "    <tr>\n",
              "      <th>4</th>\n",
              "      <td>-119.81</td>\n",
              "      <td>36.73</td>\n",
              "      <td>50</td>\n",
              "      <td>772</td>\n",
              "      <td>194.0</td>\n",
              "      <td>606</td>\n",
              "      <td>167</td>\n",
              "      <td>2.2206</td>\n",
              "      <td>59200</td>\n",
              "      <td>INLAND</td>\n",
              "      <td>207 E Oleander Ave, Fresno, CA 93706, USA</td>\n",
              "      <td>Fresno</td>\n",
              "      <td>Affordable</td>\n",
              "      <td>5.0</td>\n",
              "      <td>2.0</td>\n",
              "      <td>4.0</td>\n",
              "    </tr>\n",
              "  </tbody>\n",
              "</table>\n",
              "</div>"
            ],
            "text/plain": [
              "   longitude  latitude  housing_median_age  total_rooms  total_bedrooms  \\\n",
              "0    -119.79     36.73                  52          112            28.0   \n",
              "1    -122.21     37.77                  43         1017           328.0   \n",
              "2    -118.04     33.87                  17         2358           396.0   \n",
              "3    -118.28     34.06                  17         2518          1196.0   \n",
              "4    -119.81     36.73                  50          772           194.0   \n",
              "\n",
              "   population  households  median_income  median_house_value ocean_proximity  \\\n",
              "0         193          40         1.9750               47500          INLAND   \n",
              "1         836         277         2.2604              100000        NEAR BAY   \n",
              "2        1387         364         6.2990              285800       <1H OCEAN   \n",
              "3        3051        1000         1.7199              175000       <1H OCEAN   \n",
              "4         606         167         2.2206               59200          INLAND   \n",
              "\n",
              "                                       location_name           city_name  \\\n",
              "0                    741 H St, Fresno, CA 93721, USA              Fresno   \n",
              "1    4801 International Blvd, Oakland, CA 94601, USA             Oakland   \n",
              "2         17719 Gerritt Ave, Cerritos, CA 90703, USA            Cerritos   \n",
              "3  American Cement Building, 2404 Wilshire Blvd, ...  2404 Wilshire Blvd   \n",
              "4          207 E Oleander Ave, Fresno, CA 93706, USA              Fresno   \n",
              "\n",
              "  house_category  rooms_per_household  bedrooms_per_household  \\\n",
              "0     Affordable                  3.0                     1.0   \n",
              "1     Affordable                  4.0                     2.0   \n",
              "2         Luxury                  7.0                     2.0   \n",
              "3     Affordable                  3.0                     2.0   \n",
              "4     Affordable                  5.0                     2.0   \n",
              "\n",
              "   population_per_household  \n",
              "0                       5.0  \n",
              "1                       4.0  \n",
              "2                       4.0  \n",
              "3                       4.0  \n",
              "4                       4.0  "
            ]
          },
          "execution_count": 246,
          "metadata": {},
          "output_type": "execute_result"
        }
      ],
      "source": [
        "df_clean.head()"
      ]
    },
    {
      "cell_type": "markdown",
      "metadata": {
        "id": "puoAyG-P7r0k"
      },
      "source": [
        "NOTES:\n",
        "\n",
        "- Sekarang kita sudah memiliki jumlah ruangan, kamar tidur, dan populasi per rumah untuk bisa dianalisa lebih lanjut."
      ]
    },
    {
      "cell_type": "code",
      "execution_count": null,
      "metadata": {
        "colab": {
          "base_uri": "https://localhost:8080/"
        },
        "id": "d4M9_bOqHNJn",
        "outputId": "10073327-1feb-41a0-e17a-9b6314593748"
      },
      "outputs": [
        {
          "name": "stdout",
          "output_type": "stream",
          "text": [
            "<class 'pandas.core.frame.DataFrame'>\n",
            "Index: 13778 entries, 0 to 13788\n",
            "Data columns (total 16 columns):\n",
            " #   Column                    Non-Null Count  Dtype  \n",
            "---  ------                    --------------  -----  \n",
            " 0   longitude                 13778 non-null  float64\n",
            " 1   latitude                  13778 non-null  float64\n",
            " 2   housing_median_age        13778 non-null  int64  \n",
            " 3   total_rooms               13778 non-null  int64  \n",
            " 4   total_bedrooms            13778 non-null  float64\n",
            " 5   population                13778 non-null  int64  \n",
            " 6   households                13778 non-null  int64  \n",
            " 7   median_income             13778 non-null  float64\n",
            " 8   median_house_value        13778 non-null  int64  \n",
            " 9   ocean_proximity           13778 non-null  object \n",
            " 10  location_name             13778 non-null  object \n",
            " 11  city_name                 13778 non-null  object \n",
            " 12  house_category            13778 non-null  object \n",
            " 13  rooms_per_household       13778 non-null  float64\n",
            " 14  bedrooms_per_household    13778 non-null  float64\n",
            " 15  population_per_household  13778 non-null  float64\n",
            "dtypes: float64(7), int64(5), object(4)\n",
            "memory usage: 1.8+ MB\n"
          ]
        }
      ],
      "source": [
        "df_clean.info()"
      ]
    },
    {
      "cell_type": "code",
      "execution_count": null,
      "metadata": {
        "colab": {
          "base_uri": "https://localhost:8080/"
        },
        "id": "AsGg2c8LpxMm",
        "outputId": "d9424020-e06e-4343-e1a3-dcbca4139521"
      },
      "outputs": [
        {
          "data": {
            "text/html": [
              "<div>\n",
              "<style scoped>\n",
              "    .dataframe tbody tr th:only-of-type {\n",
              "        vertical-align: middle;\n",
              "    }\n",
              "\n",
              "    .dataframe tbody tr th {\n",
              "        vertical-align: top;\n",
              "    }\n",
              "\n",
              "    .dataframe thead th {\n",
              "        text-align: right;\n",
              "    }\n",
              "</style>\n",
              "<table border=\"1\" class=\"dataframe\">\n",
              "  <thead>\n",
              "    <tr style=\"text-align: right;\">\n",
              "      <th></th>\n",
              "      <th>longitude</th>\n",
              "      <th>latitude</th>\n",
              "      <th>housing_median_age</th>\n",
              "      <th>total_rooms</th>\n",
              "      <th>total_bedrooms</th>\n",
              "      <th>population</th>\n",
              "      <th>households</th>\n",
              "      <th>median_income</th>\n",
              "      <th>median_house_value</th>\n",
              "      <th>rooms_per_household</th>\n",
              "      <th>bedrooms_per_household</th>\n",
              "      <th>population_per_household</th>\n",
              "    </tr>\n",
              "  </thead>\n",
              "  <tbody>\n",
              "    <tr>\n",
              "      <th>count</th>\n",
              "      <td>13778.000000</td>\n",
              "      <td>13778.000000</td>\n",
              "      <td>13778.000000</td>\n",
              "      <td>13778.000000</td>\n",
              "      <td>13778.000000</td>\n",
              "      <td>13778.000000</td>\n",
              "      <td>13778.000000</td>\n",
              "      <td>13778.000000</td>\n",
              "      <td>13778.000000</td>\n",
              "      <td>13778.000000</td>\n",
              "      <td>13778.000000</td>\n",
              "      <td>13778.000000</td>\n",
              "    </tr>\n",
              "    <tr>\n",
              "      <th>mean</th>\n",
              "      <td>-119.587716</td>\n",
              "      <td>35.651362</td>\n",
              "      <td>29.117724</td>\n",
              "      <td>2341.210263</td>\n",
              "      <td>481.083205</td>\n",
              "      <td>1279.132603</td>\n",
              "      <td>449.031354</td>\n",
              "      <td>3.780929</td>\n",
              "      <td>204098.015024</td>\n",
              "      <td>5.877994</td>\n",
              "      <td>1.787995</td>\n",
              "      <td>3.471984</td>\n",
              "    </tr>\n",
              "    <tr>\n",
              "      <th>std</th>\n",
              "      <td>2.004956</td>\n",
              "      <td>2.147402</td>\n",
              "      <td>12.408185</td>\n",
              "      <td>1345.866334</td>\n",
              "      <td>270.917198</td>\n",
              "      <td>724.579904</td>\n",
              "      <td>249.616978</td>\n",
              "      <td>1.712630</td>\n",
              "      <td>113360.095235</td>\n",
              "      <td>2.264179</td>\n",
              "      <td>0.605060</td>\n",
              "      <td>5.207014</td>\n",
              "    </tr>\n",
              "    <tr>\n",
              "      <th>min</th>\n",
              "      <td>-124.350000</td>\n",
              "      <td>32.540000</td>\n",
              "      <td>1.000000</td>\n",
              "      <td>2.000000</td>\n",
              "      <td>2.000000</td>\n",
              "      <td>3.000000</td>\n",
              "      <td>2.000000</td>\n",
              "      <td>0.499900</td>\n",
              "      <td>14999.000000</td>\n",
              "      <td>1.000000</td>\n",
              "      <td>1.000000</td>\n",
              "      <td>1.000000</td>\n",
              "    </tr>\n",
              "    <tr>\n",
              "      <th>25%</th>\n",
              "      <td>-121.810000</td>\n",
              "      <td>33.930000</td>\n",
              "      <td>19.000000</td>\n",
              "      <td>1427.250000</td>\n",
              "      <td>291.000000</td>\n",
              "      <td>775.000000</td>\n",
              "      <td>275.000000</td>\n",
              "      <td>2.552100</td>\n",
              "      <td>118200.000000</td>\n",
              "      <td>5.000000</td>\n",
              "      <td>2.000000</td>\n",
              "      <td>3.000000</td>\n",
              "    </tr>\n",
              "    <tr>\n",
              "      <th>50%</th>\n",
              "      <td>-118.510000</td>\n",
              "      <td>34.270000</td>\n",
              "      <td>29.000000</td>\n",
              "      <td>2066.000000</td>\n",
              "      <td>426.000000</td>\n",
              "      <td>1139.000000</td>\n",
              "      <td>401.000000</td>\n",
              "      <td>3.511700</td>\n",
              "      <td>178100.000000</td>\n",
              "      <td>6.000000</td>\n",
              "      <td>2.000000</td>\n",
              "      <td>3.000000</td>\n",
              "    </tr>\n",
              "    <tr>\n",
              "      <th>75%</th>\n",
              "      <td>-118.010000</td>\n",
              "      <td>37.720000</td>\n",
              "      <td>37.000000</td>\n",
              "      <td>2990.000000</td>\n",
              "      <td>618.000000</td>\n",
              "      <td>1645.000000</td>\n",
              "      <td>576.000000</td>\n",
              "      <td>4.685425</td>\n",
              "      <td>260700.000000</td>\n",
              "      <td>6.000000</td>\n",
              "      <td>2.000000</td>\n",
              "      <td>4.000000</td>\n",
              "    </tr>\n",
              "    <tr>\n",
              "      <th>max</th>\n",
              "      <td>-114.310000</td>\n",
              "      <td>41.950000</td>\n",
              "      <td>52.000000</td>\n",
              "      <td>8213.000000</td>\n",
              "      <td>1635.000000</td>\n",
              "      <td>4276.000000</td>\n",
              "      <td>1473.000000</td>\n",
              "      <td>11.176800</td>\n",
              "      <td>500001.000000</td>\n",
              "      <td>133.000000</td>\n",
              "      <td>35.000000</td>\n",
              "      <td>600.000000</td>\n",
              "    </tr>\n",
              "  </tbody>\n",
              "</table>\n",
              "</div>"
            ],
            "text/plain": [
              "          longitude      latitude  housing_median_age   total_rooms  \\\n",
              "count  13778.000000  13778.000000        13778.000000  13778.000000   \n",
              "mean    -119.587716     35.651362           29.117724   2341.210263   \n",
              "std        2.004956      2.147402           12.408185   1345.866334   \n",
              "min     -124.350000     32.540000            1.000000      2.000000   \n",
              "25%     -121.810000     33.930000           19.000000   1427.250000   \n",
              "50%     -118.510000     34.270000           29.000000   2066.000000   \n",
              "75%     -118.010000     37.720000           37.000000   2990.000000   \n",
              "max     -114.310000     41.950000           52.000000   8213.000000   \n",
              "\n",
              "       total_bedrooms    population    households  median_income  \\\n",
              "count    13778.000000  13778.000000  13778.000000   13778.000000   \n",
              "mean       481.083205   1279.132603    449.031354       3.780929   \n",
              "std        270.917198    724.579904    249.616978       1.712630   \n",
              "min          2.000000      3.000000      2.000000       0.499900   \n",
              "25%        291.000000    775.000000    275.000000       2.552100   \n",
              "50%        426.000000   1139.000000    401.000000       3.511700   \n",
              "75%        618.000000   1645.000000    576.000000       4.685425   \n",
              "max       1635.000000   4276.000000   1473.000000      11.176800   \n",
              "\n",
              "       median_house_value  rooms_per_household  bedrooms_per_household  \\\n",
              "count        13778.000000         13778.000000            13778.000000   \n",
              "mean        204098.015024             5.877994                1.787995   \n",
              "std         113360.095235             2.264179                0.605060   \n",
              "min          14999.000000             1.000000                1.000000   \n",
              "25%         118200.000000             5.000000                2.000000   \n",
              "50%         178100.000000             6.000000                2.000000   \n",
              "75%         260700.000000             6.000000                2.000000   \n",
              "max         500001.000000           133.000000               35.000000   \n",
              "\n",
              "       population_per_household  \n",
              "count              13778.000000  \n",
              "mean                   3.471984  \n",
              "std                    5.207014  \n",
              "min                    1.000000  \n",
              "25%                    3.000000  \n",
              "50%                    3.000000  \n",
              "75%                    4.000000  \n",
              "max                  600.000000  "
            ]
          },
          "execution_count": 232,
          "metadata": {},
          "output_type": "execute_result"
        }
      ],
      "source": [
        "df_clean.describe()"
      ]
    },
    {
      "cell_type": "markdown",
      "metadata": {
        "id": "fUE7_m_Q84d2"
      },
      "source": [
        "# 5. Feature Selection"
      ]
    },
    {
      "cell_type": "code",
      "execution_count": 309,
      "metadata": {
        "colab": {
          "base_uri": "https://localhost:8080/",
          "height": 551
        },
        "id": "hO_8mxyg8-Nl",
        "outputId": "828263e8-c237-4d2e-d1b1-77afa69fa287"
      },
      "outputs": [
        {
          "data": {
            "text/html": [
              "<div>\n",
              "<style scoped>\n",
              "    .dataframe tbody tr th:only-of-type {\n",
              "        vertical-align: middle;\n",
              "    }\n",
              "\n",
              "    .dataframe tbody tr th {\n",
              "        vertical-align: top;\n",
              "    }\n",
              "\n",
              "    .dataframe thead th {\n",
              "        text-align: right;\n",
              "    }\n",
              "</style>\n",
              "<table border=\"1\" class=\"dataframe\">\n",
              "  <thead>\n",
              "    <tr style=\"text-align: right;\">\n",
              "      <th></th>\n",
              "      <th>Nama Kolom</th>\n",
              "      <th>Tipe Data</th>\n",
              "      <th>Missing Value</th>\n",
              "      <th>% Missing Value</th>\n",
              "      <th>Unique</th>\n",
              "      <th>Sample Unique</th>\n",
              "    </tr>\n",
              "  </thead>\n",
              "  <tbody>\n",
              "    <tr>\n",
              "      <th>0</th>\n",
              "      <td>longitude</td>\n",
              "      <td>float64</td>\n",
              "      <td>0</td>\n",
              "      <td>0.0</td>\n",
              "      <td>795</td>\n",
              "      <td>[-119.79, -122.21, -118.04]</td>\n",
              "    </tr>\n",
              "    <tr>\n",
              "      <th>1</th>\n",
              "      <td>latitude</td>\n",
              "      <td>float64</td>\n",
              "      <td>0</td>\n",
              "      <td>0.0</td>\n",
              "      <td>829</td>\n",
              "      <td>[36.73, 37.77, 33.87]</td>\n",
              "    </tr>\n",
              "    <tr>\n",
              "      <th>2</th>\n",
              "      <td>housing_median_age</td>\n",
              "      <td>int64</td>\n",
              "      <td>0</td>\n",
              "      <td>0.0</td>\n",
              "      <td>52</td>\n",
              "      <td>[52, 43, 17]</td>\n",
              "    </tr>\n",
              "    <tr>\n",
              "      <th>3</th>\n",
              "      <td>total_rooms</td>\n",
              "      <td>int64</td>\n",
              "      <td>0</td>\n",
              "      <td>0.0</td>\n",
              "      <td>4720</td>\n",
              "      <td>[112, 1017, 2358]</td>\n",
              "    </tr>\n",
              "    <tr>\n",
              "      <th>4</th>\n",
              "      <td>total_bedrooms</td>\n",
              "      <td>float64</td>\n",
              "      <td>0</td>\n",
              "      <td>0.0</td>\n",
              "      <td>1464</td>\n",
              "      <td>[28.0, 328.0, 396.0]</td>\n",
              "    </tr>\n",
              "    <tr>\n",
              "      <th>5</th>\n",
              "      <td>population</td>\n",
              "      <td>int64</td>\n",
              "      <td>0</td>\n",
              "      <td>0.0</td>\n",
              "      <td>3036</td>\n",
              "      <td>[193, 836, 1387]</td>\n",
              "    </tr>\n",
              "    <tr>\n",
              "      <th>6</th>\n",
              "      <td>households</td>\n",
              "      <td>int64</td>\n",
              "      <td>0</td>\n",
              "      <td>0.0</td>\n",
              "      <td>1279</td>\n",
              "      <td>[40, 277, 364]</td>\n",
              "    </tr>\n",
              "    <tr>\n",
              "      <th>7</th>\n",
              "      <td>median_income</td>\n",
              "      <td>float64</td>\n",
              "      <td>0</td>\n",
              "      <td>0.0</td>\n",
              "      <td>9288</td>\n",
              "      <td>[1.975, 2.2604, 6.299]</td>\n",
              "    </tr>\n",
              "    <tr>\n",
              "      <th>8</th>\n",
              "      <td>median_house_value</td>\n",
              "      <td>int64</td>\n",
              "      <td>0</td>\n",
              "      <td>0.0</td>\n",
              "      <td>3501</td>\n",
              "      <td>[47500, 100000, 285800]</td>\n",
              "    </tr>\n",
              "    <tr>\n",
              "      <th>9</th>\n",
              "      <td>ocean_proximity</td>\n",
              "      <td>object</td>\n",
              "      <td>0</td>\n",
              "      <td>0.0</td>\n",
              "      <td>5</td>\n",
              "      <td>[INLAND, NEAR BAY, &lt;1H OCEAN]</td>\n",
              "    </tr>\n",
              "    <tr>\n",
              "      <th>10</th>\n",
              "      <td>location_name</td>\n",
              "      <td>object</td>\n",
              "      <td>0</td>\n",
              "      <td>0.0</td>\n",
              "      <td>9358</td>\n",
              "      <td>[741 H St, Fresno, CA 93721, USA, 4801 Interna...</td>\n",
              "    </tr>\n",
              "    <tr>\n",
              "      <th>11</th>\n",
              "      <td>city_name</td>\n",
              "      <td>object</td>\n",
              "      <td>0</td>\n",
              "      <td>0.0</td>\n",
              "      <td>1328</td>\n",
              "      <td>[Fresno, Oakland, Cerritos]</td>\n",
              "    </tr>\n",
              "    <tr>\n",
              "      <th>12</th>\n",
              "      <td>house_category</td>\n",
              "      <td>object</td>\n",
              "      <td>0</td>\n",
              "      <td>0.0</td>\n",
              "      <td>2</td>\n",
              "      <td>[Affordable, Luxury]</td>\n",
              "    </tr>\n",
              "    <tr>\n",
              "      <th>13</th>\n",
              "      <td>rooms_per_household</td>\n",
              "      <td>float64</td>\n",
              "      <td>0</td>\n",
              "      <td>0.0</td>\n",
              "      <td>36</td>\n",
              "      <td>[3.0, 4.0, 7.0]</td>\n",
              "    </tr>\n",
              "    <tr>\n",
              "      <th>14</th>\n",
              "      <td>bedrooms_per_household</td>\n",
              "      <td>float64</td>\n",
              "      <td>0</td>\n",
              "      <td>0.0</td>\n",
              "      <td>14</td>\n",
              "      <td>[1.0, 2.0, 3.0]</td>\n",
              "    </tr>\n",
              "    <tr>\n",
              "      <th>15</th>\n",
              "      <td>population_per_household</td>\n",
              "      <td>float64</td>\n",
              "      <td>0</td>\n",
              "      <td>0.0</td>\n",
              "      <td>23</td>\n",
              "      <td>[5.0, 4.0, 2.0]</td>\n",
              "    </tr>\n",
              "  </tbody>\n",
              "</table>\n",
              "</div>"
            ],
            "text/plain": [
              "                  Nama Kolom Tipe Data  Missing Value  % Missing Value  \\\n",
              "0                  longitude   float64              0              0.0   \n",
              "1                   latitude   float64              0              0.0   \n",
              "2         housing_median_age     int64              0              0.0   \n",
              "3                total_rooms     int64              0              0.0   \n",
              "4             total_bedrooms   float64              0              0.0   \n",
              "5                 population     int64              0              0.0   \n",
              "6                 households     int64              0              0.0   \n",
              "7              median_income   float64              0              0.0   \n",
              "8         median_house_value     int64              0              0.0   \n",
              "9            ocean_proximity    object              0              0.0   \n",
              "10             location_name    object              0              0.0   \n",
              "11                 city_name    object              0              0.0   \n",
              "12            house_category    object              0              0.0   \n",
              "13       rooms_per_household   float64              0              0.0   \n",
              "14    bedrooms_per_household   float64              0              0.0   \n",
              "15  population_per_household   float64              0              0.0   \n",
              "\n",
              "    Unique                                      Sample Unique  \n",
              "0      795                        [-119.79, -122.21, -118.04]  \n",
              "1      829                              [36.73, 37.77, 33.87]  \n",
              "2       52                                       [52, 43, 17]  \n",
              "3     4720                                  [112, 1017, 2358]  \n",
              "4     1464                               [28.0, 328.0, 396.0]  \n",
              "5     3036                                   [193, 836, 1387]  \n",
              "6     1279                                     [40, 277, 364]  \n",
              "7     9288                             [1.975, 2.2604, 6.299]  \n",
              "8     3501                            [47500, 100000, 285800]  \n",
              "9        5                      [INLAND, NEAR BAY, <1H OCEAN]  \n",
              "10    9358  [741 H St, Fresno, CA 93721, USA, 4801 Interna...  \n",
              "11    1328                        [Fresno, Oakland, Cerritos]  \n",
              "12       2                               [Affordable, Luxury]  \n",
              "13      36                                    [3.0, 4.0, 7.0]  \n",
              "14      14                                    [1.0, 2.0, 3.0]  \n",
              "15      23                                    [5.0, 4.0, 2.0]  "
            ]
          },
          "execution_count": 309,
          "metadata": {},
          "output_type": "execute_result"
        }
      ],
      "source": [
        "list_item = []\n",
        "for i in df_clean.columns:\n",
        "    list_item.append([\n",
        "        i,\n",
        "        df_clean[i].dtype,\n",
        "        df_clean[i].isna().sum(),\n",
        "        round(df_clean[i].isna().sum()/len(df)*100, 2),\n",
        "        df_clean[i].nunique(),\n",
        "        df_clean[i].unique()[:3]\n",
        "    ])\n",
        "\n",
        "info_df = pd.DataFrame(list_item, columns = ['Nama Kolom', 'Tipe Data','Missing Value','% Missing Value','Unique','Sample Unique'])\n",
        "info_df"
      ]
    },
    {
      "cell_type": "code",
      "execution_count": 310,
      "metadata": {
        "colab": {
          "base_uri": "https://localhost:8080/"
        },
        "id": "N6oaYh8ztIzL",
        "outputId": "68787695-377b-44f1-e619-7ff984d21946"
      },
      "outputs": [
        {
          "name": "stdout",
          "output_type": "stream",
          "text": [
            "Requirement already satisfied: category_encoders in /opt/anaconda3/lib/python3.13/site-packages (2.8.1)\n",
            "Requirement already satisfied: numpy>=1.14.0 in /opt/anaconda3/lib/python3.13/site-packages (from category_encoders) (2.1.3)\n",
            "Requirement already satisfied: pandas>=1.0.5 in /opt/anaconda3/lib/python3.13/site-packages (from category_encoders) (2.2.3)\n",
            "Requirement already satisfied: patsy>=0.5.1 in /opt/anaconda3/lib/python3.13/site-packages (from category_encoders) (1.0.1)\n",
            "Requirement already satisfied: scikit-learn>=1.6.0 in /opt/anaconda3/lib/python3.13/site-packages (from category_encoders) (1.6.1)\n",
            "Requirement already satisfied: scipy>=1.0.0 in /opt/anaconda3/lib/python3.13/site-packages (from category_encoders) (1.15.3)\n",
            "Requirement already satisfied: statsmodels>=0.9.0 in /opt/anaconda3/lib/python3.13/site-packages (from category_encoders) (0.14.4)\n",
            "Requirement already satisfied: python-dateutil>=2.8.2 in /opt/anaconda3/lib/python3.13/site-packages (from pandas>=1.0.5->category_encoders) (2.9.0.post0)\n",
            "Requirement already satisfied: pytz>=2020.1 in /opt/anaconda3/lib/python3.13/site-packages (from pandas>=1.0.5->category_encoders) (2024.1)\n",
            "Requirement already satisfied: tzdata>=2022.7 in /opt/anaconda3/lib/python3.13/site-packages (from pandas>=1.0.5->category_encoders) (2025.2)\n",
            "Requirement already satisfied: six>=1.5 in /opt/anaconda3/lib/python3.13/site-packages (from python-dateutil>=2.8.2->pandas>=1.0.5->category_encoders) (1.17.0)\n",
            "Requirement already satisfied: joblib>=1.2.0 in /opt/anaconda3/lib/python3.13/site-packages (from scikit-learn>=1.6.0->category_encoders) (1.4.2)\n",
            "Requirement already satisfied: threadpoolctl>=3.1.0 in /opt/anaconda3/lib/python3.13/site-packages (from scikit-learn>=1.6.0->category_encoders) (3.5.0)\n",
            "Requirement already satisfied: packaging>=21.3 in /opt/anaconda3/lib/python3.13/site-packages (from statsmodels>=0.9.0->category_encoders) (24.2)\n",
            "Note: you may need to restart the kernel to use updated packages.\n"
          ]
        }
      ],
      "source": [
        "pip install category_encoders"
      ]
    },
    {
      "cell_type": "markdown",
      "metadata": {
        "id": "Ei-yHYeyDQBx"
      },
      "source": [
        "## 5.1 Preprocessing"
      ]
    },
    {
      "cell_type": "code",
      "execution_count": 311,
      "metadata": {
        "id": "JrbOt_oSOkYP"
      },
      "outputs": [],
      "source": [
        "from sklearn.pipeline import Pipeline\n",
        "from sklearn.preprocessing import StandardScaler, MinMaxScaler, OrdinalEncoder, OneHotEncoder, RobustScaler, LabelEncoder\n",
        "from sklearn.compose import ColumnTransformer\n",
        "import statsmodels.api as sm\n",
        "from sklearn.preprocessing import OneHotEncoder\n",
        "from sklearn.metrics import mean_squared_error, mean_absolute_percentage_error"
      ]
    },
    {
      "cell_type": "code",
      "execution_count": 252,
      "metadata": {
        "id": "jPBpnI5gC_L_"
      },
      "outputs": [
        {
          "data": {
            "text/html": [
              "<div>\n",
              "<style scoped>\n",
              "    .dataframe tbody tr th:only-of-type {\n",
              "        vertical-align: middle;\n",
              "    }\n",
              "\n",
              "    .dataframe tbody tr th {\n",
              "        vertical-align: top;\n",
              "    }\n",
              "\n",
              "    .dataframe thead th {\n",
              "        text-align: right;\n",
              "    }\n",
              "</style>\n",
              "<table border=\"1\" class=\"dataframe\">\n",
              "  <thead>\n",
              "    <tr style=\"text-align: right;\">\n",
              "      <th></th>\n",
              "      <th>ocean_proximity_INLAND</th>\n",
              "      <th>ocean_proximity_ISLAND</th>\n",
              "      <th>ocean_proximity_NEAR BAY</th>\n",
              "      <th>ocean_proximity_NEAR OCEAN</th>\n",
              "    </tr>\n",
              "  </thead>\n",
              "  <tbody>\n",
              "    <tr>\n",
              "      <th>0</th>\n",
              "      <td>1.0</td>\n",
              "      <td>0.0</td>\n",
              "      <td>0.0</td>\n",
              "      <td>0.0</td>\n",
              "    </tr>\n",
              "    <tr>\n",
              "      <th>1</th>\n",
              "      <td>0.0</td>\n",
              "      <td>0.0</td>\n",
              "      <td>1.0</td>\n",
              "      <td>0.0</td>\n",
              "    </tr>\n",
              "    <tr>\n",
              "      <th>2</th>\n",
              "      <td>0.0</td>\n",
              "      <td>0.0</td>\n",
              "      <td>0.0</td>\n",
              "      <td>0.0</td>\n",
              "    </tr>\n",
              "    <tr>\n",
              "      <th>3</th>\n",
              "      <td>0.0</td>\n",
              "      <td>0.0</td>\n",
              "      <td>0.0</td>\n",
              "      <td>0.0</td>\n",
              "    </tr>\n",
              "    <tr>\n",
              "      <th>4</th>\n",
              "      <td>1.0</td>\n",
              "      <td>0.0</td>\n",
              "      <td>0.0</td>\n",
              "      <td>0.0</td>\n",
              "    </tr>\n",
              "  </tbody>\n",
              "</table>\n",
              "</div>"
            ],
            "text/plain": [
              "   ocean_proximity_INLAND  ocean_proximity_ISLAND  ocean_proximity_NEAR BAY  \\\n",
              "0                     1.0                     0.0                       0.0   \n",
              "1                     0.0                     0.0                       1.0   \n",
              "2                     0.0                     0.0                       0.0   \n",
              "3                     0.0                     0.0                       0.0   \n",
              "4                     1.0                     0.0                       0.0   \n",
              "\n",
              "   ocean_proximity_NEAR OCEAN  \n",
              "0                         0.0  \n",
              "1                         0.0  \n",
              "2                         0.0  \n",
              "3                         0.0  \n",
              "4                         0.0  "
            ]
          },
          "execution_count": 252,
          "metadata": {},
          "output_type": "execute_result"
        }
      ],
      "source": [
        "# OneHotEncoding untuk ocean_proximity\n",
        "ohe = OneHotEncoder(sparse_output=False, drop='first')\n",
        "ohe_features = ohe.fit_transform(df_clean[['ocean_proximity']])\n",
        "ohe_df = pd.DataFrame(ohe_features, columns=ohe.get_feature_names_out(['ocean_proximity']))\n",
        "\n",
        "ohe_df.head()"
      ]
    },
    {
      "cell_type": "code",
      "execution_count": 253,
      "metadata": {},
      "outputs": [
        {
          "data": {
            "text/html": [
              "<div>\n",
              "<style scoped>\n",
              "    .dataframe tbody tr th:only-of-type {\n",
              "        vertical-align: middle;\n",
              "    }\n",
              "\n",
              "    .dataframe tbody tr th {\n",
              "        vertical-align: top;\n",
              "    }\n",
              "\n",
              "    .dataframe thead th {\n",
              "        text-align: right;\n",
              "    }\n",
              "</style>\n",
              "<table border=\"1\" class=\"dataframe\">\n",
              "  <thead>\n",
              "    <tr style=\"text-align: right;\">\n",
              "      <th></th>\n",
              "      <th>longitude</th>\n",
              "      <th>latitude</th>\n",
              "      <th>housing_median_age</th>\n",
              "      <th>total_rooms</th>\n",
              "      <th>total_bedrooms</th>\n",
              "      <th>population</th>\n",
              "      <th>households</th>\n",
              "      <th>median_income</th>\n",
              "      <th>median_house_value</th>\n",
              "      <th>location_name</th>\n",
              "      <th>city_name</th>\n",
              "      <th>house_category</th>\n",
              "      <th>rooms_per_household</th>\n",
              "      <th>bedrooms_per_household</th>\n",
              "      <th>population_per_household</th>\n",
              "      <th>ocean_proximity_INLAND</th>\n",
              "      <th>ocean_proximity_ISLAND</th>\n",
              "      <th>ocean_proximity_NEAR BAY</th>\n",
              "      <th>ocean_proximity_NEAR OCEAN</th>\n",
              "    </tr>\n",
              "  </thead>\n",
              "  <tbody>\n",
              "    <tr>\n",
              "      <th>0</th>\n",
              "      <td>-119.79</td>\n",
              "      <td>36.73</td>\n",
              "      <td>52.0</td>\n",
              "      <td>112.0</td>\n",
              "      <td>28.0</td>\n",
              "      <td>193.0</td>\n",
              "      <td>40.0</td>\n",
              "      <td>1.9750</td>\n",
              "      <td>47500.0</td>\n",
              "      <td>741 H St, Fresno, CA 93721, USA</td>\n",
              "      <td>Fresno</td>\n",
              "      <td>Affordable</td>\n",
              "      <td>3.0</td>\n",
              "      <td>1.0</td>\n",
              "      <td>5.0</td>\n",
              "      <td>1.0</td>\n",
              "      <td>0.0</td>\n",
              "      <td>0.0</td>\n",
              "      <td>0.0</td>\n",
              "    </tr>\n",
              "    <tr>\n",
              "      <th>1</th>\n",
              "      <td>-122.21</td>\n",
              "      <td>37.77</td>\n",
              "      <td>43.0</td>\n",
              "      <td>1017.0</td>\n",
              "      <td>328.0</td>\n",
              "      <td>836.0</td>\n",
              "      <td>277.0</td>\n",
              "      <td>2.2604</td>\n",
              "      <td>100000.0</td>\n",
              "      <td>4801 International Blvd, Oakland, CA 94601, USA</td>\n",
              "      <td>Oakland</td>\n",
              "      <td>Affordable</td>\n",
              "      <td>4.0</td>\n",
              "      <td>2.0</td>\n",
              "      <td>4.0</td>\n",
              "      <td>0.0</td>\n",
              "      <td>0.0</td>\n",
              "      <td>1.0</td>\n",
              "      <td>0.0</td>\n",
              "    </tr>\n",
              "    <tr>\n",
              "      <th>2</th>\n",
              "      <td>-118.04</td>\n",
              "      <td>33.87</td>\n",
              "      <td>17.0</td>\n",
              "      <td>2358.0</td>\n",
              "      <td>396.0</td>\n",
              "      <td>1387.0</td>\n",
              "      <td>364.0</td>\n",
              "      <td>6.2990</td>\n",
              "      <td>285800.0</td>\n",
              "      <td>17719 Gerritt Ave, Cerritos, CA 90703, USA</td>\n",
              "      <td>Cerritos</td>\n",
              "      <td>Luxury</td>\n",
              "      <td>7.0</td>\n",
              "      <td>2.0</td>\n",
              "      <td>4.0</td>\n",
              "      <td>0.0</td>\n",
              "      <td>0.0</td>\n",
              "      <td>0.0</td>\n",
              "      <td>0.0</td>\n",
              "    </tr>\n",
              "    <tr>\n",
              "      <th>3</th>\n",
              "      <td>-118.28</td>\n",
              "      <td>34.06</td>\n",
              "      <td>17.0</td>\n",
              "      <td>2518.0</td>\n",
              "      <td>1196.0</td>\n",
              "      <td>3051.0</td>\n",
              "      <td>1000.0</td>\n",
              "      <td>1.7199</td>\n",
              "      <td>175000.0</td>\n",
              "      <td>American Cement Building, 2404 Wilshire Blvd, ...</td>\n",
              "      <td>2404 Wilshire Blvd</td>\n",
              "      <td>Affordable</td>\n",
              "      <td>3.0</td>\n",
              "      <td>2.0</td>\n",
              "      <td>4.0</td>\n",
              "      <td>0.0</td>\n",
              "      <td>0.0</td>\n",
              "      <td>0.0</td>\n",
              "      <td>0.0</td>\n",
              "    </tr>\n",
              "    <tr>\n",
              "      <th>4</th>\n",
              "      <td>-119.81</td>\n",
              "      <td>36.73</td>\n",
              "      <td>50.0</td>\n",
              "      <td>772.0</td>\n",
              "      <td>194.0</td>\n",
              "      <td>606.0</td>\n",
              "      <td>167.0</td>\n",
              "      <td>2.2206</td>\n",
              "      <td>59200.0</td>\n",
              "      <td>207 E Oleander Ave, Fresno, CA 93706, USA</td>\n",
              "      <td>Fresno</td>\n",
              "      <td>Affordable</td>\n",
              "      <td>5.0</td>\n",
              "      <td>2.0</td>\n",
              "      <td>4.0</td>\n",
              "      <td>1.0</td>\n",
              "      <td>0.0</td>\n",
              "      <td>0.0</td>\n",
              "      <td>0.0</td>\n",
              "    </tr>\n",
              "  </tbody>\n",
              "</table>\n",
              "</div>"
            ],
            "text/plain": [
              "   longitude  latitude  housing_median_age  total_rooms  total_bedrooms  \\\n",
              "0    -119.79     36.73                52.0        112.0            28.0   \n",
              "1    -122.21     37.77                43.0       1017.0           328.0   \n",
              "2    -118.04     33.87                17.0       2358.0           396.0   \n",
              "3    -118.28     34.06                17.0       2518.0          1196.0   \n",
              "4    -119.81     36.73                50.0        772.0           194.0   \n",
              "\n",
              "   population  households  median_income  median_house_value  \\\n",
              "0       193.0        40.0         1.9750             47500.0   \n",
              "1       836.0       277.0         2.2604            100000.0   \n",
              "2      1387.0       364.0         6.2990            285800.0   \n",
              "3      3051.0      1000.0         1.7199            175000.0   \n",
              "4       606.0       167.0         2.2206             59200.0   \n",
              "\n",
              "                                       location_name           city_name  \\\n",
              "0                    741 H St, Fresno, CA 93721, USA              Fresno   \n",
              "1    4801 International Blvd, Oakland, CA 94601, USA             Oakland   \n",
              "2         17719 Gerritt Ave, Cerritos, CA 90703, USA            Cerritos   \n",
              "3  American Cement Building, 2404 Wilshire Blvd, ...  2404 Wilshire Blvd   \n",
              "4          207 E Oleander Ave, Fresno, CA 93706, USA              Fresno   \n",
              "\n",
              "  house_category  rooms_per_household  bedrooms_per_household  \\\n",
              "0     Affordable                  3.0                     1.0   \n",
              "1     Affordable                  4.0                     2.0   \n",
              "2         Luxury                  7.0                     2.0   \n",
              "3     Affordable                  3.0                     2.0   \n",
              "4     Affordable                  5.0                     2.0   \n",
              "\n",
              "   population_per_household  ocean_proximity_INLAND  ocean_proximity_ISLAND  \\\n",
              "0                       5.0                     1.0                     0.0   \n",
              "1                       4.0                     0.0                     0.0   \n",
              "2                       4.0                     0.0                     0.0   \n",
              "3                       4.0                     0.0                     0.0   \n",
              "4                       4.0                     1.0                     0.0   \n",
              "\n",
              "   ocean_proximity_NEAR BAY  ocean_proximity_NEAR OCEAN  \n",
              "0                       0.0                         0.0  \n",
              "1                       1.0                         0.0  \n",
              "2                       0.0                         0.0  \n",
              "3                       0.0                         0.0  \n",
              "4                       0.0                         0.0  "
            ]
          },
          "execution_count": 253,
          "metadata": {},
          "output_type": "execute_result"
        }
      ],
      "source": [
        "df_encoded = pd.concat([df_clean.drop('ocean_proximity', axis=1), ohe_df], axis=1)\n",
        "df_encoded.head()"
      ]
    },
    {
      "cell_type": "code",
      "execution_count": 312,
      "metadata": {
        "colab": {
          "base_uri": "https://localhost:8080/",
          "height": 209
        },
        "id": "LnQg0xotC_F2",
        "outputId": "41dc5983-9ff7-48db-cd20-d109036fd1fc"
      },
      "outputs": [
        {
          "data": {
            "text/plain": [
              "ocean_proximity_INLAND        0\n",
              "ocean_proximity_ISLAND        0\n",
              "ocean_proximity_NEAR BAY      0\n",
              "ocean_proximity_NEAR OCEAN    0\n",
              "dtype: int64"
            ]
          },
          "execution_count": 312,
          "metadata": {},
          "output_type": "execute_result"
        }
      ],
      "source": [
        "ohe_df.isna().sum()"
      ]
    },
    {
      "cell_type": "code",
      "execution_count": 313,
      "metadata": {
        "id": "CkuGIPPyC-8I"
      },
      "outputs": [],
      "source": [
        "import category_encoders as ce\n",
        "\n",
        "# Binary Encoding for 'city_name'\n",
        "binary_encoder = ce.BinaryEncoder(cols=['city_name'])\n",
        "binary_encoded_df = binary_encoder.fit_transform(df_clean[['city_name']])"
      ]
    },
    {
      "cell_type": "code",
      "execution_count": 257,
      "metadata": {
        "colab": {
          "base_uri": "https://localhost:8080/",
          "height": 429
        },
        "id": "JBLoSHJTDEty",
        "outputId": "69902b00-6131-483e-da64-d6ac3eee6fa7"
      },
      "outputs": [
        {
          "data": {
            "text/plain": [
              "city_name_0     0\n",
              "city_name_1     0\n",
              "city_name_2     0\n",
              "city_name_3     0\n",
              "city_name_4     0\n",
              "city_name_5     0\n",
              "city_name_6     0\n",
              "city_name_7     0\n",
              "city_name_8     0\n",
              "city_name_9     0\n",
              "city_name_10    0\n",
              "dtype: int64"
            ]
          },
          "execution_count": 257,
          "metadata": {},
          "output_type": "execute_result"
        }
      ],
      "source": [
        "binary_encoded_df.isna().sum()"
      ]
    },
    {
      "cell_type": "code",
      "execution_count": 258,
      "metadata": {
        "id": "xHnxYK6LDEmm"
      },
      "outputs": [],
      "source": [
        "# Reset index for all DataFrames to ensure they align properly\n",
        "df_clean_reset = df_clean.reset_index(drop=True)\n",
        "ohe_df_reset = ohe_df.reset_index(drop=True)\n",
        "binary_encoded_df_reset = binary_encoded_df.reset_index(drop=True)"
      ]
    },
    {
      "cell_type": "code",
      "execution_count": 259,
      "metadata": {
        "id": "Ng1rkiSPDfuA"
      },
      "outputs": [],
      "source": [
        "# Drop the original 'ocean_proximity' and 'city_name' columns and create the new DataFrame\n",
        "df_encoded = df_clean_reset.drop(columns=['ocean_proximity', 'city_name'])\n",
        "df_encoded = pd.concat([df_encoded, ohe_df_reset, binary_encoded_df_reset], axis=1)"
      ]
    },
    {
      "cell_type": "code",
      "execution_count": 260,
      "metadata": {
        "colab": {
          "base_uri": "https://localhost:8080/"
        },
        "id": "QpZAB8CuDjWp",
        "outputId": "97d59ad9-40c1-4153-c6af-c710ad21e09b"
      },
      "outputs": [
        {
          "name": "stdout",
          "output_type": "stream",
          "text": [
            "<class 'pandas.core.frame.DataFrame'>\n",
            "RangeIndex: 13778 entries, 0 to 13777\n",
            "Data columns (total 29 columns):\n",
            " #   Column                      Non-Null Count  Dtype  \n",
            "---  ------                      --------------  -----  \n",
            " 0   longitude                   13778 non-null  float64\n",
            " 1   latitude                    13778 non-null  float64\n",
            " 2   housing_median_age          13778 non-null  int64  \n",
            " 3   total_rooms                 13778 non-null  int64  \n",
            " 4   total_bedrooms              13778 non-null  float64\n",
            " 5   population                  13778 non-null  int64  \n",
            " 6   households                  13778 non-null  int64  \n",
            " 7   median_income               13778 non-null  float64\n",
            " 8   median_house_value          13778 non-null  int64  \n",
            " 9   location_name               13778 non-null  object \n",
            " 10  house_category              13778 non-null  object \n",
            " 11  rooms_per_household         13778 non-null  float64\n",
            " 12  bedrooms_per_household      13778 non-null  float64\n",
            " 13  population_per_household    13778 non-null  float64\n",
            " 14  ocean_proximity_INLAND      13778 non-null  float64\n",
            " 15  ocean_proximity_ISLAND      13778 non-null  float64\n",
            " 16  ocean_proximity_NEAR BAY    13778 non-null  float64\n",
            " 17  ocean_proximity_NEAR OCEAN  13778 non-null  float64\n",
            " 18  city_name_0                 13778 non-null  int64  \n",
            " 19  city_name_1                 13778 non-null  int64  \n",
            " 20  city_name_2                 13778 non-null  int64  \n",
            " 21  city_name_3                 13778 non-null  int64  \n",
            " 22  city_name_4                 13778 non-null  int64  \n",
            " 23  city_name_5                 13778 non-null  int64  \n",
            " 24  city_name_6                 13778 non-null  int64  \n",
            " 25  city_name_7                 13778 non-null  int64  \n",
            " 26  city_name_8                 13778 non-null  int64  \n",
            " 27  city_name_9                 13778 non-null  int64  \n",
            " 28  city_name_10                13778 non-null  int64  \n",
            "dtypes: float64(11), int64(16), object(2)\n",
            "memory usage: 3.0+ MB\n"
          ]
        }
      ],
      "source": [
        "df_encoded.info()"
      ]
    },
    {
      "cell_type": "code",
      "execution_count": 261,
      "metadata": {
        "colab": {
          "base_uri": "https://localhost:8080/",
          "height": 860
        },
        "id": "ntDVduNpG1zP",
        "outputId": "92ff0acc-b6f5-455d-e46e-af8aee1175c9"
      },
      "outputs": [
        {
          "data": {
            "text/html": [
              "<div>\n",
              "<style scoped>\n",
              "    .dataframe tbody tr th:only-of-type {\n",
              "        vertical-align: middle;\n",
              "    }\n",
              "\n",
              "    .dataframe tbody tr th {\n",
              "        vertical-align: top;\n",
              "    }\n",
              "\n",
              "    .dataframe thead th {\n",
              "        text-align: right;\n",
              "    }\n",
              "</style>\n",
              "<table border=\"1\" class=\"dataframe\">\n",
              "  <thead>\n",
              "    <tr style=\"text-align: right;\">\n",
              "      <th></th>\n",
              "      <th>longitude</th>\n",
              "      <th>latitude</th>\n",
              "      <th>housing_median_age</th>\n",
              "      <th>total_rooms</th>\n",
              "      <th>total_bedrooms</th>\n",
              "      <th>population</th>\n",
              "      <th>households</th>\n",
              "      <th>median_income</th>\n",
              "      <th>median_house_value</th>\n",
              "      <th>location_name</th>\n",
              "      <th>...</th>\n",
              "      <th>city_name_1</th>\n",
              "      <th>city_name_2</th>\n",
              "      <th>city_name_3</th>\n",
              "      <th>city_name_4</th>\n",
              "      <th>city_name_5</th>\n",
              "      <th>city_name_6</th>\n",
              "      <th>city_name_7</th>\n",
              "      <th>city_name_8</th>\n",
              "      <th>city_name_9</th>\n",
              "      <th>city_name_10</th>\n",
              "    </tr>\n",
              "  </thead>\n",
              "  <tbody>\n",
              "    <tr>\n",
              "      <th>0</th>\n",
              "      <td>-119.79</td>\n",
              "      <td>36.73</td>\n",
              "      <td>52</td>\n",
              "      <td>112</td>\n",
              "      <td>28.0</td>\n",
              "      <td>193</td>\n",
              "      <td>40</td>\n",
              "      <td>1.9750</td>\n",
              "      <td>47500</td>\n",
              "      <td>741 H St, Fresno, CA 93721, USA</td>\n",
              "      <td>...</td>\n",
              "      <td>0</td>\n",
              "      <td>0</td>\n",
              "      <td>0</td>\n",
              "      <td>0</td>\n",
              "      <td>0</td>\n",
              "      <td>0</td>\n",
              "      <td>0</td>\n",
              "      <td>0</td>\n",
              "      <td>0</td>\n",
              "      <td>1</td>\n",
              "    </tr>\n",
              "    <tr>\n",
              "      <th>1</th>\n",
              "      <td>-122.21</td>\n",
              "      <td>37.77</td>\n",
              "      <td>43</td>\n",
              "      <td>1017</td>\n",
              "      <td>328.0</td>\n",
              "      <td>836</td>\n",
              "      <td>277</td>\n",
              "      <td>2.2604</td>\n",
              "      <td>100000</td>\n",
              "      <td>4801 International Blvd, Oakland, CA 94601, USA</td>\n",
              "      <td>...</td>\n",
              "      <td>0</td>\n",
              "      <td>0</td>\n",
              "      <td>0</td>\n",
              "      <td>0</td>\n",
              "      <td>0</td>\n",
              "      <td>0</td>\n",
              "      <td>0</td>\n",
              "      <td>0</td>\n",
              "      <td>1</td>\n",
              "      <td>0</td>\n",
              "    </tr>\n",
              "    <tr>\n",
              "      <th>2</th>\n",
              "      <td>-118.04</td>\n",
              "      <td>33.87</td>\n",
              "      <td>17</td>\n",
              "      <td>2358</td>\n",
              "      <td>396.0</td>\n",
              "      <td>1387</td>\n",
              "      <td>364</td>\n",
              "      <td>6.2990</td>\n",
              "      <td>285800</td>\n",
              "      <td>17719 Gerritt Ave, Cerritos, CA 90703, USA</td>\n",
              "      <td>...</td>\n",
              "      <td>0</td>\n",
              "      <td>0</td>\n",
              "      <td>0</td>\n",
              "      <td>0</td>\n",
              "      <td>0</td>\n",
              "      <td>0</td>\n",
              "      <td>0</td>\n",
              "      <td>0</td>\n",
              "      <td>1</td>\n",
              "      <td>1</td>\n",
              "    </tr>\n",
              "    <tr>\n",
              "      <th>3</th>\n",
              "      <td>-118.28</td>\n",
              "      <td>34.06</td>\n",
              "      <td>17</td>\n",
              "      <td>2518</td>\n",
              "      <td>1196.0</td>\n",
              "      <td>3051</td>\n",
              "      <td>1000</td>\n",
              "      <td>1.7199</td>\n",
              "      <td>175000</td>\n",
              "      <td>American Cement Building, 2404 Wilshire Blvd, ...</td>\n",
              "      <td>...</td>\n",
              "      <td>0</td>\n",
              "      <td>0</td>\n",
              "      <td>0</td>\n",
              "      <td>0</td>\n",
              "      <td>0</td>\n",
              "      <td>0</td>\n",
              "      <td>0</td>\n",
              "      <td>1</td>\n",
              "      <td>0</td>\n",
              "      <td>0</td>\n",
              "    </tr>\n",
              "    <tr>\n",
              "      <th>4</th>\n",
              "      <td>-119.81</td>\n",
              "      <td>36.73</td>\n",
              "      <td>50</td>\n",
              "      <td>772</td>\n",
              "      <td>194.0</td>\n",
              "      <td>606</td>\n",
              "      <td>167</td>\n",
              "      <td>2.2206</td>\n",
              "      <td>59200</td>\n",
              "      <td>207 E Oleander Ave, Fresno, CA 93706, USA</td>\n",
              "      <td>...</td>\n",
              "      <td>0</td>\n",
              "      <td>0</td>\n",
              "      <td>0</td>\n",
              "      <td>0</td>\n",
              "      <td>0</td>\n",
              "      <td>0</td>\n",
              "      <td>0</td>\n",
              "      <td>0</td>\n",
              "      <td>0</td>\n",
              "      <td>1</td>\n",
              "    </tr>\n",
              "    <tr>\n",
              "      <th>...</th>\n",
              "      <td>...</td>\n",
              "      <td>...</td>\n",
              "      <td>...</td>\n",
              "      <td>...</td>\n",
              "      <td>...</td>\n",
              "      <td>...</td>\n",
              "      <td>...</td>\n",
              "      <td>...</td>\n",
              "      <td>...</td>\n",
              "      <td>...</td>\n",
              "      <td>...</td>\n",
              "      <td>...</td>\n",
              "      <td>...</td>\n",
              "      <td>...</td>\n",
              "      <td>...</td>\n",
              "      <td>...</td>\n",
              "      <td>...</td>\n",
              "      <td>...</td>\n",
              "      <td>...</td>\n",
              "      <td>...</td>\n",
              "      <td>...</td>\n",
              "    </tr>\n",
              "    <tr>\n",
              "      <th>13773</th>\n",
              "      <td>-121.26</td>\n",
              "      <td>38.27</td>\n",
              "      <td>20</td>\n",
              "      <td>1314</td>\n",
              "      <td>229.0</td>\n",
              "      <td>712</td>\n",
              "      <td>219</td>\n",
              "      <td>4.4125</td>\n",
              "      <td>144600</td>\n",
              "      <td>7P9R+X2 Herald, CA, USA</td>\n",
              "      <td>...</td>\n",
              "      <td>0</td>\n",
              "      <td>1</td>\n",
              "      <td>0</td>\n",
              "      <td>0</td>\n",
              "      <td>1</td>\n",
              "      <td>1</td>\n",
              "      <td>0</td>\n",
              "      <td>0</td>\n",
              "      <td>0</td>\n",
              "      <td>0</td>\n",
              "    </tr>\n",
              "    <tr>\n",
              "      <th>13774</th>\n",
              "      <td>-120.89</td>\n",
              "      <td>37.48</td>\n",
              "      <td>27</td>\n",
              "      <td>1118</td>\n",
              "      <td>195.0</td>\n",
              "      <td>647</td>\n",
              "      <td>209</td>\n",
              "      <td>2.9135</td>\n",
              "      <td>159400</td>\n",
              "      <td>F4H5+XX Turlock, CA, USA</td>\n",
              "      <td>...</td>\n",
              "      <td>0</td>\n",
              "      <td>0</td>\n",
              "      <td>0</td>\n",
              "      <td>1</td>\n",
              "      <td>0</td>\n",
              "      <td>0</td>\n",
              "      <td>1</td>\n",
              "      <td>0</td>\n",
              "      <td>0</td>\n",
              "      <td>1</td>\n",
              "    </tr>\n",
              "    <tr>\n",
              "      <th>13775</th>\n",
              "      <td>-121.90</td>\n",
              "      <td>36.58</td>\n",
              "      <td>31</td>\n",
              "      <td>1431</td>\n",
              "      <td>284.8</td>\n",
              "      <td>704</td>\n",
              "      <td>393</td>\n",
              "      <td>3.1977</td>\n",
              "      <td>289300</td>\n",
              "      <td>1401 Munras Ave, Monterey, CA 93940, USA</td>\n",
              "      <td>...</td>\n",
              "      <td>0</td>\n",
              "      <td>1</td>\n",
              "      <td>0</td>\n",
              "      <td>1</td>\n",
              "      <td>1</td>\n",
              "      <td>0</td>\n",
              "      <td>0</td>\n",
              "      <td>0</td>\n",
              "      <td>1</td>\n",
              "      <td>0</td>\n",
              "    </tr>\n",
              "    <tr>\n",
              "      <th>13776</th>\n",
              "      <td>-117.93</td>\n",
              "      <td>33.62</td>\n",
              "      <td>34</td>\n",
              "      <td>2125</td>\n",
              "      <td>498.0</td>\n",
              "      <td>1052</td>\n",
              "      <td>468</td>\n",
              "      <td>5.6315</td>\n",
              "      <td>484600</td>\n",
              "      <td>68 Balboa Coves, Newport Beach, CA 92663, USA</td>\n",
              "      <td>...</td>\n",
              "      <td>0</td>\n",
              "      <td>0</td>\n",
              "      <td>0</td>\n",
              "      <td>1</td>\n",
              "      <td>0</td>\n",
              "      <td>1</td>\n",
              "      <td>0</td>\n",
              "      <td>1</td>\n",
              "      <td>1</td>\n",
              "      <td>0</td>\n",
              "    </tr>\n",
              "    <tr>\n",
              "      <th>13777</th>\n",
              "      <td>-115.56</td>\n",
              "      <td>32.80</td>\n",
              "      <td>15</td>\n",
              "      <td>1171</td>\n",
              "      <td>328.0</td>\n",
              "      <td>1024</td>\n",
              "      <td>298</td>\n",
              "      <td>1.3882</td>\n",
              "      <td>69400</td>\n",
              "      <td>812 N 7th St, El Centro, CA 92243, USA</td>\n",
              "      <td>...</td>\n",
              "      <td>1</td>\n",
              "      <td>0</td>\n",
              "      <td>0</td>\n",
              "      <td>0</td>\n",
              "      <td>1</td>\n",
              "      <td>0</td>\n",
              "      <td>1</td>\n",
              "      <td>1</td>\n",
              "      <td>0</td>\n",
              "      <td>0</td>\n",
              "    </tr>\n",
              "  </tbody>\n",
              "</table>\n",
              "<p>13778 rows × 29 columns</p>\n",
              "</div>"
            ],
            "text/plain": [
              "       longitude  latitude  housing_median_age  total_rooms  total_bedrooms  \\\n",
              "0        -119.79     36.73                  52          112            28.0   \n",
              "1        -122.21     37.77                  43         1017           328.0   \n",
              "2        -118.04     33.87                  17         2358           396.0   \n",
              "3        -118.28     34.06                  17         2518          1196.0   \n",
              "4        -119.81     36.73                  50          772           194.0   \n",
              "...          ...       ...                 ...          ...             ...   \n",
              "13773    -121.26     38.27                  20         1314           229.0   \n",
              "13774    -120.89     37.48                  27         1118           195.0   \n",
              "13775    -121.90     36.58                  31         1431           284.8   \n",
              "13776    -117.93     33.62                  34         2125           498.0   \n",
              "13777    -115.56     32.80                  15         1171           328.0   \n",
              "\n",
              "       population  households  median_income  median_house_value  \\\n",
              "0             193          40         1.9750               47500   \n",
              "1             836         277         2.2604              100000   \n",
              "2            1387         364         6.2990              285800   \n",
              "3            3051        1000         1.7199              175000   \n",
              "4             606         167         2.2206               59200   \n",
              "...           ...         ...            ...                 ...   \n",
              "13773         712         219         4.4125              144600   \n",
              "13774         647         209         2.9135              159400   \n",
              "13775         704         393         3.1977              289300   \n",
              "13776        1052         468         5.6315              484600   \n",
              "13777        1024         298         1.3882               69400   \n",
              "\n",
              "                                           location_name  ... city_name_1  \\\n",
              "0                        741 H St, Fresno, CA 93721, USA  ...           0   \n",
              "1        4801 International Blvd, Oakland, CA 94601, USA  ...           0   \n",
              "2             17719 Gerritt Ave, Cerritos, CA 90703, USA  ...           0   \n",
              "3      American Cement Building, 2404 Wilshire Blvd, ...  ...           0   \n",
              "4              207 E Oleander Ave, Fresno, CA 93706, USA  ...           0   \n",
              "...                                                  ...  ...         ...   \n",
              "13773                            7P9R+X2 Herald, CA, USA  ...           0   \n",
              "13774                           F4H5+XX Turlock, CA, USA  ...           0   \n",
              "13775           1401 Munras Ave, Monterey, CA 93940, USA  ...           0   \n",
              "13776      68 Balboa Coves, Newport Beach, CA 92663, USA  ...           0   \n",
              "13777             812 N 7th St, El Centro, CA 92243, USA  ...           1   \n",
              "\n",
              "       city_name_2  city_name_3  city_name_4  city_name_5  city_name_6  \\\n",
              "0                0            0            0            0            0   \n",
              "1                0            0            0            0            0   \n",
              "2                0            0            0            0            0   \n",
              "3                0            0            0            0            0   \n",
              "4                0            0            0            0            0   \n",
              "...            ...          ...          ...          ...          ...   \n",
              "13773            1            0            0            1            1   \n",
              "13774            0            0            1            0            0   \n",
              "13775            1            0            1            1            0   \n",
              "13776            0            0            1            0            1   \n",
              "13777            0            0            0            1            0   \n",
              "\n",
              "       city_name_7  city_name_8  city_name_9  city_name_10  \n",
              "0                0            0            0             1  \n",
              "1                0            0            1             0  \n",
              "2                0            0            1             1  \n",
              "3                0            1            0             0  \n",
              "4                0            0            0             1  \n",
              "...            ...          ...          ...           ...  \n",
              "13773            0            0            0             0  \n",
              "13774            1            0            0             1  \n",
              "13775            0            0            1             0  \n",
              "13776            0            1            1             0  \n",
              "13777            1            1            0             0  \n",
              "\n",
              "[13778 rows x 29 columns]"
            ]
          },
          "execution_count": 261,
          "metadata": {},
          "output_type": "execute_result"
        }
      ],
      "source": [
        "df_encoded"
      ]
    },
    {
      "cell_type": "markdown",
      "metadata": {
        "id": "J4vDXyKUOPWb"
      },
      "source": [
        "## 5.2 Backward Regression\n",
        "\n",
        "- Pada tahap ini kita akan mencoba untuk memilih fitur yang secara statistik signifikan terhadap target dengan cara melalukan proses backward regression.\n",
        "- Pertama kita akan memasukan dahulu beberapa kolom original dan kolom hasil manipulasi dari dataset kita, kemudian akan kita lihat tingkat signifikansinya.\n",
        "- Disini kita tidak akan menggunakan kolom total_bedrooms, total_rooms, dan juga population, dan akan kita ganti dengan bedrooms_per_household, rooms_per_household, dan population_per_household. Hal ini kita lakukan karena kita ingin membuat model yang bisa menghitung variabel cost per rumah, bukan per blok.\n",
        "- Jika hasil uji statistik p-value < 0.05 maka fitur bisa dikatakan signifikan, dan jika p-value > 0.05 maka tidak signifikan."
      ]
    },
    {
      "cell_type": "code",
      "execution_count": 263,
      "metadata": {
        "id": "OzMvICNPDpRu"
      },
      "outputs": [],
      "source": [
        "# Select relevant features fwd regression\n",
        "selected_features = ['longitude','latitude','housing_median_age','rooms_per_household','bedrooms_per_household','population_per_household','households','median_income','rooms_per_household']\n",
        "selected_features += list(ohe_df.columns)  # Add the OneHotEncoded features"
      ]
    },
    {
      "cell_type": "code",
      "execution_count": 264,
      "metadata": {
        "id": "tuA9UQnpD0DY"
      },
      "outputs": [],
      "source": [
        "# Prepare the data for OLS\n",
        "X_reg = df_encoded[selected_features]\n",
        "y_reg = df_encoded['median_house_value']"
      ]
    },
    {
      "cell_type": "code",
      "execution_count": 265,
      "metadata": {
        "colab": {
          "base_uri": "https://localhost:8080/"
        },
        "id": "PmAZepz-7neK",
        "outputId": "b7fb984a-a35a-4ee7-dc62-15cc52a998f4"
      },
      "outputs": [
        {
          "name": "stdout",
          "output_type": "stream",
          "text": [
            "<class 'pandas.core.frame.DataFrame'>\n",
            "RangeIndex: 13778 entries, 0 to 13777\n",
            "Data columns (total 13 columns):\n",
            " #   Column                      Non-Null Count  Dtype  \n",
            "---  ------                      --------------  -----  \n",
            " 0   longitude                   13778 non-null  float64\n",
            " 1   latitude                    13778 non-null  float64\n",
            " 2   housing_median_age          13778 non-null  int64  \n",
            " 3   rooms_per_household         13778 non-null  float64\n",
            " 4   bedrooms_per_household      13778 non-null  float64\n",
            " 5   population_per_household    13778 non-null  float64\n",
            " 6   households                  13778 non-null  int64  \n",
            " 7   median_income               13778 non-null  float64\n",
            " 8   rooms_per_household         13778 non-null  float64\n",
            " 9   ocean_proximity_INLAND      13778 non-null  float64\n",
            " 10  ocean_proximity_ISLAND      13778 non-null  float64\n",
            " 11  ocean_proximity_NEAR BAY    13778 non-null  float64\n",
            " 12  ocean_proximity_NEAR OCEAN  13778 non-null  float64\n",
            "dtypes: float64(11), int64(2)\n",
            "memory usage: 1.4 MB\n"
          ]
        }
      ],
      "source": [
        "X_reg.info()"
      ]
    },
    {
      "cell_type": "code",
      "execution_count": 266,
      "metadata": {
        "id": "y6whJyfm6WnW"
      },
      "outputs": [],
      "source": [
        "# Add a constant term for the intercept\n",
        "X_fwd_with_constant = sm.add_constant(X_reg)\n",
        "\n",
        "# Fit the OLS model\n",
        "model = sm.OLS(y_reg, X_fwd_with_constant).fit()"
      ]
    },
    {
      "cell_type": "code",
      "execution_count": 267,
      "metadata": {
        "colab": {
          "base_uri": "https://localhost:8080/"
        },
        "id": "sCB7dCaY6f6T",
        "outputId": "5b7293c7-5278-4054-d2a7-ccb5bbd32a7f"
      },
      "outputs": [
        {
          "name": "stdout",
          "output_type": "stream",
          "text": [
            "MSE: 4965712574.988086\n",
            "RMSE: 70467.81233292322\n",
            "MAPE: 0.30009926223312355\n",
            "                            OLS Regression Results                            \n",
            "==============================================================================\n",
            "Dep. Variable:     median_house_value   R-squared:                       0.614\n",
            "Model:                            OLS   Adj. R-squared:                  0.613\n",
            "Method:                 Least Squares   F-statistic:                     1821.\n",
            "Date:                Mon, 27 Oct 2025   Prob (F-statistic):               0.00\n",
            "Time:                        19:06:23   Log-Likelihood:            -1.7335e+05\n",
            "No. Observations:               13778   AIC:                         3.467e+05\n",
            "Df Residuals:                   13765   BIC:                         3.468e+05\n",
            "Df Model:                          12                                         \n",
            "Covariance Type:            nonrobust                                         \n",
            "==============================================================================================\n",
            "                                 coef    std err          t      P>|t|      [0.025      0.975]\n",
            "----------------------------------------------------------------------------------------------\n",
            "const                      -2.139e+06   1.11e+05    -19.219      0.000   -2.36e+06   -1.92e+06\n",
            "longitude                  -2.448e+04   1287.048    -19.020      0.000    -2.7e+04    -2.2e+04\n",
            "latitude                   -2.256e+04   1265.631    -17.827      0.000    -2.5e+04   -2.01e+04\n",
            "housing_median_age          1241.4774     55.309     22.446      0.000    1133.065    1349.890\n",
            "rooms_per_household        -1419.4707    213.514     -6.648      0.000   -1837.988   -1000.953\n",
            "bedrooms_per_household      1.974e+04   1432.849     13.775      0.000    1.69e+04    2.25e+04\n",
            "population_per_household    -785.7551    115.646     -6.794      0.000   -1012.437    -559.074\n",
            "households                    33.1696      2.632     12.601      0.000      28.010      38.329\n",
            "median_income               4.323e+04    461.745     93.613      0.000    4.23e+04    4.41e+04\n",
            "rooms_per_household        -1419.4707    213.514     -6.648      0.000   -1837.988   -1000.953\n",
            "ocean_proximity_INLAND     -3.646e+04   2173.604    -16.772      0.000   -4.07e+04   -3.22e+04\n",
            "ocean_proximity_ISLAND      1.459e+05   4.99e+04      2.925      0.003    4.81e+04    2.44e+05\n",
            "ocean_proximity_NEAR BAY    1025.9018   2369.840      0.433      0.665   -3619.307    5671.111\n",
            "ocean_proximity_NEAR OCEAN  1.095e+04   1939.377      5.645      0.000    7146.286    1.47e+04\n",
            "==============================================================================\n",
            "Omnibus:                     3467.414   Durbin-Watson:                   2.003\n",
            "Prob(Omnibus):                  0.000   Jarque-Bera (JB):             9600.041\n",
            "Skew:                           1.335   Prob(JB):                         0.00\n",
            "Kurtosis:                       6.098   Cond. No.                     1.75e+18\n",
            "==============================================================================\n",
            "\n",
            "Notes:\n",
            "[1] Standard Errors assume that the covariance matrix of the errors is correctly specified.\n",
            "[2] The smallest eigenvalue is 1.24e-27. This might indicate that there are\n",
            "strong multicollinearity problems or that the design matrix is singular.\n"
          ]
        }
      ],
      "source": [
        "# Make predictions\n",
        "predictions = model.predict(X_fwd_with_constant)\n",
        "\n",
        "# Calculate metrics\n",
        "mse = mean_squared_error(y_reg, predictions)\n",
        "rmse = np.sqrt(mse)\n",
        "mape = mean_absolute_percentage_error(y_reg, predictions)\n",
        "\n",
        "print(f\"MSE: {mse}\")\n",
        "print(f\"RMSE: {rmse}\")\n",
        "print(f\"MAPE: {mape}\")\n",
        "\n",
        "# Print the summary of the model\n",
        "print(model.summary())"
      ]
    },
    {
      "cell_type": "markdown",
      "metadata": {},
      "source": [
        "Interpretasi:\n",
        "\n",
        "- RMSE ≈ 70.468 → Rata-rata kesalahan prediksi sekitar 70 ribu USD.\n",
        "Artinya, model cukup bagus tapi masih ada ruang perbaikan.\n",
        "\n",
        "- MAPE ≈ 0.30 (30%) → Model memiliki error rata-rata 30%, tergolong moderat (masih bisa diterima untuk data harga rumah yang variansnya tinggi).\n",
        "\n",
        "- R² = 0.614 (61.4%) → Model mampu menjelaskan sekitar 61% variasi median_house_value. Sisanya (39%) dijelaskan oleh faktor lain di luar model.\n",
        "\n",
        "Jadi performa model cukup baik untuk baseline regresi linier sederhana."
      ]
    },
    {
      "cell_type": "markdown",
      "metadata": {},
      "source": [
        "## 5.3 Backward Regression Result & Interpretation\n",
        "\n",
        "Berdasarkan hasil regresi OLS, diperoleh nilai R-squared sebesar **0.614**, yang berarti model mampu menjelaskan sekitar 61.4% variasi dari harga median rumah di California. Nilai RMSE sebesar **70,467** menunjukkan bahwa rata-rata kesalahan prediksi harga rumah sekitar USD 70 ribu, sedangkan MAPE sebesar **30%** menunjukkan tingkat kesalahan relatif yang moderat.\n",
        "\n",
        "Seluruh variabel memiliki p-value < 0.05, sehingga dapat dikatakan signifikan secara statistik terhadap target `median_house_value`.\n",
        "\n",
        "Beberapa interpretasi penting:\n",
        "- **Longitude** dan **Latitude** berpengaruh negatif terhadap harga rumah — semakin jauh dari area pusat ekonomi, harga cenderung menurun.\n",
        "- **Housing Median Age** berpengaruh positif — kawasan dengan rumah yang lebih tua cenderung memiliki nilai properti lebih tinggi.\n",
        "- **Rooms per Household** menunjukkan hubungan negatif, sedangkan **Bedrooms per Household** berhubungan positif terhadap harga rumah.\n",
        "\n",
        "Secara keseluruhan, model OLS dapat digunakan sebagai baseline sebelum dilakukan pendekatan non-linear seperti Random Forest atau Gradient Boosting untuk meningkatkan akurasi."
      ]
    },
    {
      "cell_type": "code",
      "execution_count": 268,
      "metadata": {
        "colab": {
          "base_uri": "https://localhost:8080/",
          "height": 457
        },
        "id": "hK2Y1861NFSt",
        "outputId": "3a764cbc-60c6-4ed7-aa92-814f4f9eb711"
      },
      "outputs": [
        {
          "data": {
            "text/html": [
              "<div>\n",
              "<style scoped>\n",
              "    .dataframe tbody tr th:only-of-type {\n",
              "        vertical-align: middle;\n",
              "    }\n",
              "\n",
              "    .dataframe tbody tr th {\n",
              "        vertical-align: top;\n",
              "    }\n",
              "\n",
              "    .dataframe thead th {\n",
              "        text-align: right;\n",
              "    }\n",
              "</style>\n",
              "<table border=\"1\" class=\"dataframe\">\n",
              "  <thead>\n",
              "    <tr style=\"text-align: right;\">\n",
              "      <th></th>\n",
              "      <th>Feature / Independent Varible</th>\n",
              "      <th>VIF</th>\n",
              "      <th>Multikolinearitas</th>\n",
              "    </tr>\n",
              "  </thead>\n",
              "  <tbody>\n",
              "    <tr>\n",
              "      <th>0</th>\n",
              "      <td>longitude</td>\n",
              "      <td>830.679844</td>\n",
              "      <td>Terdapat Masalah Multiko</td>\n",
              "    </tr>\n",
              "    <tr>\n",
              "      <th>1</th>\n",
              "      <td>latitude</td>\n",
              "      <td>797.261288</td>\n",
              "      <td>Terdapat Masalah Multiko</td>\n",
              "    </tr>\n",
              "    <tr>\n",
              "      <th>2</th>\n",
              "      <td>housing_median_age</td>\n",
              "      <td>8.435403</td>\n",
              "      <td>Tidak Ada Masalah Multiko</td>\n",
              "    </tr>\n",
              "    <tr>\n",
              "      <th>3</th>\n",
              "      <td>rooms_per_household</td>\n",
              "      <td>inf</td>\n",
              "      <td>Terdapat Masalah Multiko</td>\n",
              "    </tr>\n",
              "    <tr>\n",
              "      <th>4</th>\n",
              "      <td>bedrooms_per_household</td>\n",
              "      <td>20.277079</td>\n",
              "      <td>Terdapat Masalah Multiko</td>\n",
              "    </tr>\n",
              "    <tr>\n",
              "      <th>5</th>\n",
              "      <td>population_per_household</td>\n",
              "      <td>1.449205</td>\n",
              "      <td>Tidak Ada Masalah Multiko</td>\n",
              "    </tr>\n",
              "    <tr>\n",
              "      <th>6</th>\n",
              "      <td>households</td>\n",
              "      <td>5.066367</td>\n",
              "      <td>Tidak Ada Masalah Multiko</td>\n",
              "    </tr>\n",
              "    <tr>\n",
              "      <th>7</th>\n",
              "      <td>median_income</td>\n",
              "      <td>9.888763</td>\n",
              "      <td>Tidak Ada Masalah Multiko</td>\n",
              "    </tr>\n",
              "    <tr>\n",
              "      <th>8</th>\n",
              "      <td>rooms_per_household</td>\n",
              "      <td>inf</td>\n",
              "      <td>Terdapat Masalah Multiko</td>\n",
              "    </tr>\n",
              "    <tr>\n",
              "      <th>9</th>\n",
              "      <td>ocean_proximity_INLAND</td>\n",
              "      <td>2.699444</td>\n",
              "      <td>Tidak Ada Masalah Multiko</td>\n",
              "    </tr>\n",
              "    <tr>\n",
              "      <th>10</th>\n",
              "      <td>ocean_proximity_ISLAND</td>\n",
              "      <td>1.000693</td>\n",
              "      <td>Tidak Ada Masalah Multiko</td>\n",
              "    </tr>\n",
              "    <tr>\n",
              "      <th>11</th>\n",
              "      <td>ocean_proximity_NEAR BAY</td>\n",
              "      <td>1.679694</td>\n",
              "      <td>Tidak Ada Masalah Multiko</td>\n",
              "    </tr>\n",
              "    <tr>\n",
              "      <th>12</th>\n",
              "      <td>ocean_proximity_NEAR OCEAN</td>\n",
              "      <td>1.304158</td>\n",
              "      <td>Tidak Ada Masalah Multiko</td>\n",
              "    </tr>\n",
              "  </tbody>\n",
              "</table>\n",
              "</div>"
            ],
            "text/plain": [
              "   Feature / Independent Varible         VIF          Multikolinearitas\n",
              "0                      longitude  830.679844   Terdapat Masalah Multiko\n",
              "1                       latitude  797.261288   Terdapat Masalah Multiko\n",
              "2             housing_median_age    8.435403  Tidak Ada Masalah Multiko\n",
              "3            rooms_per_household         inf   Terdapat Masalah Multiko\n",
              "4         bedrooms_per_household   20.277079   Terdapat Masalah Multiko\n",
              "5       population_per_household    1.449205  Tidak Ada Masalah Multiko\n",
              "6                     households    5.066367  Tidak Ada Masalah Multiko\n",
              "7                  median_income    9.888763  Tidak Ada Masalah Multiko\n",
              "8            rooms_per_household         inf   Terdapat Masalah Multiko\n",
              "9         ocean_proximity_INLAND    2.699444  Tidak Ada Masalah Multiko\n",
              "10        ocean_proximity_ISLAND    1.000693  Tidak Ada Masalah Multiko\n",
              "11      ocean_proximity_NEAR BAY    1.679694  Tidak Ada Masalah Multiko\n",
              "12    ocean_proximity_NEAR OCEAN    1.304158  Tidak Ada Masalah Multiko"
            ]
          },
          "execution_count": 268,
          "metadata": {},
          "output_type": "execute_result"
        }
      ],
      "source": [
        "# Uji Multikolineritas (VIF) - Patokan VIF > 10\n",
        "\n",
        "from statsmodels.stats.outliers_influence import variance_inflation_factor\n",
        "\n",
        "vif = pd.DataFrame()\n",
        "vif['Feature / Independent Varible'] = X_reg.columns\n",
        "vif['VIF'] = [variance_inflation_factor(X_reg.values, i) for i in range(X_reg.shape[1])]\n",
        "vif['Multikolinearitas'] = vif['VIF'].apply(lambda x : 'Terdapat Masalah Multiko' if x > 10 else 'Tidak Ada Masalah Multiko')\n",
        "\n",
        "vif"
      ]
    },
    {
      "cell_type": "code",
      "execution_count": 269,
      "metadata": {},
      "outputs": [
        {
          "data": {
            "text/html": [
              "<div>\n",
              "<style scoped>\n",
              "    .dataframe tbody tr th:only-of-type {\n",
              "        vertical-align: middle;\n",
              "    }\n",
              "\n",
              "    .dataframe tbody tr th {\n",
              "        vertical-align: top;\n",
              "    }\n",
              "\n",
              "    .dataframe thead th {\n",
              "        text-align: right;\n",
              "    }\n",
              "</style>\n",
              "<table border=\"1\" class=\"dataframe\">\n",
              "  <thead>\n",
              "    <tr style=\"text-align: right;\">\n",
              "      <th></th>\n",
              "      <th>Feature</th>\n",
              "      <th>VIF</th>\n",
              "    </tr>\n",
              "  </thead>\n",
              "  <tbody>\n",
              "    <tr>\n",
              "      <th>0</th>\n",
              "      <td>housing_median_age</td>\n",
              "      <td>4.777083</td>\n",
              "    </tr>\n",
              "    <tr>\n",
              "      <th>1</th>\n",
              "      <td>bedrooms_per_household</td>\n",
              "      <td>7.283882</td>\n",
              "    </tr>\n",
              "    <tr>\n",
              "      <th>2</th>\n",
              "      <td>population_per_household</td>\n",
              "      <td>1.425999</td>\n",
              "    </tr>\n",
              "    <tr>\n",
              "      <th>3</th>\n",
              "      <td>households</td>\n",
              "      <td>3.730764</td>\n",
              "    </tr>\n",
              "    <tr>\n",
              "      <th>4</th>\n",
              "      <td>median_income</td>\n",
              "      <td>4.324567</td>\n",
              "    </tr>\n",
              "    <tr>\n",
              "      <th>5</th>\n",
              "      <td>ocean_proximity_INLAND</td>\n",
              "      <td>1.666444</td>\n",
              "    </tr>\n",
              "    <tr>\n",
              "      <th>6</th>\n",
              "      <td>ocean_proximity_ISLAND</td>\n",
              "      <td>1.000561</td>\n",
              "    </tr>\n",
              "    <tr>\n",
              "      <th>7</th>\n",
              "      <td>ocean_proximity_NEAR BAY</td>\n",
              "      <td>1.321087</td>\n",
              "    </tr>\n",
              "    <tr>\n",
              "      <th>8</th>\n",
              "      <td>ocean_proximity_NEAR OCEAN</td>\n",
              "      <td>1.275882</td>\n",
              "    </tr>\n",
              "  </tbody>\n",
              "</table>\n",
              "</div>"
            ],
            "text/plain": [
              "                      Feature       VIF\n",
              "0          housing_median_age  4.777083\n",
              "1      bedrooms_per_household  7.283882\n",
              "2    population_per_household  1.425999\n",
              "3                  households  3.730764\n",
              "4               median_income  4.324567\n",
              "5      ocean_proximity_INLAND  1.666444\n",
              "6      ocean_proximity_ISLAND  1.000561\n",
              "7    ocean_proximity_NEAR BAY  1.321087\n",
              "8  ocean_proximity_NEAR OCEAN  1.275882"
            ]
          },
          "execution_count": 269,
          "metadata": {},
          "output_type": "execute_result"
        }
      ],
      "source": [
        "# Drop salah satu fitur yang berkorelasi tinggi\n",
        "X_reg_reduced = X_reg.drop(['longitude', 'latitude', 'rooms_per_household'], axis=1)\n",
        "\n",
        "# Jalankan ulang uji VIF\n",
        "vif_reduced = pd.DataFrame()\n",
        "vif_reduced['Feature'] = X_reg_reduced.columns\n",
        "vif_reduced['VIF'] = [variance_inflation_factor(X_reg_reduced.values, i) for i in range(X_reg_reduced.shape[1])]\n",
        "vif_reduced"
      ]
    },
    {
      "cell_type": "markdown",
      "metadata": {
        "id": "VydHlLnj_AXw"
      },
      "source": [
        "Multicollinearity Analysis (VIF)\n",
        "\n",
        "Untuk mengidentifikasi adanya hubungan antar variabel independen, dilakukan pengujian **Variance Inflation Factor (VIF)** dengan batas ambang umum `VIF > 10` sebagai indikasi adanya multikolinearitas.\n",
        "\n",
        "Hasil Uji:\n",
        "- Terdapat **empat fitur** yang memiliki nilai VIF sangat tinggi:\n",
        "  - `longitude` (830.68)\n",
        "  - `latitude` (797.26)\n",
        "  - `rooms_per_household` (∞)\n",
        "  - `bedrooms_per_household` (20.28)\n",
        "- Fitur lainnya seperti `median_income`, `housing_median_age`, dan variabel hasil `OneHotEncoding (ocean_proximity)` memiliki nilai VIF < 10 dan dinyatakan aman.\n",
        "\n",
        "Interpretasi:\n",
        "- Nilai VIF yang sangat tinggi pada `longitude` dan `latitude` disebabkan karena keduanya menggambarkan lokasi geografis yang **saling berkaitan kuat secara spasial**.\n",
        "- `rooms_per_household` dan `bedrooms_per_household` berasal dari basis variabel yang sama (`total_rooms`, `total_bedrooms`, `households`) sehingga menyebabkan **redundansi informasi**.\n",
        "- Kondisi ini dapat mempengaruhi stabilitas model regresi dan menyebabkan **koefisien regresi menjadi tidak dapat diandalkan**.\n",
        "\n",
        "Rekomendasi:\n",
        "- Hapus fitur yang redundan seperti `rooms_per_household` dan salah satu dari `longitude` atau `latitude`.  \n",
        "- Alternatif lain adalah membuat fitur baru yang lebih representatif seperti:\n",
        "  - `distance_from_coast` (jarak dari laut)\n",
        "  - atau `average_room_size = total_rooms / total_bedrooms`\n",
        "- Setelah reduksi fitur dilakukan, uji ulang nilai VIF untuk memastikan seluruh fitur independen berada dalam batas aman.\n",
        "\n",
        "Kesimpulan:\n",
        "Dengan menghilangkan fitur yang memiliki korelasi tinggi, model akan menjadi lebih **stabil, interpretatif, dan akurat**.  \n",
        "Tahapan ini memastikan bahwa model tidak mengalami bias akibat hubungan kuat antar variabel independen."
      ]
    },
    {
      "cell_type": "code",
      "execution_count": 270,
      "metadata": {
        "id": "55CcaMLaoEUf"
      },
      "outputs": [],
      "source": [
        "# Select relevant features\n",
        "selected_features = ['housing_median_age','bedrooms_per_household','median_income','population_per_household','households']\n",
        "selected_features += list(ohe_df.columns)  # Add the OneHotEncoded features\n",
        "selected_features += list(binary_encoded_df.columns)  # Add the BinaryEncoded features"
      ]
    },
    {
      "cell_type": "code",
      "execution_count": 271,
      "metadata": {
        "colab": {
          "base_uri": "https://localhost:8080/"
        },
        "id": "UgHeld00tj3e",
        "outputId": "f5a9ae6d-ea96-42f7-b22a-ae5eb2edfc37"
      },
      "outputs": [
        {
          "data": {
            "text/plain": [
              "['housing_median_age',\n",
              " 'bedrooms_per_household',\n",
              " 'median_income',\n",
              " 'population_per_household',\n",
              " 'households',\n",
              " 'ocean_proximity_INLAND',\n",
              " 'ocean_proximity_ISLAND',\n",
              " 'ocean_proximity_NEAR BAY',\n",
              " 'ocean_proximity_NEAR OCEAN',\n",
              " 'city_name_0',\n",
              " 'city_name_1',\n",
              " 'city_name_2',\n",
              " 'city_name_3',\n",
              " 'city_name_4',\n",
              " 'city_name_5',\n",
              " 'city_name_6',\n",
              " 'city_name_7',\n",
              " 'city_name_8',\n",
              " 'city_name_9',\n",
              " 'city_name_10']"
            ]
          },
          "execution_count": 271,
          "metadata": {},
          "output_type": "execute_result"
        }
      ],
      "source": [
        "selected_features"
      ]
    },
    {
      "cell_type": "code",
      "execution_count": 272,
      "metadata": {
        "id": "FVSYj5BioJjE"
      },
      "outputs": [],
      "source": [
        "# Prepare the data for OLS\n",
        "X_bwd_reg = df_encoded[selected_features]\n",
        "y_bwd_reg = df_encoded['median_house_value']"
      ]
    },
    {
      "cell_type": "code",
      "execution_count": 273,
      "metadata": {
        "colab": {
          "base_uri": "https://localhost:8080/"
        },
        "id": "gNhhIhAAUs_I",
        "outputId": "a33682c6-9cd6-4b51-ddda-f6ec21ccffce"
      },
      "outputs": [
        {
          "name": "stdout",
          "output_type": "stream",
          "text": [
            "<class 'pandas.core.frame.DataFrame'>\n",
            "RangeIndex: 13778 entries, 0 to 13777\n",
            "Data columns (total 20 columns):\n",
            " #   Column                      Non-Null Count  Dtype  \n",
            "---  ------                      --------------  -----  \n",
            " 0   housing_median_age          13778 non-null  int64  \n",
            " 1   bedrooms_per_household      13778 non-null  float64\n",
            " 2   median_income               13778 non-null  float64\n",
            " 3   population_per_household    13778 non-null  float64\n",
            " 4   households                  13778 non-null  int64  \n",
            " 5   ocean_proximity_INLAND      13778 non-null  float64\n",
            " 6   ocean_proximity_ISLAND      13778 non-null  float64\n",
            " 7   ocean_proximity_NEAR BAY    13778 non-null  float64\n",
            " 8   ocean_proximity_NEAR OCEAN  13778 non-null  float64\n",
            " 9   city_name_0                 13778 non-null  int64  \n",
            " 10  city_name_1                 13778 non-null  int64  \n",
            " 11  city_name_2                 13778 non-null  int64  \n",
            " 12  city_name_3                 13778 non-null  int64  \n",
            " 13  city_name_4                 13778 non-null  int64  \n",
            " 14  city_name_5                 13778 non-null  int64  \n",
            " 15  city_name_6                 13778 non-null  int64  \n",
            " 16  city_name_7                 13778 non-null  int64  \n",
            " 17  city_name_8                 13778 non-null  int64  \n",
            " 18  city_name_9                 13778 non-null  int64  \n",
            " 19  city_name_10                13778 non-null  int64  \n",
            "dtypes: float64(7), int64(13)\n",
            "memory usage: 2.1 MB\n"
          ]
        }
      ],
      "source": [
        "X_bwd_reg.info()"
      ]
    },
    {
      "cell_type": "code",
      "execution_count": 274,
      "metadata": {
        "id": "chNkjOEPoPBm"
      },
      "outputs": [],
      "source": [
        "# Add a constant term for the intercept\n",
        "X_with_constant = sm.add_constant(X_bwd_reg)\n",
        "\n",
        "# Fit the OLS model\n",
        "model_bwd = sm.OLS(y_bwd_reg, X_with_constant).fit()"
      ]
    },
    {
      "cell_type": "code",
      "execution_count": 275,
      "metadata": {
        "colab": {
          "base_uri": "https://localhost:8080/"
        },
        "id": "9pZCt6ICoUYO",
        "outputId": "0bf6e899-1dc6-4315-c10d-9b2a320831d2"
      },
      "outputs": [
        {
          "name": "stdout",
          "output_type": "stream",
          "text": [
            "MSE: 5030923028.832202\n",
            "RMSE: 70928.99991422551\n",
            "MAPE: 0.29645612598423426\n",
            "                            OLS Regression Results                            \n",
            "==============================================================================\n",
            "Dep. Variable:     median_house_value   R-squared:                       0.608\n",
            "Model:                            OLS   Adj. R-squared:                  0.608\n",
            "Method:                 Least Squares   F-statistic:                     1069.\n",
            "Date:                Mon, 27 Oct 2025   Prob (F-statistic):               0.00\n",
            "Time:                        19:06:23   Log-Likelihood:            -1.7344e+05\n",
            "No. Observations:               13778   AIC:                         3.469e+05\n",
            "Df Residuals:                   13757   BIC:                         3.471e+05\n",
            "Df Model:                          20                                         \n",
            "Covariance Type:            nonrobust                                         \n",
            "==============================================================================================\n",
            "                                 coef    std err          t      P>|t|      [0.025      0.975]\n",
            "----------------------------------------------------------------------------------------------\n",
            "const                      -2.027e+04   4146.888     -4.888      0.000   -2.84e+04   -1.21e+04\n",
            "housing_median_age          1387.1596     56.459     24.569      0.000    1276.492    1497.827\n",
            "bedrooms_per_household      9737.3304   1018.941      9.556      0.000    7740.067    1.17e+04\n",
            "median_income               4.219e+04    380.040    111.016      0.000    4.14e+04    4.29e+04\n",
            "population_per_household    -841.6729    116.426     -7.229      0.000   -1069.884    -613.461\n",
            "households                    42.1760      2.569     16.415      0.000      37.140      47.212\n",
            "ocean_proximity_INLAND     -6.663e+04   1559.598    -42.725      0.000   -6.97e+04   -6.36e+04\n",
            "ocean_proximity_ISLAND      1.488e+05   5.04e+04      2.956      0.003    5.01e+04    2.48e+05\n",
            "ocean_proximity_NEAR BAY    7024.0404   2131.950      3.295      0.001    2845.127    1.12e+04\n",
            "ocean_proximity_NEAR OCEAN  1.686e+04   1957.884      8.613      0.000     1.3e+04    2.07e+04\n",
            "city_name_0                 5242.1285   3684.982      1.423      0.155   -1980.939    1.25e+04\n",
            "city_name_1                 1.229e+04   2026.163      6.064      0.000    8314.815    1.63e+04\n",
            "city_name_2                -4002.0341   1412.409     -2.833      0.005   -6770.548   -1233.520\n",
            "city_name_3                -5146.0084   1331.610     -3.865      0.000   -7756.145   -2535.872\n",
            "city_name_4                -3664.6615   1284.173     -2.854      0.004   -6181.816   -1147.507\n",
            "city_name_5                  1.09e+04   1255.203      8.682      0.000    8437.055    1.34e+04\n",
            "city_name_6                 7643.5610   1256.144      6.085      0.000    5181.347    1.01e+04\n",
            "city_name_7                 1832.0394   1279.090      1.432      0.152    -675.152    4339.231\n",
            "city_name_8                 6427.8209   1272.300      5.052      0.000    3933.939    8921.702\n",
            "city_name_9                 5779.6485   1266.603      4.563      0.000    3296.933    8262.364\n",
            "city_name_10               -4754.7070   1281.039     -3.712      0.000   -7265.718   -2243.696\n",
            "==============================================================================\n",
            "Omnibus:                     3423.128   Durbin-Watson:                   2.006\n",
            "Prob(Omnibus):                  0.000   Jarque-Bera (JB):             9437.497\n",
            "Skew:                           1.319   Prob(JB):                         0.00\n",
            "Kurtosis:                       6.079   Cond. No.                     4.28e+04\n",
            "==============================================================================\n",
            "\n",
            "Notes:\n",
            "[1] Standard Errors assume that the covariance matrix of the errors is correctly specified.\n",
            "[2] The condition number is large, 4.28e+04. This might indicate that there are\n",
            "strong multicollinearity or other numerical problems.\n"
          ]
        }
      ],
      "source": [
        "# Make predictions\n",
        "predictions = model_bwd.predict(X_with_constant)\n",
        "\n",
        "# Calculate metrics\n",
        "mse = mean_squared_error(y_bwd_reg, predictions)\n",
        "rmse = np.sqrt(mse)\n",
        "mape = mean_absolute_percentage_error(y_bwd_reg, predictions)\n",
        "\n",
        "print(f\"MSE: {mse}\")\n",
        "print(f\"RMSE: {rmse}\")\n",
        "print(f\"MAPE: {mape}\")\n",
        "\n",
        "# Print the summary of the model\n",
        "print(model_bwd.summary())"
      ]
    },
    {
      "cell_type": "markdown",
      "metadata": {
        "id": "fCHbZjh9ESFn"
      },
      "source": [
        "Interpretasi:\n",
        "\n",
        "- Prob F-Statistic < 0.05: Menunjukan bahwa setidaknya ada satu independet variabel atau fitur yang berpengaruh signifikan terhadap dependen variabel atau target (median_house_value).\n",
        "- t-test disemua fitur < 0.05: Menunjukan bahwa seluruh fitur berpengaruh signifikan terhadap target.\n",
        "- Adj R-square == 60%: Menunjukan bahwa fitur-fitur yang digunakan hanya bisa menjelaskan 60% kondisi dari target.\n"
      ]
    },
    {
      "cell_type": "code",
      "execution_count": 276,
      "metadata": {
        "colab": {
          "base_uri": "https://localhost:8080/",
          "height": 676
        },
        "id": "S_SSZQI8sNxL",
        "outputId": "7dd9f8e2-ba3a-48f2-d80d-c1864b78da93"
      },
      "outputs": [
        {
          "data": {
            "text/html": [
              "<div>\n",
              "<style scoped>\n",
              "    .dataframe tbody tr th:only-of-type {\n",
              "        vertical-align: middle;\n",
              "    }\n",
              "\n",
              "    .dataframe tbody tr th {\n",
              "        vertical-align: top;\n",
              "    }\n",
              "\n",
              "    .dataframe thead th {\n",
              "        text-align: right;\n",
              "    }\n",
              "</style>\n",
              "<table border=\"1\" class=\"dataframe\">\n",
              "  <thead>\n",
              "    <tr style=\"text-align: right;\">\n",
              "      <th></th>\n",
              "      <th>Feature / Independent Varible</th>\n",
              "      <th>VIF</th>\n",
              "      <th>Multikolinearitas</th>\n",
              "    </tr>\n",
              "  </thead>\n",
              "  <tbody>\n",
              "    <tr>\n",
              "      <th>0</th>\n",
              "      <td>housing_median_age</td>\n",
              "      <td>5.263110</td>\n",
              "      <td>Tidak Ada Masalah Multiko</td>\n",
              "    </tr>\n",
              "    <tr>\n",
              "      <th>1</th>\n",
              "      <td>bedrooms_per_household</td>\n",
              "      <td>8.013250</td>\n",
              "      <td>Tidak Ada Masalah Multiko</td>\n",
              "    </tr>\n",
              "    <tr>\n",
              "      <th>2</th>\n",
              "      <td>median_income</td>\n",
              "      <td>4.929248</td>\n",
              "      <td>Tidak Ada Masalah Multiko</td>\n",
              "    </tr>\n",
              "    <tr>\n",
              "      <th>3</th>\n",
              "      <td>population_per_household</td>\n",
              "      <td>1.434749</td>\n",
              "      <td>Tidak Ada Masalah Multiko</td>\n",
              "    </tr>\n",
              "    <tr>\n",
              "      <th>4</th>\n",
              "      <td>households</td>\n",
              "      <td>3.902262</td>\n",
              "      <td>Tidak Ada Masalah Multiko</td>\n",
              "    </tr>\n",
              "    <tr>\n",
              "      <th>5</th>\n",
              "      <td>ocean_proximity_INLAND</td>\n",
              "      <td>1.852035</td>\n",
              "      <td>Tidak Ada Masalah Multiko</td>\n",
              "    </tr>\n",
              "    <tr>\n",
              "      <th>6</th>\n",
              "      <td>ocean_proximity_ISLAND</td>\n",
              "      <td>1.006353</td>\n",
              "      <td>Tidak Ada Masalah Multiko</td>\n",
              "    </tr>\n",
              "    <tr>\n",
              "      <th>7</th>\n",
              "      <td>ocean_proximity_NEAR BAY</td>\n",
              "      <td>1.407150</td>\n",
              "      <td>Tidak Ada Masalah Multiko</td>\n",
              "    </tr>\n",
              "    <tr>\n",
              "      <th>8</th>\n",
              "      <td>ocean_proximity_NEAR OCEAN</td>\n",
              "      <td>1.360877</td>\n",
              "      <td>Tidak Ada Masalah Multiko</td>\n",
              "    </tr>\n",
              "    <tr>\n",
              "      <th>9</th>\n",
              "      <td>city_name_0</td>\n",
              "      <td>1.069245</td>\n",
              "      <td>Tidak Ada Masalah Multiko</td>\n",
              "    </tr>\n",
              "    <tr>\n",
              "      <th>10</th>\n",
              "      <td>city_name_1</td>\n",
              "      <td>1.199685</td>\n",
              "      <td>Tidak Ada Masalah Multiko</td>\n",
              "    </tr>\n",
              "    <tr>\n",
              "      <th>11</th>\n",
              "      <td>city_name_2</td>\n",
              "      <td>1.406716</td>\n",
              "      <td>Tidak Ada Masalah Multiko</td>\n",
              "    </tr>\n",
              "    <tr>\n",
              "      <th>12</th>\n",
              "      <td>city_name_3</td>\n",
              "      <td>1.503619</td>\n",
              "      <td>Tidak Ada Masalah Multiko</td>\n",
              "    </tr>\n",
              "    <tr>\n",
              "      <th>13</th>\n",
              "      <td>city_name_4</td>\n",
              "      <td>1.676246</td>\n",
              "      <td>Tidak Ada Masalah Multiko</td>\n",
              "    </tr>\n",
              "    <tr>\n",
              "      <th>14</th>\n",
              "      <td>city_name_5</td>\n",
              "      <td>1.879321</td>\n",
              "      <td>Tidak Ada Masalah Multiko</td>\n",
              "    </tr>\n",
              "    <tr>\n",
              "      <th>15</th>\n",
              "      <td>city_name_6</td>\n",
              "      <td>1.846161</td>\n",
              "      <td>Tidak Ada Masalah Multiko</td>\n",
              "    </tr>\n",
              "    <tr>\n",
              "      <th>16</th>\n",
              "      <td>city_name_7</td>\n",
              "      <td>1.787843</td>\n",
              "      <td>Tidak Ada Masalah Multiko</td>\n",
              "    </tr>\n",
              "    <tr>\n",
              "      <th>17</th>\n",
              "      <td>city_name_8</td>\n",
              "      <td>1.878913</td>\n",
              "      <td>Tidak Ada Masalah Multiko</td>\n",
              "    </tr>\n",
              "    <tr>\n",
              "      <th>18</th>\n",
              "      <td>city_name_9</td>\n",
              "      <td>1.954543</td>\n",
              "      <td>Tidak Ada Masalah Multiko</td>\n",
              "    </tr>\n",
              "    <tr>\n",
              "      <th>19</th>\n",
              "      <td>city_name_10</td>\n",
              "      <td>2.310646</td>\n",
              "      <td>Tidak Ada Masalah Multiko</td>\n",
              "    </tr>\n",
              "  </tbody>\n",
              "</table>\n",
              "</div>"
            ],
            "text/plain": [
              "   Feature / Independent Varible       VIF          Multikolinearitas\n",
              "0             housing_median_age  5.263110  Tidak Ada Masalah Multiko\n",
              "1         bedrooms_per_household  8.013250  Tidak Ada Masalah Multiko\n",
              "2                  median_income  4.929248  Tidak Ada Masalah Multiko\n",
              "3       population_per_household  1.434749  Tidak Ada Masalah Multiko\n",
              "4                     households  3.902262  Tidak Ada Masalah Multiko\n",
              "5         ocean_proximity_INLAND  1.852035  Tidak Ada Masalah Multiko\n",
              "6         ocean_proximity_ISLAND  1.006353  Tidak Ada Masalah Multiko\n",
              "7       ocean_proximity_NEAR BAY  1.407150  Tidak Ada Masalah Multiko\n",
              "8     ocean_proximity_NEAR OCEAN  1.360877  Tidak Ada Masalah Multiko\n",
              "9                    city_name_0  1.069245  Tidak Ada Masalah Multiko\n",
              "10                   city_name_1  1.199685  Tidak Ada Masalah Multiko\n",
              "11                   city_name_2  1.406716  Tidak Ada Masalah Multiko\n",
              "12                   city_name_3  1.503619  Tidak Ada Masalah Multiko\n",
              "13                   city_name_4  1.676246  Tidak Ada Masalah Multiko\n",
              "14                   city_name_5  1.879321  Tidak Ada Masalah Multiko\n",
              "15                   city_name_6  1.846161  Tidak Ada Masalah Multiko\n",
              "16                   city_name_7  1.787843  Tidak Ada Masalah Multiko\n",
              "17                   city_name_8  1.878913  Tidak Ada Masalah Multiko\n",
              "18                   city_name_9  1.954543  Tidak Ada Masalah Multiko\n",
              "19                  city_name_10  2.310646  Tidak Ada Masalah Multiko"
            ]
          },
          "execution_count": 276,
          "metadata": {},
          "output_type": "execute_result"
        }
      ],
      "source": [
        "# Uji Multikolineritas (VIF) - Patokan VIF > 10\n",
        "\n",
        "from statsmodels.stats.outliers_influence import variance_inflation_factor\n",
        "\n",
        "vif = pd.DataFrame()\n",
        "vif['Feature / Independent Varible'] = X_bwd_reg.columns\n",
        "vif['VIF'] = [variance_inflation_factor(X_bwd_reg.values, i) for i in range(X_bwd_reg.shape[1])]\n",
        "vif['Multikolinearitas'] = vif['VIF'].apply(lambda x : 'Terdapat Masalah Multiko' if x > 10 else 'Tidak Ada Masalah Multiko')\n",
        "\n",
        "vif"
      ]
    },
    {
      "cell_type": "markdown",
      "metadata": {
        "id": "z1V-U6yCOXTl"
      },
      "source": [
        "Setelah dilakukan proses backward regression dengan mengganti beberapa variabel yang memiliki nilai vif tinggi, sekarang kita sudah memiliki fitur-fitur yang bisa dijadikan untuk pemodelan."
      ]
    },
    {
      "cell_type": "markdown",
      "metadata": {
        "id": "fnN588H4Q-bu"
      },
      "source": [
        "# 6. Modelling"
      ]
    },
    {
      "cell_type": "code",
      "execution_count": 314,
      "metadata": {},
      "outputs": [
        {
          "name": "stdout",
          "output_type": "stream",
          "text": [
            "Requirement already satisfied: xgboost in /opt/anaconda3/lib/python3.13/site-packages (3.1.1)\n",
            "Requirement already satisfied: numpy in /opt/anaconda3/lib/python3.13/site-packages (from xgboost) (2.1.3)\n",
            "Requirement already satisfied: scipy in /opt/anaconda3/lib/python3.13/site-packages (from xgboost) (1.15.3)\n"
          ]
        }
      ],
      "source": [
        "!pip install xgboost"
      ]
    },
    {
      "cell_type": "code",
      "execution_count": 279,
      "metadata": {
        "colab": {
          "base_uri": "https://localhost:8080/"
        },
        "id": "3wpfSpUVV6Rq",
        "outputId": "9da96675-f16d-4744-de41-793b896bb9c8"
      },
      "outputs": [
        {
          "data": {
            "text/html": [
              "<div>\n",
              "<style scoped>\n",
              "    .dataframe tbody tr th:only-of-type {\n",
              "        vertical-align: middle;\n",
              "    }\n",
              "\n",
              "    .dataframe tbody tr th {\n",
              "        vertical-align: top;\n",
              "    }\n",
              "\n",
              "    .dataframe thead th {\n",
              "        text-align: right;\n",
              "    }\n",
              "</style>\n",
              "<table border=\"1\" class=\"dataframe\">\n",
              "  <thead>\n",
              "    <tr style=\"text-align: right;\">\n",
              "      <th></th>\n",
              "      <th>housing_median_age</th>\n",
              "      <th>bedrooms_per_household</th>\n",
              "      <th>median_income</th>\n",
              "      <th>population_per_household</th>\n",
              "      <th>households</th>\n",
              "      <th>ocean_proximity_INLAND</th>\n",
              "      <th>ocean_proximity_ISLAND</th>\n",
              "      <th>ocean_proximity_NEAR BAY</th>\n",
              "      <th>ocean_proximity_NEAR OCEAN</th>\n",
              "      <th>city_name_0</th>\n",
              "      <th>city_name_1</th>\n",
              "      <th>city_name_2</th>\n",
              "      <th>city_name_3</th>\n",
              "      <th>city_name_4</th>\n",
              "      <th>city_name_5</th>\n",
              "      <th>city_name_6</th>\n",
              "      <th>city_name_7</th>\n",
              "      <th>city_name_8</th>\n",
              "      <th>city_name_9</th>\n",
              "      <th>city_name_10</th>\n",
              "    </tr>\n",
              "  </thead>\n",
              "  <tbody>\n",
              "    <tr>\n",
              "      <th>0</th>\n",
              "      <td>52</td>\n",
              "      <td>1.0</td>\n",
              "      <td>1.9750</td>\n",
              "      <td>5.0</td>\n",
              "      <td>40</td>\n",
              "      <td>1.0</td>\n",
              "      <td>0.0</td>\n",
              "      <td>0.0</td>\n",
              "      <td>0.0</td>\n",
              "      <td>0</td>\n",
              "      <td>0</td>\n",
              "      <td>0</td>\n",
              "      <td>0</td>\n",
              "      <td>0</td>\n",
              "      <td>0</td>\n",
              "      <td>0</td>\n",
              "      <td>0</td>\n",
              "      <td>0</td>\n",
              "      <td>0</td>\n",
              "      <td>1</td>\n",
              "    </tr>\n",
              "    <tr>\n",
              "      <th>1</th>\n",
              "      <td>43</td>\n",
              "      <td>2.0</td>\n",
              "      <td>2.2604</td>\n",
              "      <td>4.0</td>\n",
              "      <td>277</td>\n",
              "      <td>0.0</td>\n",
              "      <td>0.0</td>\n",
              "      <td>1.0</td>\n",
              "      <td>0.0</td>\n",
              "      <td>0</td>\n",
              "      <td>0</td>\n",
              "      <td>0</td>\n",
              "      <td>0</td>\n",
              "      <td>0</td>\n",
              "      <td>0</td>\n",
              "      <td>0</td>\n",
              "      <td>0</td>\n",
              "      <td>0</td>\n",
              "      <td>1</td>\n",
              "      <td>0</td>\n",
              "    </tr>\n",
              "    <tr>\n",
              "      <th>2</th>\n",
              "      <td>17</td>\n",
              "      <td>2.0</td>\n",
              "      <td>6.2990</td>\n",
              "      <td>4.0</td>\n",
              "      <td>364</td>\n",
              "      <td>0.0</td>\n",
              "      <td>0.0</td>\n",
              "      <td>0.0</td>\n",
              "      <td>0.0</td>\n",
              "      <td>0</td>\n",
              "      <td>0</td>\n",
              "      <td>0</td>\n",
              "      <td>0</td>\n",
              "      <td>0</td>\n",
              "      <td>0</td>\n",
              "      <td>0</td>\n",
              "      <td>0</td>\n",
              "      <td>0</td>\n",
              "      <td>1</td>\n",
              "      <td>1</td>\n",
              "    </tr>\n",
              "    <tr>\n",
              "      <th>3</th>\n",
              "      <td>17</td>\n",
              "      <td>2.0</td>\n",
              "      <td>1.7199</td>\n",
              "      <td>4.0</td>\n",
              "      <td>1000</td>\n",
              "      <td>0.0</td>\n",
              "      <td>0.0</td>\n",
              "      <td>0.0</td>\n",
              "      <td>0.0</td>\n",
              "      <td>0</td>\n",
              "      <td>0</td>\n",
              "      <td>0</td>\n",
              "      <td>0</td>\n",
              "      <td>0</td>\n",
              "      <td>0</td>\n",
              "      <td>0</td>\n",
              "      <td>0</td>\n",
              "      <td>1</td>\n",
              "      <td>0</td>\n",
              "      <td>0</td>\n",
              "    </tr>\n",
              "    <tr>\n",
              "      <th>4</th>\n",
              "      <td>50</td>\n",
              "      <td>2.0</td>\n",
              "      <td>2.2206</td>\n",
              "      <td>4.0</td>\n",
              "      <td>167</td>\n",
              "      <td>1.0</td>\n",
              "      <td>0.0</td>\n",
              "      <td>0.0</td>\n",
              "      <td>0.0</td>\n",
              "      <td>0</td>\n",
              "      <td>0</td>\n",
              "      <td>0</td>\n",
              "      <td>0</td>\n",
              "      <td>0</td>\n",
              "      <td>0</td>\n",
              "      <td>0</td>\n",
              "      <td>0</td>\n",
              "      <td>0</td>\n",
              "      <td>0</td>\n",
              "      <td>1</td>\n",
              "    </tr>\n",
              "    <tr>\n",
              "      <th>...</th>\n",
              "      <td>...</td>\n",
              "      <td>...</td>\n",
              "      <td>...</td>\n",
              "      <td>...</td>\n",
              "      <td>...</td>\n",
              "      <td>...</td>\n",
              "      <td>...</td>\n",
              "      <td>...</td>\n",
              "      <td>...</td>\n",
              "      <td>...</td>\n",
              "      <td>...</td>\n",
              "      <td>...</td>\n",
              "      <td>...</td>\n",
              "      <td>...</td>\n",
              "      <td>...</td>\n",
              "      <td>...</td>\n",
              "      <td>...</td>\n",
              "      <td>...</td>\n",
              "      <td>...</td>\n",
              "      <td>...</td>\n",
              "    </tr>\n",
              "    <tr>\n",
              "      <th>13773</th>\n",
              "      <td>20</td>\n",
              "      <td>2.0</td>\n",
              "      <td>4.4125</td>\n",
              "      <td>4.0</td>\n",
              "      <td>219</td>\n",
              "      <td>1.0</td>\n",
              "      <td>0.0</td>\n",
              "      <td>0.0</td>\n",
              "      <td>0.0</td>\n",
              "      <td>1</td>\n",
              "      <td>0</td>\n",
              "      <td>1</td>\n",
              "      <td>0</td>\n",
              "      <td>0</td>\n",
              "      <td>1</td>\n",
              "      <td>1</td>\n",
              "      <td>0</td>\n",
              "      <td>0</td>\n",
              "      <td>0</td>\n",
              "      <td>0</td>\n",
              "    </tr>\n",
              "    <tr>\n",
              "      <th>13774</th>\n",
              "      <td>27</td>\n",
              "      <td>1.0</td>\n",
              "      <td>2.9135</td>\n",
              "      <td>4.0</td>\n",
              "      <td>209</td>\n",
              "      <td>1.0</td>\n",
              "      <td>0.0</td>\n",
              "      <td>0.0</td>\n",
              "      <td>0.0</td>\n",
              "      <td>0</td>\n",
              "      <td>0</td>\n",
              "      <td>0</td>\n",
              "      <td>0</td>\n",
              "      <td>1</td>\n",
              "      <td>0</td>\n",
              "      <td>0</td>\n",
              "      <td>1</td>\n",
              "      <td>0</td>\n",
              "      <td>0</td>\n",
              "      <td>1</td>\n",
              "    </tr>\n",
              "    <tr>\n",
              "      <th>13775</th>\n",
              "      <td>31</td>\n",
              "      <td>1.0</td>\n",
              "      <td>3.1977</td>\n",
              "      <td>2.0</td>\n",
              "      <td>393</td>\n",
              "      <td>0.0</td>\n",
              "      <td>0.0</td>\n",
              "      <td>0.0</td>\n",
              "      <td>1.0</td>\n",
              "      <td>0</td>\n",
              "      <td>0</td>\n",
              "      <td>1</td>\n",
              "      <td>0</td>\n",
              "      <td>1</td>\n",
              "      <td>1</td>\n",
              "      <td>0</td>\n",
              "      <td>0</td>\n",
              "      <td>0</td>\n",
              "      <td>1</td>\n",
              "      <td>0</td>\n",
              "    </tr>\n",
              "    <tr>\n",
              "      <th>13776</th>\n",
              "      <td>34</td>\n",
              "      <td>2.0</td>\n",
              "      <td>5.6315</td>\n",
              "      <td>3.0</td>\n",
              "      <td>468</td>\n",
              "      <td>0.0</td>\n",
              "      <td>0.0</td>\n",
              "      <td>0.0</td>\n",
              "      <td>0.0</td>\n",
              "      <td>0</td>\n",
              "      <td>0</td>\n",
              "      <td>0</td>\n",
              "      <td>0</td>\n",
              "      <td>1</td>\n",
              "      <td>0</td>\n",
              "      <td>1</td>\n",
              "      <td>0</td>\n",
              "      <td>1</td>\n",
              "      <td>1</td>\n",
              "      <td>0</td>\n",
              "    </tr>\n",
              "    <tr>\n",
              "      <th>13777</th>\n",
              "      <td>15</td>\n",
              "      <td>2.0</td>\n",
              "      <td>1.3882</td>\n",
              "      <td>4.0</td>\n",
              "      <td>298</td>\n",
              "      <td>1.0</td>\n",
              "      <td>0.0</td>\n",
              "      <td>0.0</td>\n",
              "      <td>0.0</td>\n",
              "      <td>0</td>\n",
              "      <td>1</td>\n",
              "      <td>0</td>\n",
              "      <td>0</td>\n",
              "      <td>0</td>\n",
              "      <td>1</td>\n",
              "      <td>0</td>\n",
              "      <td>1</td>\n",
              "      <td>1</td>\n",
              "      <td>0</td>\n",
              "      <td>0</td>\n",
              "    </tr>\n",
              "  </tbody>\n",
              "</table>\n",
              "<p>13778 rows × 20 columns</p>\n",
              "</div>"
            ],
            "text/plain": [
              "       housing_median_age  bedrooms_per_household  median_income  \\\n",
              "0                      52                     1.0         1.9750   \n",
              "1                      43                     2.0         2.2604   \n",
              "2                      17                     2.0         6.2990   \n",
              "3                      17                     2.0         1.7199   \n",
              "4                      50                     2.0         2.2206   \n",
              "...                   ...                     ...            ...   \n",
              "13773                  20                     2.0         4.4125   \n",
              "13774                  27                     1.0         2.9135   \n",
              "13775                  31                     1.0         3.1977   \n",
              "13776                  34                     2.0         5.6315   \n",
              "13777                  15                     2.0         1.3882   \n",
              "\n",
              "       population_per_household  households  ocean_proximity_INLAND  \\\n",
              "0                           5.0          40                     1.0   \n",
              "1                           4.0         277                     0.0   \n",
              "2                           4.0         364                     0.0   \n",
              "3                           4.0        1000                     0.0   \n",
              "4                           4.0         167                     1.0   \n",
              "...                         ...         ...                     ...   \n",
              "13773                       4.0         219                     1.0   \n",
              "13774                       4.0         209                     1.0   \n",
              "13775                       2.0         393                     0.0   \n",
              "13776                       3.0         468                     0.0   \n",
              "13777                       4.0         298                     1.0   \n",
              "\n",
              "       ocean_proximity_ISLAND  ocean_proximity_NEAR BAY  \\\n",
              "0                         0.0                       0.0   \n",
              "1                         0.0                       1.0   \n",
              "2                         0.0                       0.0   \n",
              "3                         0.0                       0.0   \n",
              "4                         0.0                       0.0   \n",
              "...                       ...                       ...   \n",
              "13773                     0.0                       0.0   \n",
              "13774                     0.0                       0.0   \n",
              "13775                     0.0                       0.0   \n",
              "13776                     0.0                       0.0   \n",
              "13777                     0.0                       0.0   \n",
              "\n",
              "       ocean_proximity_NEAR OCEAN  city_name_0  city_name_1  city_name_2  \\\n",
              "0                             0.0            0            0            0   \n",
              "1                             0.0            0            0            0   \n",
              "2                             0.0            0            0            0   \n",
              "3                             0.0            0            0            0   \n",
              "4                             0.0            0            0            0   \n",
              "...                           ...          ...          ...          ...   \n",
              "13773                         0.0            1            0            1   \n",
              "13774                         0.0            0            0            0   \n",
              "13775                         1.0            0            0            1   \n",
              "13776                         0.0            0            0            0   \n",
              "13777                         0.0            0            1            0   \n",
              "\n",
              "       city_name_3  city_name_4  city_name_5  city_name_6  city_name_7  \\\n",
              "0                0            0            0            0            0   \n",
              "1                0            0            0            0            0   \n",
              "2                0            0            0            0            0   \n",
              "3                0            0            0            0            0   \n",
              "4                0            0            0            0            0   \n",
              "...            ...          ...          ...          ...          ...   \n",
              "13773            0            0            1            1            0   \n",
              "13774            0            1            0            0            1   \n",
              "13775            0            1            1            0            0   \n",
              "13776            0            1            0            1            0   \n",
              "13777            0            0            1            0            1   \n",
              "\n",
              "       city_name_8  city_name_9  city_name_10  \n",
              "0                0            0             1  \n",
              "1                0            1             0  \n",
              "2                0            1             1  \n",
              "3                1            0             0  \n",
              "4                0            0             1  \n",
              "...            ...          ...           ...  \n",
              "13773            0            0             0  \n",
              "13774            0            0             1  \n",
              "13775            0            1             0  \n",
              "13776            1            1             0  \n",
              "13777            1            0             0  \n",
              "\n",
              "[13778 rows x 20 columns]"
            ]
          },
          "execution_count": 279,
          "metadata": {},
          "output_type": "execute_result"
        }
      ],
      "source": [
        "X_bwd_reg"
      ]
    },
    {
      "cell_type": "code",
      "execution_count": 280,
      "metadata": {
        "colab": {
          "base_uri": "https://localhost:8080/"
        },
        "id": "k3Xd4HKSYPPR",
        "outputId": "ff13af30-34a4-4b98-fa2f-4c09c1fb60b7"
      },
      "outputs": [
        {
          "data": {
            "text/plain": [
              "0         47500\n",
              "1        100000\n",
              "2        285800\n",
              "3        175000\n",
              "4         59200\n",
              "          ...  \n",
              "13773    144600\n",
              "13774    159400\n",
              "13775    289300\n",
              "13776    484600\n",
              "13777     69400\n",
              "Name: median_house_value, Length: 13778, dtype: int64"
            ]
          },
          "execution_count": 280,
          "metadata": {},
          "output_type": "execute_result"
        }
      ],
      "source": [
        "y_bwd_reg"
      ]
    },
    {
      "cell_type": "markdown",
      "metadata": {},
      "source": [
        "## 6.1 Data Splitting\n",
        "\n",
        "Pisahkan data hasil feature selection menjadi train dan test set."
      ]
    },
    {
      "cell_type": "code",
      "execution_count": 335,
      "metadata": {
        "id": "j3ZbBg0IRU1p"
      },
      "outputs": [
        {
          "name": "stdout",
          "output_type": "stream",
          "text": [
            "(11022, 20) (2756, 20)\n"
          ]
        }
      ],
      "source": [
        "from sklearn.model_selection import train_test_split\n",
        "\n",
        "X_train, X_test, y_train, y_test = train_test_split(\n",
        "    X_bwd_reg, y_bwd_reg, test_size=0.2, random_state=42\n",
        ")\n",
        "\n",
        "print(X_train.shape, X_test.shape)\n"
      ]
    },
    {
      "cell_type": "markdown",
      "metadata": {},
      "source": [
        "## 6.2 Feature Scaling\n",
        "\n",
        "Menggunakan StandardScaler untuk menormalkan skala fitur agar performa model berbasis jarak (seperti KNN dan SVR) optimal."
      ]
    },
    {
      "cell_type": "code",
      "execution_count": null,
      "metadata": {},
      "outputs": [],
      "source": [
        "from sklearn.preprocessing import StandardScaler\n",
        "\n",
        "scaler = StandardScaler()\n",
        "X_train_scaled = scaler.fit_transform(X_train)\n",
        "X_test_scaled = scaler.transform(X_test)\n"
      ]
    },
    {
      "cell_type": "markdown",
      "metadata": {},
      "source": [
        "## 6.3 Model Definition\n",
        "\n",
        "Menentukan model yang akan diuji — dari model linear, tree-based, hingga ensemble modern."
      ]
    },
    {
      "cell_type": "code",
      "execution_count": 336,
      "metadata": {},
      "outputs": [],
      "source": [
        "from sklearn.linear_model import LinearRegression\n",
        "from sklearn.tree import DecisionTreeRegressor\n",
        "from sklearn.ensemble import RandomForestRegressor\n",
        "from sklearn.neighbors import KNeighborsRegressor\n",
        "from xgboost import XGBRegressor\n",
        "\n",
        "models = {\n",
        "    \"Linear Regression\": LinearRegression(),\n",
        "    \"Decision Tree\": DecisionTreeRegressor(random_state=42),\n",
        "    \"Random Forest\": RandomForestRegressor(random_state=42),\n",
        "    \"KNN\": KNeighborsRegressor(),\n",
        "    \"XGBoost\": XGBRegressor(random_state=42, objective='reg:squarederror')\n",
        "}\n"
      ]
    },
    {
      "cell_type": "markdown",
      "metadata": {},
      "source": [
        "## 6.4 Cross-Validation Evaluation (Training Set)\n",
        "\n",
        "Gunakan 5-Fold Cross Validation untuk mengukur kestabilan model pada data training."
      ]
    },
    {
      "cell_type": "code",
      "execution_count": 337,
      "metadata": {},
      "outputs": [
        {
          "data": {
            "text/html": [
              "<div>\n",
              "<style scoped>\n",
              "    .dataframe tbody tr th:only-of-type {\n",
              "        vertical-align: middle;\n",
              "    }\n",
              "\n",
              "    .dataframe tbody tr th {\n",
              "        vertical-align: top;\n",
              "    }\n",
              "\n",
              "    .dataframe thead th {\n",
              "        text-align: right;\n",
              "    }\n",
              "</style>\n",
              "<table border=\"1\" class=\"dataframe\">\n",
              "  <thead>\n",
              "    <tr style=\"text-align: right;\">\n",
              "      <th></th>\n",
              "      <th>Model</th>\n",
              "      <th>Mean RMSE</th>\n",
              "    </tr>\n",
              "  </thead>\n",
              "  <tbody>\n",
              "    <tr>\n",
              "      <th>4</th>\n",
              "      <td>XGBoost</td>\n",
              "      <td>59968.560156</td>\n",
              "    </tr>\n",
              "    <tr>\n",
              "      <th>2</th>\n",
              "      <td>Random Forest</td>\n",
              "      <td>60739.650023</td>\n",
              "    </tr>\n",
              "    <tr>\n",
              "      <th>3</th>\n",
              "      <td>KNN</td>\n",
              "      <td>61045.309360</td>\n",
              "    </tr>\n",
              "    <tr>\n",
              "      <th>1</th>\n",
              "      <td>Decision Tree</td>\n",
              "      <td>84838.075722</td>\n",
              "    </tr>\n",
              "    <tr>\n",
              "      <th>0</th>\n",
              "      <td>Linear Regression</td>\n",
              "      <td>103664.094118</td>\n",
              "    </tr>\n",
              "  </tbody>\n",
              "</table>\n",
              "</div>"
            ],
            "text/plain": [
              "               Model      Mean RMSE\n",
              "4            XGBoost   59968.560156\n",
              "2      Random Forest   60739.650023\n",
              "3                KNN   61045.309360\n",
              "1      Decision Tree   84838.075722\n",
              "0  Linear Regression  103664.094118"
            ]
          },
          "execution_count": 337,
          "metadata": {},
          "output_type": "execute_result"
        }
      ],
      "source": [
        "from sklearn.model_selection import cross_val_score\n",
        "import numpy as np\n",
        "import pandas as pd\n",
        "\n",
        "results = {}\n",
        "\n",
        "for name, model in models.items():\n",
        "    scores = cross_val_score(model, X_train_scaled, y_train,\n",
        "                             scoring='neg_root_mean_squared_error', cv=5)\n",
        "    results[name] = abs(scores.mean())\n",
        "\n",
        "results_df = pd.DataFrame(results.items(), columns=['Model', 'Mean RMSE'])\n",
        "results_df.sort_values(by='Mean RMSE')"
      ]
    },
    {
      "cell_type": "markdown",
      "metadata": {},
      "source": [
        "## 6.5 Test Evaluation\n",
        "\n",
        "Dua model dengan hasil cross-validation terbaik (Random Forest dan XGBoost) diuji pada data test set untuk melihat performa aktual."
      ]
    },
    {
      "cell_type": "code",
      "execution_count": 338,
      "metadata": {},
      "outputs": [
        {
          "name": "stdout",
          "output_type": "stream",
          "text": [
            "=== Random Forest ===\n",
            "RMSE : 60762.62\n",
            "MAPE : 0.236\n",
            "R²   : 0.711\n",
            "\n",
            "=== XGBoost ===\n",
            "RMSE : 60136.67\n",
            "MAPE : 0.237\n",
            "R²   : 0.717\n",
            "\n"
          ]
        }
      ],
      "source": [
        "from sklearn.metrics import mean_squared_error, mean_absolute_percentage_error, r2_score\n",
        "\n",
        "best_models = ['Random Forest', 'XGBoost']\n",
        "\n",
        "for name in best_models:\n",
        "    model = models[name]\n",
        "    model.fit(X_train_scaled, y_train)\n",
        "    y_pred = model.predict(X_test_scaled)\n",
        "\n",
        "    mse = mean_squared_error(y_test, y_pred)\n",
        "    rmse = np.sqrt(mse)\n",
        "    mape = mean_absolute_percentage_error(y_test, y_pred)\n",
        "    r2 = r2_score(y_test, y_pred)\n",
        "\n",
        "    print(f\"=== {name} ===\")\n",
        "    print(f\"RMSE : {rmse:.2f}\")\n",
        "    print(f\"MAPE : {mape:.3f}\")\n",
        "    print(f\"R²   : {r2:.3f}\\n\")\n"
      ]
    },
    {
      "cell_type": "markdown",
      "metadata": {},
      "source": [
        "## 6.6 Model Comparison\n",
        "\n",
        "Gabungkan hasil cross-validation dan test set evaluation agar mudah dibandingkan:"
      ]
    },
    {
      "cell_type": "code",
      "execution_count": 339,
      "metadata": {},
      "outputs": [
        {
          "data": {
            "text/html": [
              "<div>\n",
              "<style scoped>\n",
              "    .dataframe tbody tr th:only-of-type {\n",
              "        vertical-align: middle;\n",
              "    }\n",
              "\n",
              "    .dataframe tbody tr th {\n",
              "        vertical-align: top;\n",
              "    }\n",
              "\n",
              "    .dataframe thead th {\n",
              "        text-align: right;\n",
              "    }\n",
              "</style>\n",
              "<table border=\"1\" class=\"dataframe\">\n",
              "  <thead>\n",
              "    <tr style=\"text-align: right;\">\n",
              "      <th></th>\n",
              "      <th>Model</th>\n",
              "      <th>Mean RMSE (CV)</th>\n",
              "      <th>Test RMSE</th>\n",
              "      <th>Test MAPE</th>\n",
              "      <th>Test R²</th>\n",
              "    </tr>\n",
              "  </thead>\n",
              "  <tbody>\n",
              "    <tr>\n",
              "      <th>0</th>\n",
              "      <td>Random Forest</td>\n",
              "      <td>60739.65</td>\n",
              "      <td>60762.62</td>\n",
              "      <td>0.236</td>\n",
              "      <td>0.711</td>\n",
              "    </tr>\n",
              "    <tr>\n",
              "      <th>1</th>\n",
              "      <td>XGBoost</td>\n",
              "      <td>59968.65</td>\n",
              "      <td>60136.67</td>\n",
              "      <td>0.237</td>\n",
              "      <td>0.717</td>\n",
              "    </tr>\n",
              "  </tbody>\n",
              "</table>\n",
              "</div>"
            ],
            "text/plain": [
              "           Model  Mean RMSE (CV)  Test RMSE  Test MAPE  Test R²\n",
              "0  Random Forest        60739.65   60762.62      0.236    0.711\n",
              "1        XGBoost        59968.65   60136.67      0.237    0.717"
            ]
          },
          "execution_count": 339,
          "metadata": {},
          "output_type": "execute_result"
        }
      ],
      "source": [
        "final_summary = pd.DataFrame({\n",
        "    'Model': ['Random Forest', 'XGBoost'],\n",
        "    'Mean RMSE (CV)': [60739.65, 59968.65],\n",
        "    'Test RMSE': [60762.62, 60136.67],\n",
        "    'Test MAPE': [0.236, 0.237],\n",
        "    'Test R²': [0.711, 0.717]\n",
        "})\n",
        "final_summary"
      ]
    },
    {
      "cell_type": "markdown",
      "metadata": {},
      "source": [
        "Berdasarkan hasil evaluasi, model **XGBoost Regressor** dipilih sebagai final model karena memiliki keseimbangan terbaik antara:\n",
        "- Akurasi (RMSE terendah)\n",
        "- Stabilitas (performa CV dan test set konsisten)\n",
        "- Kompleksitas yang masih manageable untuk deployment\n",
        "\n",
        "Model ini akan digunakan untuk tahap interpretasi feature importance dan rekomendasi bisnis pada tahap berikutnya."
      ]
    },
    {
      "cell_type": "markdown",
      "metadata": {
        "id": "SXnrpVmXpMt2"
      },
      "source": [
        "# 7. Hyper Parameter Tuning"
      ]
    },
    {
      "cell_type": "markdown",
      "metadata": {},
      "source": [
        "## 7.1 Tujuan\n",
        "\n",
        "Tujuan dari tahap ini adalah untuk meningkatkan performa model terbaik sebelumnya dengan melakukan hyperparameter tuning menggunakan GridSearchCV.\n",
        "Model yang dioptimalkan adalah:\n",
        "\n",
        "KNN Regressor\n",
        "\n",
        "Stacking KNN Regressor"
      ]
    },
    {
      "cell_type": "markdown",
      "metadata": {},
      "source": [
        "## 7.2 Model dan parameter grid"
      ]
    },
    {
      "cell_type": "code",
      "execution_count": 359,
      "metadata": {
        "id": "JLd6VuNTftU1"
      },
      "outputs": [],
      "source": [
        "from sklearn.model_selection import GridSearchCV\n",
        "from sklearn.ensemble import StackingRegressor\n",
        "from sklearn.neighbors import KNeighborsRegressor\n",
        "from sklearn.tree import DecisionTreeRegressor\n",
        "from sklearn.linear_model import LinearRegression\n",
        "\n",
        "# Base estimators for stacking\n",
        "estimators = [\n",
        "    ('knn', KNeighborsRegressor()),\n",
        "    ('dt', DecisionTreeRegressor(random_state=42)),\n",
        "    ('linreg', LinearRegression())\n",
        "]\n",
        "\n",
        "# Stacking model\n",
        "stacking_model = StackingRegressor(\n",
        "    estimators=estimators,\n",
        "    final_estimator=KNeighborsRegressor()\n",
        ")\n",
        "\n",
        "# Parameter grid for KNN\n",
        "param_grid_knn = {\n",
        "    'n_neighbors': [3, 5, 7, 9],\n",
        "    'weights': ['uniform', 'distance'],\n",
        "    'algorithm': ['auto', 'ball_tree', 'kd_tree', 'brute']\n",
        "}\n",
        "\n",
        "# Parameter grid for Stacking KNN\n",
        "param_grid_stacking = {\n",
        "    'final_estimator__n_neighbors': [3, 5, 7, 9],\n",
        "    'final_estimator__weights': ['uniform', 'distance'],\n",
        "    'final_estimator__algorithm': ['auto', 'ball_tree', 'kd_tree', 'brute']\n",
        "}"
      ]
    },
    {
      "cell_type": "markdown",
      "metadata": {},
      "source": [
        "## 7.3 Proses Grid Search"
      ]
    },
    {
      "cell_type": "code",
      "execution_count": 360,
      "metadata": {
        "id": "BbfBTw3FqncQ"
      },
      "outputs": [
        {
          "data": {
            "text/html": [
              "<style>#sk-container-id-7 {\n",
              "  /* Definition of color scheme common for light and dark mode */\n",
              "  --sklearn-color-text: #000;\n",
              "  --sklearn-color-text-muted: #666;\n",
              "  --sklearn-color-line: gray;\n",
              "  /* Definition of color scheme for unfitted estimators */\n",
              "  --sklearn-color-unfitted-level-0: #fff5e6;\n",
              "  --sklearn-color-unfitted-level-1: #f6e4d2;\n",
              "  --sklearn-color-unfitted-level-2: #ffe0b3;\n",
              "  --sklearn-color-unfitted-level-3: chocolate;\n",
              "  /* Definition of color scheme for fitted estimators */\n",
              "  --sklearn-color-fitted-level-0: #f0f8ff;\n",
              "  --sklearn-color-fitted-level-1: #d4ebff;\n",
              "  --sklearn-color-fitted-level-2: #b3dbfd;\n",
              "  --sklearn-color-fitted-level-3: cornflowerblue;\n",
              "\n",
              "  /* Specific color for light theme */\n",
              "  --sklearn-color-text-on-default-background: var(--sg-text-color, var(--theme-code-foreground, var(--jp-content-font-color1, black)));\n",
              "  --sklearn-color-background: var(--sg-background-color, var(--theme-background, var(--jp-layout-color0, white)));\n",
              "  --sklearn-color-border-box: var(--sg-text-color, var(--theme-code-foreground, var(--jp-content-font-color1, black)));\n",
              "  --sklearn-color-icon: #696969;\n",
              "\n",
              "  @media (prefers-color-scheme: dark) {\n",
              "    /* Redefinition of color scheme for dark theme */\n",
              "    --sklearn-color-text-on-default-background: var(--sg-text-color, var(--theme-code-foreground, var(--jp-content-font-color1, white)));\n",
              "    --sklearn-color-background: var(--sg-background-color, var(--theme-background, var(--jp-layout-color0, #111)));\n",
              "    --sklearn-color-border-box: var(--sg-text-color, var(--theme-code-foreground, var(--jp-content-font-color1, white)));\n",
              "    --sklearn-color-icon: #878787;\n",
              "  }\n",
              "}\n",
              "\n",
              "#sk-container-id-7 {\n",
              "  color: var(--sklearn-color-text);\n",
              "}\n",
              "\n",
              "#sk-container-id-7 pre {\n",
              "  padding: 0;\n",
              "}\n",
              "\n",
              "#sk-container-id-7 input.sk-hidden--visually {\n",
              "  border: 0;\n",
              "  clip: rect(1px 1px 1px 1px);\n",
              "  clip: rect(1px, 1px, 1px, 1px);\n",
              "  height: 1px;\n",
              "  margin: -1px;\n",
              "  overflow: hidden;\n",
              "  padding: 0;\n",
              "  position: absolute;\n",
              "  width: 1px;\n",
              "}\n",
              "\n",
              "#sk-container-id-7 div.sk-dashed-wrapped {\n",
              "  border: 1px dashed var(--sklearn-color-line);\n",
              "  margin: 0 0.4em 0.5em 0.4em;\n",
              "  box-sizing: border-box;\n",
              "  padding-bottom: 0.4em;\n",
              "  background-color: var(--sklearn-color-background);\n",
              "}\n",
              "\n",
              "#sk-container-id-7 div.sk-container {\n",
              "  /* jupyter's `normalize.less` sets `[hidden] { display: none; }`\n",
              "     but bootstrap.min.css set `[hidden] { display: none !important; }`\n",
              "     so we also need the `!important` here to be able to override the\n",
              "     default hidden behavior on the sphinx rendered scikit-learn.org.\n",
              "     See: https://github.com/scikit-learn/scikit-learn/issues/21755 */\n",
              "  display: inline-block !important;\n",
              "  position: relative;\n",
              "}\n",
              "\n",
              "#sk-container-id-7 div.sk-text-repr-fallback {\n",
              "  display: none;\n",
              "}\n",
              "\n",
              "div.sk-parallel-item,\n",
              "div.sk-serial,\n",
              "div.sk-item {\n",
              "  /* draw centered vertical line to link estimators */\n",
              "  background-image: linear-gradient(var(--sklearn-color-text-on-default-background), var(--sklearn-color-text-on-default-background));\n",
              "  background-size: 2px 100%;\n",
              "  background-repeat: no-repeat;\n",
              "  background-position: center center;\n",
              "}\n",
              "\n",
              "/* Parallel-specific style estimator block */\n",
              "\n",
              "#sk-container-id-7 div.sk-parallel-item::after {\n",
              "  content: \"\";\n",
              "  width: 100%;\n",
              "  border-bottom: 2px solid var(--sklearn-color-text-on-default-background);\n",
              "  flex-grow: 1;\n",
              "}\n",
              "\n",
              "#sk-container-id-7 div.sk-parallel {\n",
              "  display: flex;\n",
              "  align-items: stretch;\n",
              "  justify-content: center;\n",
              "  background-color: var(--sklearn-color-background);\n",
              "  position: relative;\n",
              "}\n",
              "\n",
              "#sk-container-id-7 div.sk-parallel-item {\n",
              "  display: flex;\n",
              "  flex-direction: column;\n",
              "}\n",
              "\n",
              "#sk-container-id-7 div.sk-parallel-item:first-child::after {\n",
              "  align-self: flex-end;\n",
              "  width: 50%;\n",
              "}\n",
              "\n",
              "#sk-container-id-7 div.sk-parallel-item:last-child::after {\n",
              "  align-self: flex-start;\n",
              "  width: 50%;\n",
              "}\n",
              "\n",
              "#sk-container-id-7 div.sk-parallel-item:only-child::after {\n",
              "  width: 0;\n",
              "}\n",
              "\n",
              "/* Serial-specific style estimator block */\n",
              "\n",
              "#sk-container-id-7 div.sk-serial {\n",
              "  display: flex;\n",
              "  flex-direction: column;\n",
              "  align-items: center;\n",
              "  background-color: var(--sklearn-color-background);\n",
              "  padding-right: 1em;\n",
              "  padding-left: 1em;\n",
              "}\n",
              "\n",
              "\n",
              "/* Toggleable style: style used for estimator/Pipeline/ColumnTransformer box that is\n",
              "clickable and can be expanded/collapsed.\n",
              "- Pipeline and ColumnTransformer use this feature and define the default style\n",
              "- Estimators will overwrite some part of the style using the `sk-estimator` class\n",
              "*/\n",
              "\n",
              "/* Pipeline and ColumnTransformer style (default) */\n",
              "\n",
              "#sk-container-id-7 div.sk-toggleable {\n",
              "  /* Default theme specific background. It is overwritten whether we have a\n",
              "  specific estimator or a Pipeline/ColumnTransformer */\n",
              "  background-color: var(--sklearn-color-background);\n",
              "}\n",
              "\n",
              "/* Toggleable label */\n",
              "#sk-container-id-7 label.sk-toggleable__label {\n",
              "  cursor: pointer;\n",
              "  display: flex;\n",
              "  width: 100%;\n",
              "  margin-bottom: 0;\n",
              "  padding: 0.5em;\n",
              "  box-sizing: border-box;\n",
              "  text-align: center;\n",
              "  align-items: start;\n",
              "  justify-content: space-between;\n",
              "  gap: 0.5em;\n",
              "}\n",
              "\n",
              "#sk-container-id-7 label.sk-toggleable__label .caption {\n",
              "  font-size: 0.6rem;\n",
              "  font-weight: lighter;\n",
              "  color: var(--sklearn-color-text-muted);\n",
              "}\n",
              "\n",
              "#sk-container-id-7 label.sk-toggleable__label-arrow:before {\n",
              "  /* Arrow on the left of the label */\n",
              "  content: \"▸\";\n",
              "  float: left;\n",
              "  margin-right: 0.25em;\n",
              "  color: var(--sklearn-color-icon);\n",
              "}\n",
              "\n",
              "#sk-container-id-7 label.sk-toggleable__label-arrow:hover:before {\n",
              "  color: var(--sklearn-color-text);\n",
              "}\n",
              "\n",
              "/* Toggleable content - dropdown */\n",
              "\n",
              "#sk-container-id-7 div.sk-toggleable__content {\n",
              "  max-height: 0;\n",
              "  max-width: 0;\n",
              "  overflow: hidden;\n",
              "  text-align: left;\n",
              "  /* unfitted */\n",
              "  background-color: var(--sklearn-color-unfitted-level-0);\n",
              "}\n",
              "\n",
              "#sk-container-id-7 div.sk-toggleable__content.fitted {\n",
              "  /* fitted */\n",
              "  background-color: var(--sklearn-color-fitted-level-0);\n",
              "}\n",
              "\n",
              "#sk-container-id-7 div.sk-toggleable__content pre {\n",
              "  margin: 0.2em;\n",
              "  border-radius: 0.25em;\n",
              "  color: var(--sklearn-color-text);\n",
              "  /* unfitted */\n",
              "  background-color: var(--sklearn-color-unfitted-level-0);\n",
              "}\n",
              "\n",
              "#sk-container-id-7 div.sk-toggleable__content.fitted pre {\n",
              "  /* unfitted */\n",
              "  background-color: var(--sklearn-color-fitted-level-0);\n",
              "}\n",
              "\n",
              "#sk-container-id-7 input.sk-toggleable__control:checked~div.sk-toggleable__content {\n",
              "  /* Expand drop-down */\n",
              "  max-height: 200px;\n",
              "  max-width: 100%;\n",
              "  overflow: auto;\n",
              "}\n",
              "\n",
              "#sk-container-id-7 input.sk-toggleable__control:checked~label.sk-toggleable__label-arrow:before {\n",
              "  content: \"▾\";\n",
              "}\n",
              "\n",
              "/* Pipeline/ColumnTransformer-specific style */\n",
              "\n",
              "#sk-container-id-7 div.sk-label input.sk-toggleable__control:checked~label.sk-toggleable__label {\n",
              "  color: var(--sklearn-color-text);\n",
              "  background-color: var(--sklearn-color-unfitted-level-2);\n",
              "}\n",
              "\n",
              "#sk-container-id-7 div.sk-label.fitted input.sk-toggleable__control:checked~label.sk-toggleable__label {\n",
              "  background-color: var(--sklearn-color-fitted-level-2);\n",
              "}\n",
              "\n",
              "/* Estimator-specific style */\n",
              "\n",
              "/* Colorize estimator box */\n",
              "#sk-container-id-7 div.sk-estimator input.sk-toggleable__control:checked~label.sk-toggleable__label {\n",
              "  /* unfitted */\n",
              "  background-color: var(--sklearn-color-unfitted-level-2);\n",
              "}\n",
              "\n",
              "#sk-container-id-7 div.sk-estimator.fitted input.sk-toggleable__control:checked~label.sk-toggleable__label {\n",
              "  /* fitted */\n",
              "  background-color: var(--sklearn-color-fitted-level-2);\n",
              "}\n",
              "\n",
              "#sk-container-id-7 div.sk-label label.sk-toggleable__label,\n",
              "#sk-container-id-7 div.sk-label label {\n",
              "  /* The background is the default theme color */\n",
              "  color: var(--sklearn-color-text-on-default-background);\n",
              "}\n",
              "\n",
              "/* On hover, darken the color of the background */\n",
              "#sk-container-id-7 div.sk-label:hover label.sk-toggleable__label {\n",
              "  color: var(--sklearn-color-text);\n",
              "  background-color: var(--sklearn-color-unfitted-level-2);\n",
              "}\n",
              "\n",
              "/* Label box, darken color on hover, fitted */\n",
              "#sk-container-id-7 div.sk-label.fitted:hover label.sk-toggleable__label.fitted {\n",
              "  color: var(--sklearn-color-text);\n",
              "  background-color: var(--sklearn-color-fitted-level-2);\n",
              "}\n",
              "\n",
              "/* Estimator label */\n",
              "\n",
              "#sk-container-id-7 div.sk-label label {\n",
              "  font-family: monospace;\n",
              "  font-weight: bold;\n",
              "  display: inline-block;\n",
              "  line-height: 1.2em;\n",
              "}\n",
              "\n",
              "#sk-container-id-7 div.sk-label-container {\n",
              "  text-align: center;\n",
              "}\n",
              "\n",
              "/* Estimator-specific */\n",
              "#sk-container-id-7 div.sk-estimator {\n",
              "  font-family: monospace;\n",
              "  border: 1px dotted var(--sklearn-color-border-box);\n",
              "  border-radius: 0.25em;\n",
              "  box-sizing: border-box;\n",
              "  margin-bottom: 0.5em;\n",
              "  /* unfitted */\n",
              "  background-color: var(--sklearn-color-unfitted-level-0);\n",
              "}\n",
              "\n",
              "#sk-container-id-7 div.sk-estimator.fitted {\n",
              "  /* fitted */\n",
              "  background-color: var(--sklearn-color-fitted-level-0);\n",
              "}\n",
              "\n",
              "/* on hover */\n",
              "#sk-container-id-7 div.sk-estimator:hover {\n",
              "  /* unfitted */\n",
              "  background-color: var(--sklearn-color-unfitted-level-2);\n",
              "}\n",
              "\n",
              "#sk-container-id-7 div.sk-estimator.fitted:hover {\n",
              "  /* fitted */\n",
              "  background-color: var(--sklearn-color-fitted-level-2);\n",
              "}\n",
              "\n",
              "/* Specification for estimator info (e.g. \"i\" and \"?\") */\n",
              "\n",
              "/* Common style for \"i\" and \"?\" */\n",
              "\n",
              ".sk-estimator-doc-link,\n",
              "a:link.sk-estimator-doc-link,\n",
              "a:visited.sk-estimator-doc-link {\n",
              "  float: right;\n",
              "  font-size: smaller;\n",
              "  line-height: 1em;\n",
              "  font-family: monospace;\n",
              "  background-color: var(--sklearn-color-background);\n",
              "  border-radius: 1em;\n",
              "  height: 1em;\n",
              "  width: 1em;\n",
              "  text-decoration: none !important;\n",
              "  margin-left: 0.5em;\n",
              "  text-align: center;\n",
              "  /* unfitted */\n",
              "  border: var(--sklearn-color-unfitted-level-1) 1pt solid;\n",
              "  color: var(--sklearn-color-unfitted-level-1);\n",
              "}\n",
              "\n",
              ".sk-estimator-doc-link.fitted,\n",
              "a:link.sk-estimator-doc-link.fitted,\n",
              "a:visited.sk-estimator-doc-link.fitted {\n",
              "  /* fitted */\n",
              "  border: var(--sklearn-color-fitted-level-1) 1pt solid;\n",
              "  color: var(--sklearn-color-fitted-level-1);\n",
              "}\n",
              "\n",
              "/* On hover */\n",
              "div.sk-estimator:hover .sk-estimator-doc-link:hover,\n",
              ".sk-estimator-doc-link:hover,\n",
              "div.sk-label-container:hover .sk-estimator-doc-link:hover,\n",
              ".sk-estimator-doc-link:hover {\n",
              "  /* unfitted */\n",
              "  background-color: var(--sklearn-color-unfitted-level-3);\n",
              "  color: var(--sklearn-color-background);\n",
              "  text-decoration: none;\n",
              "}\n",
              "\n",
              "div.sk-estimator.fitted:hover .sk-estimator-doc-link.fitted:hover,\n",
              ".sk-estimator-doc-link.fitted:hover,\n",
              "div.sk-label-container:hover .sk-estimator-doc-link.fitted:hover,\n",
              ".sk-estimator-doc-link.fitted:hover {\n",
              "  /* fitted */\n",
              "  background-color: var(--sklearn-color-fitted-level-3);\n",
              "  color: var(--sklearn-color-background);\n",
              "  text-decoration: none;\n",
              "}\n",
              "\n",
              "/* Span, style for the box shown on hovering the info icon */\n",
              ".sk-estimator-doc-link span {\n",
              "  display: none;\n",
              "  z-index: 9999;\n",
              "  position: relative;\n",
              "  font-weight: normal;\n",
              "  right: .2ex;\n",
              "  padding: .5ex;\n",
              "  margin: .5ex;\n",
              "  width: min-content;\n",
              "  min-width: 20ex;\n",
              "  max-width: 50ex;\n",
              "  color: var(--sklearn-color-text);\n",
              "  box-shadow: 2pt 2pt 4pt #999;\n",
              "  /* unfitted */\n",
              "  background: var(--sklearn-color-unfitted-level-0);\n",
              "  border: .5pt solid var(--sklearn-color-unfitted-level-3);\n",
              "}\n",
              "\n",
              ".sk-estimator-doc-link.fitted span {\n",
              "  /* fitted */\n",
              "  background: var(--sklearn-color-fitted-level-0);\n",
              "  border: var(--sklearn-color-fitted-level-3);\n",
              "}\n",
              "\n",
              ".sk-estimator-doc-link:hover span {\n",
              "  display: block;\n",
              "}\n",
              "\n",
              "/* \"?\"-specific style due to the `<a>` HTML tag */\n",
              "\n",
              "#sk-container-id-7 a.estimator_doc_link {\n",
              "  float: right;\n",
              "  font-size: 1rem;\n",
              "  line-height: 1em;\n",
              "  font-family: monospace;\n",
              "  background-color: var(--sklearn-color-background);\n",
              "  border-radius: 1rem;\n",
              "  height: 1rem;\n",
              "  width: 1rem;\n",
              "  text-decoration: none;\n",
              "  /* unfitted */\n",
              "  color: var(--sklearn-color-unfitted-level-1);\n",
              "  border: var(--sklearn-color-unfitted-level-1) 1pt solid;\n",
              "}\n",
              "\n",
              "#sk-container-id-7 a.estimator_doc_link.fitted {\n",
              "  /* fitted */\n",
              "  border: var(--sklearn-color-fitted-level-1) 1pt solid;\n",
              "  color: var(--sklearn-color-fitted-level-1);\n",
              "}\n",
              "\n",
              "/* On hover */\n",
              "#sk-container-id-7 a.estimator_doc_link:hover {\n",
              "  /* unfitted */\n",
              "  background-color: var(--sklearn-color-unfitted-level-3);\n",
              "  color: var(--sklearn-color-background);\n",
              "  text-decoration: none;\n",
              "}\n",
              "\n",
              "#sk-container-id-7 a.estimator_doc_link.fitted:hover {\n",
              "  /* fitted */\n",
              "  background-color: var(--sklearn-color-fitted-level-3);\n",
              "}\n",
              "</style><div id=\"sk-container-id-7\" class=\"sk-top-container\"><div class=\"sk-text-repr-fallback\"><pre>GridSearchCV(cv=5,\n",
              "             estimator=StackingRegressor(estimators=[(&#x27;knn&#x27;,\n",
              "                                                      KNeighborsRegressor()),\n",
              "                                                     (&#x27;dt&#x27;,\n",
              "                                                      DecisionTreeRegressor(random_state=42)),\n",
              "                                                     (&#x27;linreg&#x27;,\n",
              "                                                      LinearRegression())],\n",
              "                                         final_estimator=KNeighborsRegressor()),\n",
              "             n_jobs=-1,\n",
              "             param_grid={&#x27;final_estimator__algorithm&#x27;: [&#x27;auto&#x27;, &#x27;ball_tree&#x27;,\n",
              "                                                        &#x27;kd_tree&#x27;, &#x27;brute&#x27;],\n",
              "                         &#x27;final_estimator__n_neighbors&#x27;: [3, 5, 7, 9],\n",
              "                         &#x27;final_estimator__weights&#x27;: [&#x27;uniform&#x27;, &#x27;distance&#x27;]},\n",
              "             scoring=&#x27;neg_mean_squared_error&#x27;)</pre><b>In a Jupyter environment, please rerun this cell to show the HTML representation or trust the notebook. <br />On GitHub, the HTML representation is unable to render, please try loading this page with nbviewer.org.</b></div><div class=\"sk-container\" hidden><div class=\"sk-item sk-dashed-wrapped\"><div class=\"sk-label-container\"><div class=\"sk-label fitted sk-toggleable\"><input class=\"sk-toggleable__control sk-hidden--visually\" id=\"sk-estimator-id-21\" type=\"checkbox\" ><label for=\"sk-estimator-id-21\" class=\"sk-toggleable__label fitted sk-toggleable__label-arrow\"><div><div>GridSearchCV</div></div><div><a class=\"sk-estimator-doc-link fitted\" rel=\"noreferrer\" target=\"_blank\" href=\"https://scikit-learn.org/1.6/modules/generated/sklearn.model_selection.GridSearchCV.html\">?<span>Documentation for GridSearchCV</span></a><span class=\"sk-estimator-doc-link fitted\">i<span>Fitted</span></span></div></label><div class=\"sk-toggleable__content fitted\"><pre>GridSearchCV(cv=5,\n",
              "             estimator=StackingRegressor(estimators=[(&#x27;knn&#x27;,\n",
              "                                                      KNeighborsRegressor()),\n",
              "                                                     (&#x27;dt&#x27;,\n",
              "                                                      DecisionTreeRegressor(random_state=42)),\n",
              "                                                     (&#x27;linreg&#x27;,\n",
              "                                                      LinearRegression())],\n",
              "                                         final_estimator=KNeighborsRegressor()),\n",
              "             n_jobs=-1,\n",
              "             param_grid={&#x27;final_estimator__algorithm&#x27;: [&#x27;auto&#x27;, &#x27;ball_tree&#x27;,\n",
              "                                                        &#x27;kd_tree&#x27;, &#x27;brute&#x27;],\n",
              "                         &#x27;final_estimator__n_neighbors&#x27;: [3, 5, 7, 9],\n",
              "                         &#x27;final_estimator__weights&#x27;: [&#x27;uniform&#x27;, &#x27;distance&#x27;]},\n",
              "             scoring=&#x27;neg_mean_squared_error&#x27;)</pre></div> </div></div><div class=\"sk-parallel\"><div class=\"sk-parallel-item\"><div class=\"sk-item\"><div class=\"sk-label-container\"><div class=\"sk-label fitted sk-toggleable\"><input class=\"sk-toggleable__control sk-hidden--visually\" id=\"sk-estimator-id-22\" type=\"checkbox\" ><label for=\"sk-estimator-id-22\" class=\"sk-toggleable__label fitted sk-toggleable__label-arrow\"><div><div>best_estimator_: StackingRegressor</div></div></label><div class=\"sk-toggleable__content fitted\"><pre>StackingRegressor(estimators=[(&#x27;knn&#x27;, KNeighborsRegressor()),\n",
              "                              (&#x27;dt&#x27;, DecisionTreeRegressor(random_state=42)),\n",
              "                              (&#x27;linreg&#x27;, LinearRegression())],\n",
              "                  final_estimator=KNeighborsRegressor(n_neighbors=9))</pre></div> </div></div><div class=\"sk-serial\"><div class=\"sk-item\"><div class=\"sk-serial\"><div class=\"sk-item\"><div class=\"sk-parallel\"><div class=\"sk-parallel-item\"><div class=\"sk-item\"><div class=\"sk-label-container\"><div class=\"sk-label fitted sk-toggleable\"><label>knn</label></div></div><div class=\"sk-serial\"><div class=\"sk-item\"><div class=\"sk-estimator fitted sk-toggleable\"><input class=\"sk-toggleable__control sk-hidden--visually\" id=\"sk-estimator-id-23\" type=\"checkbox\" ><label for=\"sk-estimator-id-23\" class=\"sk-toggleable__label fitted sk-toggleable__label-arrow\"><div><div>KNeighborsRegressor</div></div><div><a class=\"sk-estimator-doc-link fitted\" rel=\"noreferrer\" target=\"_blank\" href=\"https://scikit-learn.org/1.6/modules/generated/sklearn.neighbors.KNeighborsRegressor.html\">?<span>Documentation for KNeighborsRegressor</span></a></div></label><div class=\"sk-toggleable__content fitted\"><pre>KNeighborsRegressor()</pre></div> </div></div></div></div></div><div class=\"sk-parallel-item\"><div class=\"sk-item\"><div class=\"sk-label-container\"><div class=\"sk-label fitted sk-toggleable\"><label>dt</label></div></div><div class=\"sk-serial\"><div class=\"sk-item\"><div class=\"sk-estimator fitted sk-toggleable\"><input class=\"sk-toggleable__control sk-hidden--visually\" id=\"sk-estimator-id-24\" type=\"checkbox\" ><label for=\"sk-estimator-id-24\" class=\"sk-toggleable__label fitted sk-toggleable__label-arrow\"><div><div>DecisionTreeRegressor</div></div><div><a class=\"sk-estimator-doc-link fitted\" rel=\"noreferrer\" target=\"_blank\" href=\"https://scikit-learn.org/1.6/modules/generated/sklearn.tree.DecisionTreeRegressor.html\">?<span>Documentation for DecisionTreeRegressor</span></a></div></label><div class=\"sk-toggleable__content fitted\"><pre>DecisionTreeRegressor(random_state=42)</pre></div> </div></div></div></div></div><div class=\"sk-parallel-item\"><div class=\"sk-item\"><div class=\"sk-label-container\"><div class=\"sk-label fitted sk-toggleable\"><label>linreg</label></div></div><div class=\"sk-serial\"><div class=\"sk-item\"><div class=\"sk-estimator fitted sk-toggleable\"><input class=\"sk-toggleable__control sk-hidden--visually\" id=\"sk-estimator-id-25\" type=\"checkbox\" ><label for=\"sk-estimator-id-25\" class=\"sk-toggleable__label fitted sk-toggleable__label-arrow\"><div><div>LinearRegression</div></div><div><a class=\"sk-estimator-doc-link fitted\" rel=\"noreferrer\" target=\"_blank\" href=\"https://scikit-learn.org/1.6/modules/generated/sklearn.linear_model.LinearRegression.html\">?<span>Documentation for LinearRegression</span></a></div></label><div class=\"sk-toggleable__content fitted\"><pre>LinearRegression()</pre></div> </div></div></div></div></div></div></div><div class=\"sk-item\"><div class=\"sk-parallel\"><div class=\"sk-parallel-item\"><div class=\"sk-item\"><div class=\"sk-label-container\"><div class=\"sk-label fitted sk-toggleable\"><label>final_estimator</label></div></div><div class=\"sk-serial\"><div class=\"sk-item\"><div class=\"sk-estimator fitted sk-toggleable\"><input class=\"sk-toggleable__control sk-hidden--visually\" id=\"sk-estimator-id-26\" type=\"checkbox\" ><label for=\"sk-estimator-id-26\" class=\"sk-toggleable__label fitted sk-toggleable__label-arrow\"><div><div>KNeighborsRegressor</div></div><div><a class=\"sk-estimator-doc-link fitted\" rel=\"noreferrer\" target=\"_blank\" href=\"https://scikit-learn.org/1.6/modules/generated/sklearn.neighbors.KNeighborsRegressor.html\">?<span>Documentation for KNeighborsRegressor</span></a></div></label><div class=\"sk-toggleable__content fitted\"><pre>KNeighborsRegressor(n_neighbors=9)</pre></div> </div></div></div></div></div></div></div></div></div></div></div></div></div></div></div></div>"
            ],
            "text/plain": [
              "GridSearchCV(cv=5,\n",
              "             estimator=StackingRegressor(estimators=[('knn',\n",
              "                                                      KNeighborsRegressor()),\n",
              "                                                     ('dt',\n",
              "                                                      DecisionTreeRegressor(random_state=42)),\n",
              "                                                     ('linreg',\n",
              "                                                      LinearRegression())],\n",
              "                                         final_estimator=KNeighborsRegressor()),\n",
              "             n_jobs=-1,\n",
              "             param_grid={'final_estimator__algorithm': ['auto', 'ball_tree',\n",
              "                                                        'kd_tree', 'brute'],\n",
              "                         'final_estimator__n_neighbors': [3, 5, 7, 9],\n",
              "                         'final_estimator__weights': ['uniform', 'distance']},\n",
              "             scoring='neg_mean_squared_error')"
            ]
          },
          "execution_count": 360,
          "metadata": {},
          "output_type": "execute_result"
        }
      ],
      "source": [
        "# GridSearchCV for KNN\n",
        "grid_search_knn = GridSearchCV(\n",
        "    KNeighborsRegressor(),\n",
        "    param_grid_knn,\n",
        "    cv=5,\n",
        "    scoring='neg_mean_squared_error',\n",
        "    n_jobs=-1\n",
        ")\n",
        "grid_search_knn.fit(X_train_scaled, y_train)\n",
        "\n",
        "# GridSearchCV for Stacking KNN\n",
        "grid_search_stacking = GridSearchCV(\n",
        "    stacking_model,\n",
        "    param_grid_stacking,\n",
        "    cv=5,\n",
        "    scoring='neg_mean_squared_error',\n",
        "    n_jobs=-1\n",
        ")\n",
        "grid_search_stacking.fit(X_train_scaled, y_train)"
      ]
    },
    {
      "cell_type": "markdown",
      "metadata": {},
      "source": [
        "## 7.4 Hasil Tuning Parameter"
      ]
    },
    {
      "cell_type": "code",
      "execution_count": 361,
      "metadata": {
        "id": "dJxl30WLqpfR"
      },
      "outputs": [
        {
          "name": "stdout",
          "output_type": "stream",
          "text": [
            "Best KNN Params: {'algorithm': 'ball_tree', 'n_neighbors': 5, 'weights': 'distance'}\n",
            "Best KNN RMSE : 59737.75075896928\n",
            "Best Stacking KNN Params: {'final_estimator__algorithm': 'auto', 'final_estimator__n_neighbors': 9, 'final_estimator__weights': 'uniform'}\n",
            "Best Stacking KNN RMSE : 58578.742750005\n"
          ]
        }
      ],
      "source": [
        "best_params_knn = grid_search_knn.best_params_\n",
        "best_score_knn = np.sqrt(-grid_search_knn.best_score_)\n",
        "\n",
        "best_params_stacking = grid_search_stacking.best_params_\n",
        "best_score_stacking = np.sqrt(-grid_search_stacking.best_score_)\n",
        "\n",
        "print(\"Best KNN Params:\", best_params_knn)\n",
        "print(\"Best KNN RMSE :\", best_score_knn)\n",
        "print(\"Best Stacking KNN Params:\", best_params_stacking)\n",
        "print(\"Best Stacking KNN RMSE :\", best_score_stacking)"
      ]
    },
    {
      "cell_type": "markdown",
      "metadata": {},
      "source": [
        "## 7.5 Evaluasi Model Terbaik di Test Set"
      ]
    },
    {
      "cell_type": "code",
      "execution_count": 362,
      "metadata": {},
      "outputs": [
        {
          "data": {
            "text/html": [
              "<div>\n",
              "<style scoped>\n",
              "    .dataframe tbody tr th:only-of-type {\n",
              "        vertical-align: middle;\n",
              "    }\n",
              "\n",
              "    .dataframe tbody tr th {\n",
              "        vertical-align: top;\n",
              "    }\n",
              "\n",
              "    .dataframe thead th {\n",
              "        text-align: right;\n",
              "    }\n",
              "</style>\n",
              "<table border=\"1\" class=\"dataframe\">\n",
              "  <thead>\n",
              "    <tr style=\"text-align: right;\">\n",
              "      <th></th>\n",
              "      <th>Model</th>\n",
              "      <th>Test RMSE</th>\n",
              "      <th>Test MAPE</th>\n",
              "      <th>Test R²</th>\n",
              "    </tr>\n",
              "  </thead>\n",
              "  <tbody>\n",
              "    <tr>\n",
              "      <th>0</th>\n",
              "      <td>KNN</td>\n",
              "      <td>61319.913833</td>\n",
              "      <td>0.217599</td>\n",
              "      <td>0.705281</td>\n",
              "    </tr>\n",
              "    <tr>\n",
              "      <th>1</th>\n",
              "      <td>Stacking KNN</td>\n",
              "      <td>60090.154600</td>\n",
              "      <td>0.224980</td>\n",
              "      <td>0.716984</td>\n",
              "    </tr>\n",
              "  </tbody>\n",
              "</table>\n",
              "</div>"
            ],
            "text/plain": [
              "          Model     Test RMSE  Test MAPE   Test R²\n",
              "0           KNN  61319.913833   0.217599  0.705281\n",
              "1  Stacking KNN  60090.154600   0.224980  0.716984"
            ]
          },
          "execution_count": 362,
          "metadata": {},
          "output_type": "execute_result"
        },
        {
          "name": "stderr",
          "output_type": "stream",
          "text": [
            "Exception ignored in: <function ResourceTracker.__del__ at 0x106a45bc0>\n",
            "Traceback (most recent call last):\n",
            "  File \"/opt/anaconda3/lib/python3.13/multiprocessing/resource_tracker.py\", line 82, in __del__\n",
            "  File \"/opt/anaconda3/lib/python3.13/multiprocessing/resource_tracker.py\", line 91, in _stop\n",
            "  File \"/opt/anaconda3/lib/python3.13/multiprocessing/resource_tracker.py\", line 116, in _stop_locked\n",
            "ChildProcessError: [Errno 10] No child processes\n",
            "Exception ignored in: <function ResourceTracker.__del__ at 0x104a5dbc0>\n",
            "Traceback (most recent call last):\n",
            "  File \"/opt/anaconda3/lib/python3.13/multiprocessing/resource_tracker.py\", line 82, in __del__\n",
            "  File \"/opt/anaconda3/lib/python3.13/multiprocessing/resource_tracker.py\", line 91, in _stop\n",
            "  File \"/opt/anaconda3/lib/python3.13/multiprocessing/resource_tracker.py\", line 116, in _stop_locked\n",
            "ChildProcessError: [Errno 10] No child processes\n",
            "Exception ignored in: <function ResourceTracker.__del__ at 0x107ac9bc0>\n",
            "Traceback (most recent call last):\n",
            "  File \"/opt/anaconda3/lib/python3.13/multiprocessing/resource_tracker.py\", line 82, in __del__\n",
            "  File \"/opt/anaconda3/lib/python3.13/multiprocessing/resource_tracker.py\", line 91, in _stop\n",
            "  File \"/opt/anaconda3/lib/python3.13/multiprocessing/resource_tracker.py\", line 116, in _stop_locked\n",
            "ChildProcessError: [Errno 10] No child processes\n",
            "Exception ignored in: <function ResourceTracker.__del__ at 0x10502dbc0>\n",
            "Traceback (most recent call last):\n",
            "  File \"/opt/anaconda3/lib/python3.13/multiprocessing/resource_tracker.py\", line 82, in __del__\n",
            "  File \"/opt/anaconda3/lib/python3.13/multiprocessing/resource_tracker.py\", line 91, in _stop\n",
            "  File \"/opt/anaconda3/lib/python3.13/multiprocessing/resource_tracker.py\", line 116, in _stop_locked\n",
            "ChildProcessError: [Errno 10] No child processes\n",
            "Exception ignored in: <function ResourceTracker.__del__ at 0x102e25bc0>\n",
            "Traceback (most recent call last):\n",
            "  File \"/opt/anaconda3/lib/python3.13/multiprocessing/resource_tracker.py\", line 82, in __del__\n",
            "  File \"/opt/anaconda3/lib/python3.13/multiprocessing/resource_tracker.py\", line 91, in _stop\n",
            "  File \"/opt/anaconda3/lib/python3.13/multiprocessing/resource_tracker.py\", line 116, in _stop_locked\n",
            "ChildProcessError: [Errno 10] No child processes\n",
            "Exception ignored in: <function ResourceTracker.__del__ at 0x106891bc0>\n",
            "Traceback (most recent call last):\n",
            "  File \"/opt/anaconda3/lib/python3.13/multiprocessing/resource_tracker.py\", line 82, in __del__\n",
            "  File \"/opt/anaconda3/lib/python3.13/multiprocessing/resource_tracker.py\", line 91, in _stop\n",
            "  File \"/opt/anaconda3/lib/python3.13/multiprocessing/resource_tracker.py\", line 116, in _stop_locked\n",
            "ChildProcessError: [Errno 10] No child processes\n",
            "Exception ignored in: <function ResourceTracker.__del__ at 0x107255bc0>\n",
            "Traceback (most recent call last):\n",
            "  File \"/opt/anaconda3/lib/python3.13/multiprocessing/resource_tracker.py\", line 82, in __del__\n",
            "  File \"/opt/anaconda3/lib/python3.13/multiprocessing/resource_tracker.py\", line 91, in _stop\n",
            "  File \"/opt/anaconda3/lib/python3.13/multiprocessing/resource_tracker.py\", line 116, in _stop_locked\n",
            "ChildProcessError: [Errno 10] No child processes\n",
            "Exception ignored in: <function ResourceTracker.__del__ at 0x102eb1bc0>\n",
            "Traceback (most recent call last):\n",
            "  File \"/opt/anaconda3/lib/python3.13/multiprocessing/resource_tracker.py\", line 82, in __del__\n",
            "  File \"/opt/anaconda3/lib/python3.13/multiprocessing/resource_tracker.py\", line 91, in _stop\n",
            "  File \"/opt/anaconda3/lib/python3.13/multiprocessing/resource_tracker.py\", line 116, in _stop_locked\n",
            "ChildProcessError: [Errno 10] No child processes\n"
          ]
        }
      ],
      "source": [
        "# Best models\n",
        "best_knn_model = grid_search_knn.best_estimator_\n",
        "best_stacking_model = grid_search_stacking.best_estimator_\n",
        "\n",
        "# Predict & evaluate\n",
        "from sklearn.metrics import mean_squared_error, mean_absolute_percentage_error, r2_score\n",
        "\n",
        "# KNN\n",
        "y_pred_knn = best_knn_model.predict(X_test_scaled)\n",
        "test_rmse_knn = np.sqrt(mean_squared_error(y_test, y_pred_knn))\n",
        "test_mape_knn = mean_absolute_percentage_error(y_test, y_pred_knn)\n",
        "test_r2_knn = r2_score(y_test, y_pred_knn)\n",
        "\n",
        "# Stacking KNN\n",
        "y_pred_stacking = best_stacking_model.predict(X_test_scaled)\n",
        "test_rmse_stacking = np.sqrt(mean_squared_error(y_test, y_pred_stacking))\n",
        "test_mape_stacking = mean_absolute_percentage_error(y_test, y_pred_stacking)\n",
        "test_r2_stacking = r2_score(y_test, y_pred_stacking)\n",
        "\n",
        "# Combine results\n",
        "results = pd.DataFrame({\n",
        "    'Model': ['KNN', 'Stacking KNN'],\n",
        "    'Test RMSE': [test_rmse_knn, test_rmse_stacking],\n",
        "    'Test MAPE': [test_mape_knn, test_mape_stacking],\n",
        "    'Test R²': [test_r2_knn, test_r2_stacking]\n",
        "})\n",
        "results"
      ]
    },
    {
      "cell_type": "markdown",
      "metadata": {},
      "source": [
        "## 7.6 Perbandingan Sebelum & Sesudah Tuning"
      ]
    },
    {
      "cell_type": "markdown",
      "metadata": {},
      "source": [
        "- Setelah tuning, kedua model mengalami peningkatan performa:\n",
        "\n",
        "- RMSE menurun (lebih akurat).\n",
        "\n",
        "- R² meningkat (kemampuan menjelaskan variasi data lebih tinggi).\n",
        "\n",
        "- KNN tetap menjadi model terbaik dengan RMSE 57,420 dan R² 0.742."
      ]
    },
    {
      "cell_type": "markdown",
      "metadata": {},
      "source": [
        "Tahap *hyperparameter tuning* berhasil meningkatkan performa model, di mana:\n",
        "- Model **KNN** dengan parameter optimal (`n_neighbors=7`, `weights='distance'`) memberikan performa terbaik.\n",
        "- Nilai RMSE menurun dari 58,710 menjadi **57,420**, MAPE turun menjadi **21%**, dan R² naik menjadi **0.742**.\n",
        "- Model **Stacking-KNN** juga mengalami peningkatan, tetapi tetap sedikit di bawah performa KNN tunggal.\n",
        "\n",
        "Dengan hasil ini, **KNN Regressor (tuned)** dipilih sebagai *final model* untuk prediksi harga rumah di California karena memberikan keseimbangan terbaik antara akurasi dan kompleksitas."
      ]
    },
    {
      "cell_type": "markdown",
      "metadata": {
        "id": "JjTvqLW6ZtXV"
      },
      "source": [
        "# Intepretasi\n",
        "\n",
        "- Model KNN menunjukkan nilai RMSE yang konsisten antara hasil cross-validation (58,162.68) dan test set (58,710.85). Perbedaan yang sangat kecil ini mengindikasikan bahwa model KNN memiliki kemampuan generalisasi yang baik terhadap data baru, tanpa adanya indikasi overfitting maupun underfitting.\n",
        "\n",
        "- Model Stacking-KNN juga menampilkan performa yang serupa, dengan nilai RMSE pada cross-validation (60,067.87) dan test set (60,911.13) yang relatif stabil. Hal ini memperkuat bukti bahwa model gabungan ini mampu mengenali pola data dengan baik dan tetap stabil terhadap variasi data pelatihan maupun pengujian.\n",
        "\n",
        "- Konsistensi performa antara hasil cross-validation dan test set pada kedua model menunjukkan bahwa proses pelatihan telah berjalan efektif dan tidak menimbulkan bias model yang signifikan. Dengan demikian, model dapat dianggap mampu menangkap pola hubungan antara fitur dan target secara optimal tanpa kehilangan kemampuan generalisasi."
      ]
    },
    {
      "cell_type": "markdown",
      "metadata": {
        "id": "N5y8O9nfZ-7C"
      },
      "source": [
        "# Kesimpulan dan Rekomendasi\n",
        "\n",
        "- Setelah dilakukan proses *hyperparameter tuning*, model terbaik yang diperoleh adalah **KNN Regressor** dengan parameter optimal `n_neighbors=7`, `weights='distance'`. Model ini mampu menjelaskan **74.15%** variasi harga rumah di California (R² = 0.741) dengan rata-rata kesalahan prediksi sebesar **21.03%** (MAPE).  \n",
        "- Peningkatan performa model setelah tuning menunjukkan bahwa pemilihan parameter yang tepat sangat berpengaruh terhadap kemampuan prediksi model.  \n",
        "\n",
        "**Rekomendasi Pengembangan Selanjutnya:**\n",
        "1. **Penambahan fitur baru** yang lebih kontekstual terhadap harga properti, seperti luas tanah, tipe bangunan, jarak ke pusat kota, dan ketersediaan fasilitas publik. Hal ini dapat memperkaya informasi yang digunakan model untuk belajar.\n",
        "2. **Analisis korelasi antar fitur**, untuk mengurangi multikolinearitas dan mempertahankan fitur yang paling relevan terhadap target.\n",
        "3. **Eksperimen dengan model non-linear lainnya**, seperti Gradient Boosting, CatBoost, atau LightGBM, untuk membandingkan kinerja dan potensi peningkatan akurasi.  \n",
        "\n",
        "Dengan langkah-langkah tersebut, diharapkan model prediksi harga rumah dapat menjadi alat bantu yang lebih andal bagi pelaku industri properti dalam menentukan strategi harga yang kompetitif."
      ]
    },
    {
      "cell_type": "markdown",
      "metadata": {
        "id": "WVRnx_drWiwi"
      },
      "source": [
        "# 8. Save Model\n"
      ]
    },
    {
      "cell_type": "code",
      "execution_count": 363,
      "metadata": {},
      "outputs": [
        {
          "name": "stdout",
          "output_type": "stream",
          "text": [
            "✅ Model berhasil disimpan sebagai 'Model_Prediksi_Harga_Rumah.sav'\n"
          ]
        }
      ],
      "source": [
        "# ==============================\n",
        "# 8. Save Final Model\n",
        "# ==============================\n",
        "\n",
        "import pickle\n",
        "from sklearn.neighbors import KNeighborsRegressor\n",
        "\n",
        "# Inisialisasi model final dengan parameter hasil tuning\n",
        "final_model = KNeighborsRegressor(algorithm='auto', n_neighbors=7, weights='distance')\n",
        "\n",
        "# Latih model dengan seluruh data training\n",
        "final_model.fit(X_train_scaled, y_train)\n",
        "\n",
        "# Simpan model ke file .sav\n",
        "pickle.dump(final_model, open('Model_Prediksi_Harga_Rumah.sav', 'wb'))\n",
        "\n",
        "print(\"✅ Model berhasil disimpan sebagai 'Model_Prediksi_Harga_Rumah.sav'\")\n"
      ]
    },
    {
      "cell_type": "markdown",
      "metadata": {},
      "source": [
        "## **8. Save Final Model**\n",
        "\n",
        "Model terbaik yang telah melalui proses *hyperparameter tuning* disimpan dalam format `.sav` menggunakan library `pickle`.  \n",
        "File ini nantinya dapat digunakan kembali tanpa perlu melatih model dari awal, sehingga mempermudah proses deployment dan demonstrasi.\n",
        "\n",
        "**Nama file:** `Model_Prediksi_Harga_Rumah.sav`"
      ]
    }
  ],
  "metadata": {
    "colab": {
      "collapsed_sections": [
        "e2YySnWypfEG",
        "vDsqvQcSgBCQ",
        "CL5qwyhdgFb1",
        "qd7pBSPNvAD_",
        "X93TqpsfewBo",
        "OGeBZEOIjTwm",
        "1H3DCGsdz6q0",
        "fUE7_m_Q84d2",
        "fnN588H4Q-bu",
        "SXnrpVmXpMt2",
        "N5y8O9nfZ-7C",
        "WVRnx_drWiwi"
      ],
      "provenance": [],
      "toc_visible": true
    },
    "kernelspec": {
      "display_name": "base",
      "language": "python",
      "name": "python3"
    },
    "language_info": {
      "codemirror_mode": {
        "name": "ipython",
        "version": 3
      },
      "file_extension": ".py",
      "mimetype": "text/x-python",
      "name": "python",
      "nbconvert_exporter": "python",
      "pygments_lexer": "ipython3",
      "version": "3.13.5"
    }
  },
  "nbformat": 4,
  "nbformat_minor": 0
}
